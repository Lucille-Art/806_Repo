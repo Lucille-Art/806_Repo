{
 "cells": [
  {
   "cell_type": "code",
   "execution_count": 1,
   "metadata": {},
   "outputs": [],
   "source": [
    "import pandas as pd\n",
    "import os"
   ]
  },
  {
   "cell_type": "code",
   "execution_count": 2,
   "metadata": {},
   "outputs": [],
   "source": [
    "os.chdir('/Users/lucilleartigaud/Ironhack/Cours/806_Repo/Projects/PROJECT_WEEK_5')"
   ]
  },
  {
   "cell_type": "code",
   "execution_count": 3,
   "metadata": {},
   "outputs": [
    {
     "data": {
      "text/html": [
       "<div>\n",
       "<style scoped>\n",
       "    .dataframe tbody tr th:only-of-type {\n",
       "        vertical-align: middle;\n",
       "    }\n",
       "\n",
       "    .dataframe tbody tr th {\n",
       "        vertical-align: top;\n",
       "    }\n",
       "\n",
       "    .dataframe thead th {\n",
       "        text-align: right;\n",
       "    }\n",
       "</style>\n",
       "<table border=\"1\" class=\"dataframe\">\n",
       "  <thead>\n",
       "    <tr style=\"text-align: right;\">\n",
       "      <th></th>\n",
       "      <th>Family</th>\n",
       "      <th>Genus</th>\n",
       "      <th>CommonName</th>\n",
       "      <th>Species</th>\n",
       "      <th>Species (ITIS)</th>\n",
       "      <th>Habitat_Forest</th>\n",
       "      <th>Habitat_Savanna</th>\n",
       "      <th>Habitat_Shrubland</th>\n",
       "      <th>Habitat_Grassland</th>\n",
       "      <th>Habitat_Wetlands</th>\n",
       "      <th>Habitat_Rocky areas</th>\n",
       "      <th>Habitat_Desert</th>\n",
       "      <th>Refs1</th>\n",
       "      <th>Refs2</th>\n",
       "    </tr>\n",
       "  </thead>\n",
       "  <tbody>\n",
       "    <tr>\n",
       "      <th>0</th>\n",
       "      <td>Cercopithecidae</td>\n",
       "      <td>Allenopithecus</td>\n",
       "      <td>Allen_s_Swamp_Monkey</td>\n",
       "      <td>Allenopithecus_nigroviridis</td>\n",
       "      <td>Allenopithecus_nigroviridis</td>\n",
       "      <td>1.0</td>\n",
       "      <td>0.0</td>\n",
       "      <td>0.0</td>\n",
       "      <td>0.0</td>\n",
       "      <td>1.0</td>\n",
       "      <td>0.0</td>\n",
       "      <td>0.0</td>\n",
       "      <td>227.0</td>\n",
       "      <td>NaN</td>\n",
       "    </tr>\n",
       "    <tr>\n",
       "      <th>1</th>\n",
       "      <td>Cheirogaleidae</td>\n",
       "      <td>Allocebus</td>\n",
       "      <td>Hairy_eared_Dwarf_Lemur</td>\n",
       "      <td>Allocebus_trichotis</td>\n",
       "      <td>Allocebus_trichotis</td>\n",
       "      <td>1.0</td>\n",
       "      <td>0.0</td>\n",
       "      <td>0.0</td>\n",
       "      <td>0.0</td>\n",
       "      <td>0.0</td>\n",
       "      <td>0.0</td>\n",
       "      <td>0.0</td>\n",
       "      <td>227.0</td>\n",
       "      <td>NaN</td>\n",
       "    </tr>\n",
       "    <tr>\n",
       "      <th>2</th>\n",
       "      <td>Cercopithecidae</td>\n",
       "      <td>Allochrocebus</td>\n",
       "      <td>L_Hoest_s_Monkey</td>\n",
       "      <td>Allochrocebus_lhoesti</td>\n",
       "      <td>Allochrocebus_lhoesti</td>\n",
       "      <td>1.0</td>\n",
       "      <td>0.0</td>\n",
       "      <td>1.0</td>\n",
       "      <td>0.0</td>\n",
       "      <td>1.0</td>\n",
       "      <td>0.0</td>\n",
       "      <td>0.0</td>\n",
       "      <td>145.0</td>\n",
       "      <td>245.0</td>\n",
       "    </tr>\n",
       "    <tr>\n",
       "      <th>3</th>\n",
       "      <td>Cercopithecidae</td>\n",
       "      <td>Allochrocebus</td>\n",
       "      <td>Preuss_s_Monkey</td>\n",
       "      <td>Allochrocebus_preussi</td>\n",
       "      <td>Allochrocebus_preussi</td>\n",
       "      <td>1.0</td>\n",
       "      <td>0.0</td>\n",
       "      <td>0.0</td>\n",
       "      <td>0.0</td>\n",
       "      <td>0.0</td>\n",
       "      <td>0.0</td>\n",
       "      <td>0.0</td>\n",
       "      <td>376.0</td>\n",
       "      <td>NaN</td>\n",
       "    </tr>\n",
       "    <tr>\n",
       "      <th>4</th>\n",
       "      <td>Cercopithecidae</td>\n",
       "      <td>Allochrocebus</td>\n",
       "      <td>Sun_tailed_Monkey</td>\n",
       "      <td>Allochrocebus_solatus</td>\n",
       "      <td>Allochrocebus_solatus</td>\n",
       "      <td>1.0</td>\n",
       "      <td>0.0</td>\n",
       "      <td>0.0</td>\n",
       "      <td>0.0</td>\n",
       "      <td>0.0</td>\n",
       "      <td>0.0</td>\n",
       "      <td>0.0</td>\n",
       "      <td>379.0</td>\n",
       "      <td>NaN</td>\n",
       "    </tr>\n",
       "    <tr>\n",
       "      <th>...</th>\n",
       "      <td>...</td>\n",
       "      <td>...</td>\n",
       "      <td>...</td>\n",
       "      <td>...</td>\n",
       "      <td>...</td>\n",
       "      <td>...</td>\n",
       "      <td>...</td>\n",
       "      <td>...</td>\n",
       "      <td>...</td>\n",
       "      <td>...</td>\n",
       "      <td>...</td>\n",
       "      <td>...</td>\n",
       "      <td>...</td>\n",
       "      <td>...</td>\n",
       "    </tr>\n",
       "    <tr>\n",
       "      <th>521</th>\n",
       "      <td>Cercopithecidae</td>\n",
       "      <td>Trachypithecus</td>\n",
       "      <td>Cat_Ba_Langur</td>\n",
       "      <td>Trachypithecus_poliocephalus</td>\n",
       "      <td>Trachypithecus_poliocephalus</td>\n",
       "      <td>1.0</td>\n",
       "      <td>0.0</td>\n",
       "      <td>1.0</td>\n",
       "      <td>0.0</td>\n",
       "      <td>0.0</td>\n",
       "      <td>0.0</td>\n",
       "      <td>0.0</td>\n",
       "      <td>254.0</td>\n",
       "      <td>199.0</td>\n",
       "    </tr>\n",
       "    <tr>\n",
       "      <th>522</th>\n",
       "      <td>Cercopithecidae</td>\n",
       "      <td>Trachypithecus</td>\n",
       "      <td>Selangor_Silvery_Langur</td>\n",
       "      <td>Trachypithecus_selangorensis</td>\n",
       "      <td>Trachypithecus_selangorensis</td>\n",
       "      <td>1.0</td>\n",
       "      <td>0.0</td>\n",
       "      <td>0.0</td>\n",
       "      <td>0.0</td>\n",
       "      <td>0.0</td>\n",
       "      <td>0.0</td>\n",
       "      <td>0.0</td>\n",
       "      <td>1095.0</td>\n",
       "      <td>NaN</td>\n",
       "    </tr>\n",
       "    <tr>\n",
       "      <th>523</th>\n",
       "      <td>Cercopithecidae</td>\n",
       "      <td>Trachypithecus</td>\n",
       "      <td>Shortridge_s_Langur</td>\n",
       "      <td>Trachypithecus_shortridgei</td>\n",
       "      <td>Trachypithecus_shortridgei</td>\n",
       "      <td>1.0</td>\n",
       "      <td>0.0</td>\n",
       "      <td>0.0</td>\n",
       "      <td>0.0</td>\n",
       "      <td>0.0</td>\n",
       "      <td>0.0</td>\n",
       "      <td>0.0</td>\n",
       "      <td>227.0</td>\n",
       "      <td>NaN</td>\n",
       "    </tr>\n",
       "    <tr>\n",
       "      <th>524</th>\n",
       "      <td>Lemuridae</td>\n",
       "      <td>Varecia</td>\n",
       "      <td>Red_Ruffed_Lemur</td>\n",
       "      <td>Varecia_rubra</td>\n",
       "      <td>Varecia_rubra</td>\n",
       "      <td>1.0</td>\n",
       "      <td>0.0</td>\n",
       "      <td>0.0</td>\n",
       "      <td>0.0</td>\n",
       "      <td>0.0</td>\n",
       "      <td>0.0</td>\n",
       "      <td>0.0</td>\n",
       "      <td>227.0</td>\n",
       "      <td>NaN</td>\n",
       "    </tr>\n",
       "    <tr>\n",
       "      <th>525</th>\n",
       "      <td>Lemuridae</td>\n",
       "      <td>Varecia</td>\n",
       "      <td>Black_and_white_Ruffed_Lemur</td>\n",
       "      <td>Varecia_variegata</td>\n",
       "      <td>Varecia_variegata</td>\n",
       "      <td>1.0</td>\n",
       "      <td>0.0</td>\n",
       "      <td>0.0</td>\n",
       "      <td>0.0</td>\n",
       "      <td>0.0</td>\n",
       "      <td>0.0</td>\n",
       "      <td>0.0</td>\n",
       "      <td>227.0</td>\n",
       "      <td>NaN</td>\n",
       "    </tr>\n",
       "  </tbody>\n",
       "</table>\n",
       "<p>526 rows × 14 columns</p>\n",
       "</div>"
      ],
      "text/plain": [
       "              Family           Genus                    CommonName  \\\n",
       "0    Cercopithecidae  Allenopithecus          Allen_s_Swamp_Monkey   \n",
       "1     Cheirogaleidae       Allocebus       Hairy_eared_Dwarf_Lemur   \n",
       "2    Cercopithecidae   Allochrocebus              L_Hoest_s_Monkey   \n",
       "3    Cercopithecidae   Allochrocebus               Preuss_s_Monkey   \n",
       "4    Cercopithecidae   Allochrocebus             Sun_tailed_Monkey   \n",
       "..               ...             ...                           ...   \n",
       "521  Cercopithecidae  Trachypithecus                 Cat_Ba_Langur   \n",
       "522  Cercopithecidae  Trachypithecus       Selangor_Silvery_Langur   \n",
       "523  Cercopithecidae  Trachypithecus           Shortridge_s_Langur   \n",
       "524        Lemuridae         Varecia              Red_Ruffed_Lemur   \n",
       "525        Lemuridae         Varecia  Black_and_white_Ruffed_Lemur   \n",
       "\n",
       "                          Species                Species (ITIS)  \\\n",
       "0     Allenopithecus_nigroviridis   Allenopithecus_nigroviridis   \n",
       "1             Allocebus_trichotis           Allocebus_trichotis   \n",
       "2           Allochrocebus_lhoesti         Allochrocebus_lhoesti   \n",
       "3           Allochrocebus_preussi         Allochrocebus_preussi   \n",
       "4           Allochrocebus_solatus         Allochrocebus_solatus   \n",
       "..                            ...                           ...   \n",
       "521  Trachypithecus_poliocephalus  Trachypithecus_poliocephalus   \n",
       "522  Trachypithecus_selangorensis  Trachypithecus_selangorensis   \n",
       "523    Trachypithecus_shortridgei    Trachypithecus_shortridgei   \n",
       "524                 Varecia_rubra                 Varecia_rubra   \n",
       "525             Varecia_variegata             Varecia_variegata   \n",
       "\n",
       "     Habitat_Forest  Habitat_Savanna  Habitat_Shrubland  Habitat_Grassland  \\\n",
       "0               1.0              0.0                0.0                0.0   \n",
       "1               1.0              0.0                0.0                0.0   \n",
       "2               1.0              0.0                1.0                0.0   \n",
       "3               1.0              0.0                0.0                0.0   \n",
       "4               1.0              0.0                0.0                0.0   \n",
       "..              ...              ...                ...                ...   \n",
       "521             1.0              0.0                1.0                0.0   \n",
       "522             1.0              0.0                0.0                0.0   \n",
       "523             1.0              0.0                0.0                0.0   \n",
       "524             1.0              0.0                0.0                0.0   \n",
       "525             1.0              0.0                0.0                0.0   \n",
       "\n",
       "     Habitat_Wetlands  Habitat_Rocky areas  Habitat_Desert   Refs1  Refs2  \n",
       "0                 1.0                  0.0             0.0   227.0    NaN  \n",
       "1                 0.0                  0.0             0.0   227.0    NaN  \n",
       "2                 1.0                  0.0             0.0   145.0  245.0  \n",
       "3                 0.0                  0.0             0.0   376.0    NaN  \n",
       "4                 0.0                  0.0             0.0   379.0    NaN  \n",
       "..                ...                  ...             ...     ...    ...  \n",
       "521               0.0                  0.0             0.0   254.0  199.0  \n",
       "522               0.0                  0.0             0.0  1095.0    NaN  \n",
       "523               0.0                  0.0             0.0   227.0    NaN  \n",
       "524               0.0                  0.0             0.0   227.0    NaN  \n",
       "525               0.0                  0.0             0.0   227.0    NaN  \n",
       "\n",
       "[526 rows x 14 columns]"
      ]
     },
     "execution_count": 3,
     "metadata": {},
     "output_type": "execute_result"
    }
   ],
   "source": [
    "df_habitat = pd.read_csv('Habitat-3.csv',encoding='latin-1')\n",
    "df_habitat"
   ]
  },
  {
   "cell_type": "code",
   "execution_count": 4,
   "metadata": {},
   "outputs": [
    {
     "data": {
      "text/plain": [
       "'There are some misisng values in Species & Species ITIS, I choose to delete these columns, \\nbecause it does not give many additionnal informations.'"
      ]
     },
     "execution_count": 4,
     "metadata": {},
     "output_type": "execute_result"
    }
   ],
   "source": [
    "df_habitat.isna().sum()\n",
    "\n",
    "\"\"\"There are some misisng values in Species & Species ITIS, I choose to delete these columns, \n",
    "because it does not give many additionnal informations.\"\"\""
   ]
  },
  {
   "cell_type": "code",
   "execution_count": 13,
   "metadata": {},
   "outputs": [
    {
     "data": {
      "text/html": [
       "<div>\n",
       "<style scoped>\n",
       "    .dataframe tbody tr th:only-of-type {\n",
       "        vertical-align: middle;\n",
       "    }\n",
       "\n",
       "    .dataframe tbody tr th {\n",
       "        vertical-align: top;\n",
       "    }\n",
       "\n",
       "    .dataframe thead th {\n",
       "        text-align: right;\n",
       "    }\n",
       "</style>\n",
       "<table border=\"1\" class=\"dataframe\">\n",
       "  <thead>\n",
       "    <tr style=\"text-align: right;\">\n",
       "      <th></th>\n",
       "      <th>Family</th>\n",
       "      <th>Genus</th>\n",
       "      <th>CommonName</th>\n",
       "      <th>Habitat_Forest</th>\n",
       "      <th>Habitat_Savanna</th>\n",
       "      <th>Habitat_Shrubland</th>\n",
       "      <th>Habitat_Grassland</th>\n",
       "      <th>Habitat_Wetlands</th>\n",
       "      <th>Habitat_Rocky areas</th>\n",
       "      <th>Habitat_Desert</th>\n",
       "    </tr>\n",
       "  </thead>\n",
       "  <tbody>\n",
       "    <tr>\n",
       "      <th>0</th>\n",
       "      <td>Cercopithecidae</td>\n",
       "      <td>Allenopithecus</td>\n",
       "      <td>Allen_s_Swamp_Monkey</td>\n",
       "      <td>1.0</td>\n",
       "      <td>0.0</td>\n",
       "      <td>0.0</td>\n",
       "      <td>0.0</td>\n",
       "      <td>1.0</td>\n",
       "      <td>0.0</td>\n",
       "      <td>0.0</td>\n",
       "    </tr>\n",
       "    <tr>\n",
       "      <th>1</th>\n",
       "      <td>Cheirogaleidae</td>\n",
       "      <td>Allocebus</td>\n",
       "      <td>Hairy_eared_Dwarf_Lemur</td>\n",
       "      <td>1.0</td>\n",
       "      <td>0.0</td>\n",
       "      <td>0.0</td>\n",
       "      <td>0.0</td>\n",
       "      <td>0.0</td>\n",
       "      <td>0.0</td>\n",
       "      <td>0.0</td>\n",
       "    </tr>\n",
       "    <tr>\n",
       "      <th>2</th>\n",
       "      <td>Cercopithecidae</td>\n",
       "      <td>Allochrocebus</td>\n",
       "      <td>L_Hoest_s_Monkey</td>\n",
       "      <td>1.0</td>\n",
       "      <td>0.0</td>\n",
       "      <td>1.0</td>\n",
       "      <td>0.0</td>\n",
       "      <td>1.0</td>\n",
       "      <td>0.0</td>\n",
       "      <td>0.0</td>\n",
       "    </tr>\n",
       "    <tr>\n",
       "      <th>3</th>\n",
       "      <td>Cercopithecidae</td>\n",
       "      <td>Allochrocebus</td>\n",
       "      <td>Preuss_s_Monkey</td>\n",
       "      <td>1.0</td>\n",
       "      <td>0.0</td>\n",
       "      <td>0.0</td>\n",
       "      <td>0.0</td>\n",
       "      <td>0.0</td>\n",
       "      <td>0.0</td>\n",
       "      <td>0.0</td>\n",
       "    </tr>\n",
       "    <tr>\n",
       "      <th>4</th>\n",
       "      <td>Cercopithecidae</td>\n",
       "      <td>Allochrocebus</td>\n",
       "      <td>Sun_tailed_Monkey</td>\n",
       "      <td>1.0</td>\n",
       "      <td>0.0</td>\n",
       "      <td>0.0</td>\n",
       "      <td>0.0</td>\n",
       "      <td>0.0</td>\n",
       "      <td>0.0</td>\n",
       "      <td>0.0</td>\n",
       "    </tr>\n",
       "    <tr>\n",
       "      <th>...</th>\n",
       "      <td>...</td>\n",
       "      <td>...</td>\n",
       "      <td>...</td>\n",
       "      <td>...</td>\n",
       "      <td>...</td>\n",
       "      <td>...</td>\n",
       "      <td>...</td>\n",
       "      <td>...</td>\n",
       "      <td>...</td>\n",
       "      <td>...</td>\n",
       "    </tr>\n",
       "    <tr>\n",
       "      <th>521</th>\n",
       "      <td>Cercopithecidae</td>\n",
       "      <td>Trachypithecus</td>\n",
       "      <td>Cat_Ba_Langur</td>\n",
       "      <td>1.0</td>\n",
       "      <td>0.0</td>\n",
       "      <td>1.0</td>\n",
       "      <td>0.0</td>\n",
       "      <td>0.0</td>\n",
       "      <td>0.0</td>\n",
       "      <td>0.0</td>\n",
       "    </tr>\n",
       "    <tr>\n",
       "      <th>522</th>\n",
       "      <td>Cercopithecidae</td>\n",
       "      <td>Trachypithecus</td>\n",
       "      <td>Selangor_Silvery_Langur</td>\n",
       "      <td>1.0</td>\n",
       "      <td>0.0</td>\n",
       "      <td>0.0</td>\n",
       "      <td>0.0</td>\n",
       "      <td>0.0</td>\n",
       "      <td>0.0</td>\n",
       "      <td>0.0</td>\n",
       "    </tr>\n",
       "    <tr>\n",
       "      <th>523</th>\n",
       "      <td>Cercopithecidae</td>\n",
       "      <td>Trachypithecus</td>\n",
       "      <td>Shortridge_s_Langur</td>\n",
       "      <td>1.0</td>\n",
       "      <td>0.0</td>\n",
       "      <td>0.0</td>\n",
       "      <td>0.0</td>\n",
       "      <td>0.0</td>\n",
       "      <td>0.0</td>\n",
       "      <td>0.0</td>\n",
       "    </tr>\n",
       "    <tr>\n",
       "      <th>524</th>\n",
       "      <td>Lemuridae</td>\n",
       "      <td>Varecia</td>\n",
       "      <td>Red_Ruffed_Lemur</td>\n",
       "      <td>1.0</td>\n",
       "      <td>0.0</td>\n",
       "      <td>0.0</td>\n",
       "      <td>0.0</td>\n",
       "      <td>0.0</td>\n",
       "      <td>0.0</td>\n",
       "      <td>0.0</td>\n",
       "    </tr>\n",
       "    <tr>\n",
       "      <th>525</th>\n",
       "      <td>Lemuridae</td>\n",
       "      <td>Varecia</td>\n",
       "      <td>Black_and_white_Ruffed_Lemur</td>\n",
       "      <td>1.0</td>\n",
       "      <td>0.0</td>\n",
       "      <td>0.0</td>\n",
       "      <td>0.0</td>\n",
       "      <td>0.0</td>\n",
       "      <td>0.0</td>\n",
       "      <td>0.0</td>\n",
       "    </tr>\n",
       "  </tbody>\n",
       "</table>\n",
       "<p>526 rows × 10 columns</p>\n",
       "</div>"
      ],
      "text/plain": [
       "              Family           Genus                    CommonName  \\\n",
       "0    Cercopithecidae  Allenopithecus          Allen_s_Swamp_Monkey   \n",
       "1     Cheirogaleidae       Allocebus       Hairy_eared_Dwarf_Lemur   \n",
       "2    Cercopithecidae   Allochrocebus              L_Hoest_s_Monkey   \n",
       "3    Cercopithecidae   Allochrocebus               Preuss_s_Monkey   \n",
       "4    Cercopithecidae   Allochrocebus             Sun_tailed_Monkey   \n",
       "..               ...             ...                           ...   \n",
       "521  Cercopithecidae  Trachypithecus                 Cat_Ba_Langur   \n",
       "522  Cercopithecidae  Trachypithecus       Selangor_Silvery_Langur   \n",
       "523  Cercopithecidae  Trachypithecus           Shortridge_s_Langur   \n",
       "524        Lemuridae         Varecia              Red_Ruffed_Lemur   \n",
       "525        Lemuridae         Varecia  Black_and_white_Ruffed_Lemur   \n",
       "\n",
       "     Habitat_Forest  Habitat_Savanna  Habitat_Shrubland  Habitat_Grassland  \\\n",
       "0               1.0              0.0                0.0                0.0   \n",
       "1               1.0              0.0                0.0                0.0   \n",
       "2               1.0              0.0                1.0                0.0   \n",
       "3               1.0              0.0                0.0                0.0   \n",
       "4               1.0              0.0                0.0                0.0   \n",
       "..              ...              ...                ...                ...   \n",
       "521             1.0              0.0                1.0                0.0   \n",
       "522             1.0              0.0                0.0                0.0   \n",
       "523             1.0              0.0                0.0                0.0   \n",
       "524             1.0              0.0                0.0                0.0   \n",
       "525             1.0              0.0                0.0                0.0   \n",
       "\n",
       "     Habitat_Wetlands  Habitat_Rocky areas  Habitat_Desert  \n",
       "0                 1.0                  0.0             0.0  \n",
       "1                 0.0                  0.0             0.0  \n",
       "2                 1.0                  0.0             0.0  \n",
       "3                 0.0                  0.0             0.0  \n",
       "4                 0.0                  0.0             0.0  \n",
       "..                ...                  ...             ...  \n",
       "521               0.0                  0.0             0.0  \n",
       "522               0.0                  0.0             0.0  \n",
       "523               0.0                  0.0             0.0  \n",
       "524               0.0                  0.0             0.0  \n",
       "525               0.0                  0.0             0.0  \n",
       "\n",
       "[526 rows x 10 columns]"
      ]
     },
     "execution_count": 13,
     "metadata": {},
     "output_type": "execute_result"
    }
   ],
   "source": [
    "#df_habitat.drop(['Species', 'Species (ITIS)', 'Refs1','Refs2'], axis=1, inplace = True)\n",
    "\n",
    "df_habitat"
   ]
  },
  {
   "cell_type": "code",
   "execution_count": 39,
   "metadata": {},
   "outputs": [
    {
     "data": {
      "text/plain": [
       "['HomeRange.csv',\n",
       " 'TrophicGuild.csv',\n",
       " '.DS_Store',\n",
       " 'Untitled.ipynb',\n",
       " 'Locomotion.csv',\n",
       " 'Habitat-3.csv',\n",
       " 'df_habitat_cleaned.csv',\n",
       " 'BodyMass_.csv',\n",
       " 'IUCN_Poptrend_Realm-2.csv',\n",
       " '.ipynb_checkpoints',\n",
       " 'Test monkeys.ipynb']"
      ]
     },
     "execution_count": 39,
     "metadata": {},
     "output_type": "execute_result"
    }
   ],
   "source": [
    "df_habitat.to_csv('df_habitat_cleaned.csv')\n",
    "os.listdir()"
   ]
  },
  {
   "cell_type": "code",
   "execution_count": 42,
   "metadata": {},
   "outputs": [
    {
     "data": {
      "text/html": [
       "<div>\n",
       "<style scoped>\n",
       "    .dataframe tbody tr th:only-of-type {\n",
       "        vertical-align: middle;\n",
       "    }\n",
       "\n",
       "    .dataframe tbody tr th {\n",
       "        vertical-align: top;\n",
       "    }\n",
       "\n",
       "    .dataframe thead th {\n",
       "        text-align: right;\n",
       "    }\n",
       "</style>\n",
       "<table border=\"1\" class=\"dataframe\">\n",
       "  <thead>\n",
       "    <tr style=\"text-align: right;\">\n",
       "      <th></th>\n",
       "      <th>Family</th>\n",
       "      <th>Genus</th>\n",
       "      <th>CommonName</th>\n",
       "      <th>Species</th>\n",
       "      <th>Species (ITIS)</th>\n",
       "      <th>BodyMass_kg</th>\n",
       "      <th>BodyMassMale_kg</th>\n",
       "      <th>BodyMassFemale_kg</th>\n",
       "      <th>Refs1</th>\n",
       "    </tr>\n",
       "  </thead>\n",
       "  <tbody>\n",
       "    <tr>\n",
       "      <th>0</th>\n",
       "      <td>Cercopithecidae</td>\n",
       "      <td>Allenopithecus</td>\n",
       "      <td>Allen_s_Swamp_Monkey</td>\n",
       "      <td>Allenopithecus_nigroviridis</td>\n",
       "      <td>Allenopithecus_nigroviridis</td>\n",
       "      <td>4.65</td>\n",
       "      <td>6.130</td>\n",
       "      <td>3.180</td>\n",
       "      <td>210</td>\n",
       "    </tr>\n",
       "    <tr>\n",
       "      <th>1</th>\n",
       "      <td>Cercopithecidae</td>\n",
       "      <td>Allenopithecus</td>\n",
       "      <td>Allen_s_Swamp_Monkey</td>\n",
       "      <td>Allenopithecus_nigroviridis</td>\n",
       "      <td>Allenopithecus_nigroviridis</td>\n",
       "      <td>5.95</td>\n",
       "      <td>NaN</td>\n",
       "      <td>NaN</td>\n",
       "      <td>371</td>\n",
       "    </tr>\n",
       "    <tr>\n",
       "      <th>2</th>\n",
       "      <td>Cheirogaleidae</td>\n",
       "      <td>Allocebus</td>\n",
       "      <td>Hairy_eared_Dwarf_Lemur</td>\n",
       "      <td>Allocebus_trichotis</td>\n",
       "      <td>Allocebus_trichotis</td>\n",
       "      <td>0.08</td>\n",
       "      <td>0.092</td>\n",
       "      <td>0.084</td>\n",
       "      <td>315</td>\n",
       "    </tr>\n",
       "    <tr>\n",
       "      <th>3</th>\n",
       "      <td>Cheirogaleidae</td>\n",
       "      <td>Allocebus</td>\n",
       "      <td>Hairy_eared_Dwarf_Lemur</td>\n",
       "      <td>Allocebus_trichotis</td>\n",
       "      <td>Allocebus_trichotis</td>\n",
       "      <td>0.08</td>\n",
       "      <td>NaN</td>\n",
       "      <td>NaN</td>\n",
       "      <td>264</td>\n",
       "    </tr>\n",
       "    <tr>\n",
       "      <th>4</th>\n",
       "      <td>Cercopithecidae</td>\n",
       "      <td>Allochrocebus</td>\n",
       "      <td>L_Hoest_s_Monkey</td>\n",
       "      <td>Allochrocebus_lhoesti</td>\n",
       "      <td>Allochrocebus_lhoesti</td>\n",
       "      <td>5.00</td>\n",
       "      <td>7.000</td>\n",
       "      <td>3.000</td>\n",
       "      <td>155</td>\n",
       "    </tr>\n",
       "    <tr>\n",
       "      <th>...</th>\n",
       "      <td>...</td>\n",
       "      <td>...</td>\n",
       "      <td>...</td>\n",
       "      <td>...</td>\n",
       "      <td>...</td>\n",
       "      <td>...</td>\n",
       "      <td>...</td>\n",
       "      <td>...</td>\n",
       "      <td>...</td>\n",
       "    </tr>\n",
       "    <tr>\n",
       "      <th>624</th>\n",
       "      <td>Cercopithecidae</td>\n",
       "      <td>Trachypithecus</td>\n",
       "      <td>Shortridge_s_Langur</td>\n",
       "      <td>Trachypithecus_shortridgei</td>\n",
       "      <td>Trachypithecus_shortridgei</td>\n",
       "      <td>NaN</td>\n",
       "      <td>NaN</td>\n",
       "      <td>NaN</td>\n",
       "      <td>NaN</td>\n",
       "    </tr>\n",
       "    <tr>\n",
       "      <th>625</th>\n",
       "      <td>Lemuridae</td>\n",
       "      <td>Varecia</td>\n",
       "      <td>Red_Ruffed_Lemur</td>\n",
       "      <td>Varecia_rubra</td>\n",
       "      <td>Varecia_rubra</td>\n",
       "      <td>3.51</td>\n",
       "      <td>3.550</td>\n",
       "      <td>3.470</td>\n",
       "      <td>290</td>\n",
       "    </tr>\n",
       "    <tr>\n",
       "      <th>626</th>\n",
       "      <td>Lemuridae</td>\n",
       "      <td>Varecia</td>\n",
       "      <td>Red_Ruffed_Lemur</td>\n",
       "      <td>Varecia_rubra</td>\n",
       "      <td>Varecia_rubra</td>\n",
       "      <td>3.02</td>\n",
       "      <td>NaN</td>\n",
       "      <td>NaN</td>\n",
       "      <td>264</td>\n",
       "    </tr>\n",
       "    <tr>\n",
       "      <th>627</th>\n",
       "      <td>Lemuridae</td>\n",
       "      <td>Varecia</td>\n",
       "      <td>Black_and_white_Ruffed_Lemur</td>\n",
       "      <td>Varecia_variegata</td>\n",
       "      <td>Varecia_variegata</td>\n",
       "      <td>3.58</td>\n",
       "      <td>3.630</td>\n",
       "      <td>3.520</td>\n",
       "      <td>285</td>\n",
       "    </tr>\n",
       "    <tr>\n",
       "      <th>628</th>\n",
       "      <td>Lemuridae</td>\n",
       "      <td>Varecia</td>\n",
       "      <td>Black_and_white_Ruffed_Lemur</td>\n",
       "      <td>Varecia_variegata</td>\n",
       "      <td>Varecia_variegata</td>\n",
       "      <td>3.52</td>\n",
       "      <td>NaN</td>\n",
       "      <td>NaN</td>\n",
       "      <td>264</td>\n",
       "    </tr>\n",
       "  </tbody>\n",
       "</table>\n",
       "<p>629 rows × 9 columns</p>\n",
       "</div>"
      ],
      "text/plain": [
       "              Family           Genus                    CommonName  \\\n",
       "0    Cercopithecidae  Allenopithecus          Allen_s_Swamp_Monkey   \n",
       "1    Cercopithecidae  Allenopithecus          Allen_s_Swamp_Monkey   \n",
       "2     Cheirogaleidae       Allocebus       Hairy_eared_Dwarf_Lemur   \n",
       "3     Cheirogaleidae       Allocebus       Hairy_eared_Dwarf_Lemur   \n",
       "4    Cercopithecidae   Allochrocebus              L_Hoest_s_Monkey   \n",
       "..               ...             ...                           ...   \n",
       "624  Cercopithecidae  Trachypithecus           Shortridge_s_Langur   \n",
       "625        Lemuridae         Varecia              Red_Ruffed_Lemur   \n",
       "626        Lemuridae         Varecia              Red_Ruffed_Lemur   \n",
       "627        Lemuridae         Varecia  Black_and_white_Ruffed_Lemur   \n",
       "628        Lemuridae         Varecia  Black_and_white_Ruffed_Lemur   \n",
       "\n",
       "                         Species               Species (ITIS)  BodyMass_kg  \\\n",
       "0    Allenopithecus_nigroviridis  Allenopithecus_nigroviridis         4.65   \n",
       "1    Allenopithecus_nigroviridis  Allenopithecus_nigroviridis         5.95   \n",
       "2            Allocebus_trichotis          Allocebus_trichotis         0.08   \n",
       "3            Allocebus_trichotis          Allocebus_trichotis         0.08   \n",
       "4          Allochrocebus_lhoesti        Allochrocebus_lhoesti         5.00   \n",
       "..                           ...                          ...          ...   \n",
       "624   Trachypithecus_shortridgei   Trachypithecus_shortridgei          NaN   \n",
       "625                Varecia_rubra                Varecia_rubra         3.51   \n",
       "626                Varecia_rubra                Varecia_rubra         3.02   \n",
       "627            Varecia_variegata            Varecia_variegata         3.58   \n",
       "628            Varecia_variegata            Varecia_variegata         3.52   \n",
       "\n",
       "     BodyMassMale_kg  BodyMassFemale_kg Refs1  \n",
       "0              6.130              3.180   210  \n",
       "1                NaN                NaN   371  \n",
       "2              0.092              0.084   315  \n",
       "3                NaN                NaN   264  \n",
       "4              7.000              3.000   155  \n",
       "..               ...                ...   ...  \n",
       "624              NaN                NaN   NaN  \n",
       "625            3.550              3.470   290  \n",
       "626              NaN                NaN   264  \n",
       "627            3.630              3.520   285  \n",
       "628              NaN                NaN   264  \n",
       "\n",
       "[629 rows x 9 columns]"
      ]
     },
     "execution_count": 42,
     "metadata": {},
     "output_type": "execute_result"
    }
   ],
   "source": [
    "df_mass = pd.read_csv('BodyMass_.csv',encoding='latin-1')\n",
    "df_mass"
   ]
  },
  {
   "cell_type": "code",
   "execution_count": 57,
   "metadata": {},
   "outputs": [],
   "source": [
    "#df_mass.drop(['Species', 'Species (ITIS)', 'Refs1'], axis=1, inplace = True)\n",
    "\n",
    "#df_mass.drop(['BodyMassMale_kg', 'BodyMassFemale_kg'],axis=1, inplace=True)"
   ]
  },
  {
   "cell_type": "code",
   "execution_count": 66,
   "metadata": {},
   "outputs": [],
   "source": [
    "df_mass=df_mass.rename(columns ={'BodyMass_kg': 'Average_Weight'})"
   ]
  },
  {
   "cell_type": "code",
   "execution_count": 67,
   "metadata": {},
   "outputs": [
    {
     "data": {
      "text/html": [
       "<div>\n",
       "<style scoped>\n",
       "    .dataframe tbody tr th:only-of-type {\n",
       "        vertical-align: middle;\n",
       "    }\n",
       "\n",
       "    .dataframe tbody tr th {\n",
       "        vertical-align: top;\n",
       "    }\n",
       "\n",
       "    .dataframe thead th {\n",
       "        text-align: right;\n",
       "    }\n",
       "</style>\n",
       "<table border=\"1\" class=\"dataframe\">\n",
       "  <thead>\n",
       "    <tr style=\"text-align: right;\">\n",
       "      <th></th>\n",
       "      <th>Family</th>\n",
       "      <th>Genus</th>\n",
       "      <th>CommonName</th>\n",
       "      <th>Average_Weight</th>\n",
       "    </tr>\n",
       "  </thead>\n",
       "  <tbody>\n",
       "    <tr>\n",
       "      <th>0</th>\n",
       "      <td>Cercopithecidae</td>\n",
       "      <td>Allenopithecus</td>\n",
       "      <td>Allen_s_Swamp_Monkey</td>\n",
       "      <td>4.65</td>\n",
       "    </tr>\n",
       "    <tr>\n",
       "      <th>1</th>\n",
       "      <td>Cercopithecidae</td>\n",
       "      <td>Allenopithecus</td>\n",
       "      <td>Allen_s_Swamp_Monkey</td>\n",
       "      <td>5.95</td>\n",
       "    </tr>\n",
       "    <tr>\n",
       "      <th>2</th>\n",
       "      <td>Cheirogaleidae</td>\n",
       "      <td>Allocebus</td>\n",
       "      <td>Hairy_eared_Dwarf_Lemur</td>\n",
       "      <td>0.08</td>\n",
       "    </tr>\n",
       "    <tr>\n",
       "      <th>3</th>\n",
       "      <td>Cheirogaleidae</td>\n",
       "      <td>Allocebus</td>\n",
       "      <td>Hairy_eared_Dwarf_Lemur</td>\n",
       "      <td>0.08</td>\n",
       "    </tr>\n",
       "    <tr>\n",
       "      <th>4</th>\n",
       "      <td>Cercopithecidae</td>\n",
       "      <td>Allochrocebus</td>\n",
       "      <td>L_Hoest_s_Monkey</td>\n",
       "      <td>5.00</td>\n",
       "    </tr>\n",
       "    <tr>\n",
       "      <th>...</th>\n",
       "      <td>...</td>\n",
       "      <td>...</td>\n",
       "      <td>...</td>\n",
       "      <td>...</td>\n",
       "    </tr>\n",
       "    <tr>\n",
       "      <th>624</th>\n",
       "      <td>Cercopithecidae</td>\n",
       "      <td>Trachypithecus</td>\n",
       "      <td>Shortridge_s_Langur</td>\n",
       "      <td>NaN</td>\n",
       "    </tr>\n",
       "    <tr>\n",
       "      <th>625</th>\n",
       "      <td>Lemuridae</td>\n",
       "      <td>Varecia</td>\n",
       "      <td>Red_Ruffed_Lemur</td>\n",
       "      <td>3.51</td>\n",
       "    </tr>\n",
       "    <tr>\n",
       "      <th>626</th>\n",
       "      <td>Lemuridae</td>\n",
       "      <td>Varecia</td>\n",
       "      <td>Red_Ruffed_Lemur</td>\n",
       "      <td>3.02</td>\n",
       "    </tr>\n",
       "    <tr>\n",
       "      <th>627</th>\n",
       "      <td>Lemuridae</td>\n",
       "      <td>Varecia</td>\n",
       "      <td>Black_and_white_Ruffed_Lemur</td>\n",
       "      <td>3.58</td>\n",
       "    </tr>\n",
       "    <tr>\n",
       "      <th>628</th>\n",
       "      <td>Lemuridae</td>\n",
       "      <td>Varecia</td>\n",
       "      <td>Black_and_white_Ruffed_Lemur</td>\n",
       "      <td>3.52</td>\n",
       "    </tr>\n",
       "  </tbody>\n",
       "</table>\n",
       "<p>629 rows × 4 columns</p>\n",
       "</div>"
      ],
      "text/plain": [
       "              Family           Genus                    CommonName  \\\n",
       "0    Cercopithecidae  Allenopithecus          Allen_s_Swamp_Monkey   \n",
       "1    Cercopithecidae  Allenopithecus          Allen_s_Swamp_Monkey   \n",
       "2     Cheirogaleidae       Allocebus       Hairy_eared_Dwarf_Lemur   \n",
       "3     Cheirogaleidae       Allocebus       Hairy_eared_Dwarf_Lemur   \n",
       "4    Cercopithecidae   Allochrocebus              L_Hoest_s_Monkey   \n",
       "..               ...             ...                           ...   \n",
       "624  Cercopithecidae  Trachypithecus           Shortridge_s_Langur   \n",
       "625        Lemuridae         Varecia              Red_Ruffed_Lemur   \n",
       "626        Lemuridae         Varecia              Red_Ruffed_Lemur   \n",
       "627        Lemuridae         Varecia  Black_and_white_Ruffed_Lemur   \n",
       "628        Lemuridae         Varecia  Black_and_white_Ruffed_Lemur   \n",
       "\n",
       "     Average_Weight  \n",
       "0              4.65  \n",
       "1              5.95  \n",
       "2              0.08  \n",
       "3              0.08  \n",
       "4              5.00  \n",
       "..              ...  \n",
       "624             NaN  \n",
       "625            3.51  \n",
       "626            3.02  \n",
       "627            3.58  \n",
       "628            3.52  \n",
       "\n",
       "[629 rows x 4 columns]"
      ]
     },
     "execution_count": 67,
     "metadata": {},
     "output_type": "execute_result"
    }
   ],
   "source": [
    "df_mass"
   ]
  },
  {
   "cell_type": "code",
   "execution_count": 68,
   "metadata": {},
   "outputs": [],
   "source": [
    "df_mass.to_csv('BodyMass_cleaned.csv')"
   ]
  },
  {
   "cell_type": "code",
   "execution_count": 118,
   "metadata": {},
   "outputs": [
    {
     "data": {
      "text/plain": [
       "Family                     0\n",
       "Genus                      0\n",
       "CommonName                 1\n",
       "Species                   22\n",
       "Species (ITIS)            22\n",
       "TrophicGuild             102\n",
       "Refs                     102\n",
       "Fruit                    103\n",
       "Leaves                   103\n",
       "Flowers                  104\n",
       "Seeds                    107\n",
       "Animal                   102\n",
       "Gums                     104\n",
       "Nectar                   103\n",
       "Other                    104\n",
       "Region                   102\n",
       "Country                  103\n",
       "Data_type                109\n",
       "Study_duration_months    102\n",
       "N_groups                 102\n",
       "Mean_individuals         130\n",
       "Comments                 108\n",
       "Unnamed: 22              567\n",
       "dtype: int64"
      ]
     },
     "execution_count": 118,
     "metadata": {},
     "output_type": "execute_result"
    }
   ],
   "source": [
    "df = pd.read_csv('TrophicGuild.csv',encoding='latin-1')\n",
    "df.isna().sum()"
   ]
  },
  {
   "cell_type": "code",
   "execution_count": 119,
   "metadata": {
    "scrolled": false
   },
   "outputs": [
    {
     "data": {
      "text/html": [
       "<div>\n",
       "<style scoped>\n",
       "    .dataframe tbody tr th:only-of-type {\n",
       "        vertical-align: middle;\n",
       "    }\n",
       "\n",
       "    .dataframe tbody tr th {\n",
       "        vertical-align: top;\n",
       "    }\n",
       "\n",
       "    .dataframe thead th {\n",
       "        text-align: right;\n",
       "    }\n",
       "</style>\n",
       "<table border=\"1\" class=\"dataframe\">\n",
       "  <thead>\n",
       "    <tr style=\"text-align: right;\">\n",
       "      <th></th>\n",
       "      <th>Family</th>\n",
       "      <th>Genus</th>\n",
       "      <th>CommonName</th>\n",
       "      <th>TrophicGuild</th>\n",
       "      <th>Refs</th>\n",
       "      <th>Fruit</th>\n",
       "      <th>Leaves</th>\n",
       "      <th>Flowers</th>\n",
       "      <th>Seeds</th>\n",
       "      <th>Animal</th>\n",
       "      <th>...</th>\n",
       "      <th>Nectar</th>\n",
       "      <th>Other</th>\n",
       "      <th>Region</th>\n",
       "      <th>Country</th>\n",
       "      <th>Data_type</th>\n",
       "      <th>Study_duration_months</th>\n",
       "      <th>N_groups</th>\n",
       "      <th>Mean_individuals</th>\n",
       "      <th>Comments</th>\n",
       "      <th>Unnamed: 22</th>\n",
       "    </tr>\n",
       "  </thead>\n",
       "  <tbody>\n",
       "    <tr>\n",
       "      <th>0</th>\n",
       "      <td>Cercopithecidae</td>\n",
       "      <td>Allenopithecus</td>\n",
       "      <td>Allen_s_Swamp_Monkey</td>\n",
       "      <td>Frugivore</td>\n",
       "      <td>374</td>\n",
       "      <td>81</td>\n",
       "      <td>NI</td>\n",
       "      <td>NI</td>\n",
       "      <td>NI</td>\n",
       "      <td>17</td>\n",
       "      <td>...</td>\n",
       "      <td>NI</td>\n",
       "      <td>NI</td>\n",
       "      <td>NI</td>\n",
       "      <td>NI</td>\n",
       "      <td>NI</td>\n",
       "      <td>NI</td>\n",
       "      <td>NI</td>\n",
       "      <td>NaN</td>\n",
       "      <td>NI</td>\n",
       "      <td>NaN</td>\n",
       "    </tr>\n",
       "    <tr>\n",
       "      <th>1</th>\n",
       "      <td>Cheirogaleidae</td>\n",
       "      <td>Allocebus</td>\n",
       "      <td>Hairy_eared_Dwarf_Lemur</td>\n",
       "      <td>Omnivore</td>\n",
       "      <td>315</td>\n",
       "      <td>NI</td>\n",
       "      <td>NI</td>\n",
       "      <td>NI</td>\n",
       "      <td>NI</td>\n",
       "      <td>50-75</td>\n",
       "      <td>...</td>\n",
       "      <td>NI</td>\n",
       "      <td>NI</td>\n",
       "      <td>Captivity</td>\n",
       "      <td>NaN</td>\n",
       "      <td>NI</td>\n",
       "      <td>NI</td>\n",
       "      <td>NI</td>\n",
       "      <td>NaN</td>\n",
       "      <td>NI</td>\n",
       "      <td>NaN</td>\n",
       "    </tr>\n",
       "    <tr>\n",
       "      <th>2</th>\n",
       "      <td>Cercopithecidae</td>\n",
       "      <td>Allochrocebus</td>\n",
       "      <td>L_Hoest_s_Monkey</td>\n",
       "      <td>Omnivore</td>\n",
       "      <td>245</td>\n",
       "      <td>31.43</td>\n",
       "      <td>34.71</td>\n",
       "      <td>NI</td>\n",
       "      <td>3.18</td>\n",
       "      <td>10.34</td>\n",
       "      <td>...</td>\n",
       "      <td>NI</td>\n",
       "      <td>NI</td>\n",
       "      <td>NI</td>\n",
       "      <td>NI</td>\n",
       "      <td>NI</td>\n",
       "      <td>NI</td>\n",
       "      <td>NI</td>\n",
       "      <td>NaN</td>\n",
       "      <td>NI</td>\n",
       "      <td>NaN</td>\n",
       "    </tr>\n",
       "    <tr>\n",
       "      <th>3</th>\n",
       "      <td>Cercopithecidae</td>\n",
       "      <td>Allochrocebus</td>\n",
       "      <td>Preuss_s_Monkey</td>\n",
       "      <td>Omnivore</td>\n",
       "      <td>1174</td>\n",
       "      <td>52</td>\n",
       "      <td>NI</td>\n",
       "      <td>NI</td>\n",
       "      <td>NI</td>\n",
       "      <td>NI</td>\n",
       "      <td>...</td>\n",
       "      <td>NI</td>\n",
       "      <td>NI</td>\n",
       "      <td>Kilum</td>\n",
       "      <td>Cameroon</td>\n",
       "      <td>NI</td>\n",
       "      <td>NI</td>\n",
       "      <td>NI</td>\n",
       "      <td>NaN</td>\n",
       "      <td>Fruits, seeds, leaves, flowers, small aquatic ...</td>\n",
       "      <td>NaN</td>\n",
       "    </tr>\n",
       "    <tr>\n",
       "      <th>4</th>\n",
       "      <td>Cercopithecidae</td>\n",
       "      <td>Allochrocebus</td>\n",
       "      <td>Sun_tailed_Monkey</td>\n",
       "      <td>Omnivore</td>\n",
       "      <td>155</td>\n",
       "      <td>26</td>\n",
       "      <td>NI</td>\n",
       "      <td>NI</td>\n",
       "      <td>NI</td>\n",
       "      <td>27.5</td>\n",
       "      <td>...</td>\n",
       "      <td>NI</td>\n",
       "      <td>NI</td>\n",
       "      <td>NI</td>\n",
       "      <td>NI</td>\n",
       "      <td>NI</td>\n",
       "      <td>NI</td>\n",
       "      <td>NI</td>\n",
       "      <td>NaN</td>\n",
       "      <td>Fruits and seeds 26%</td>\n",
       "      <td>NaN</td>\n",
       "    </tr>\n",
       "  </tbody>\n",
       "</table>\n",
       "<p>5 rows × 21 columns</p>\n",
       "</div>"
      ],
      "text/plain": [
       "            Family           Genus               CommonName TrophicGuild  \\\n",
       "0  Cercopithecidae  Allenopithecus     Allen_s_Swamp_Monkey    Frugivore   \n",
       "1   Cheirogaleidae       Allocebus  Hairy_eared_Dwarf_Lemur     Omnivore   \n",
       "2  Cercopithecidae   Allochrocebus         L_Hoest_s_Monkey     Omnivore   \n",
       "3  Cercopithecidae   Allochrocebus          Preuss_s_Monkey     Omnivore   \n",
       "4  Cercopithecidae   Allochrocebus        Sun_tailed_Monkey     Omnivore   \n",
       "\n",
       "   Refs  Fruit Leaves Flowers Seeds Animal  ... Nectar Other     Region  \\\n",
       "0   374     81     NI      NI    NI     17  ...     NI    NI         NI   \n",
       "1   315     NI     NI      NI    NI  50-75  ...     NI    NI  Captivity   \n",
       "2   245  31.43  34.71      NI  3.18  10.34  ...     NI    NI         NI   \n",
       "3  1174     52     NI      NI    NI     NI  ...     NI    NI      Kilum   \n",
       "4   155     26     NI      NI    NI   27.5  ...     NI    NI         NI   \n",
       "\n",
       "    Country Data_type Study_duration_months N_groups Mean_individuals  \\\n",
       "0        NI        NI                    NI       NI              NaN   \n",
       "1       NaN        NI                    NI       NI              NaN   \n",
       "2        NI        NI                    NI       NI              NaN   \n",
       "3  Cameroon        NI                    NI       NI              NaN   \n",
       "4        NI        NI                    NI       NI              NaN   \n",
       "\n",
       "                                            Comments Unnamed: 22  \n",
       "0                                                 NI         NaN  \n",
       "1                                                 NI         NaN  \n",
       "2                                                 NI         NaN  \n",
       "3  Fruits, seeds, leaves, flowers, small aquatic ...         NaN  \n",
       "4                               Fruits and seeds 26%         NaN  \n",
       "\n",
       "[5 rows x 21 columns]"
      ]
     },
     "execution_count": 119,
     "metadata": {},
     "output_type": "execute_result"
    }
   ],
   "source": [
    "df.drop(['Species', 'Species (ITIS)'], axis=1, inplace=True)\n",
    "df.head()"
   ]
  },
  {
   "cell_type": "code",
   "execution_count": 120,
   "metadata": {},
   "outputs": [],
   "source": [
    "df.drop(df.columns[4:],axis=1, inplace=True)"
   ]
  },
  {
   "cell_type": "code",
   "execution_count": 124,
   "metadata": {},
   "outputs": [],
   "source": [
    "df =df.rename(columns={'TrophicGuild':'Diet'})"
   ]
  },
  {
   "cell_type": "code",
   "execution_count": 125,
   "metadata": {},
   "outputs": [
    {
     "data": {
      "text/html": [
       "<div>\n",
       "<style scoped>\n",
       "    .dataframe tbody tr th:only-of-type {\n",
       "        vertical-align: middle;\n",
       "    }\n",
       "\n",
       "    .dataframe tbody tr th {\n",
       "        vertical-align: top;\n",
       "    }\n",
       "\n",
       "    .dataframe thead th {\n",
       "        text-align: right;\n",
       "    }\n",
       "</style>\n",
       "<table border=\"1\" class=\"dataframe\">\n",
       "  <thead>\n",
       "    <tr style=\"text-align: right;\">\n",
       "      <th></th>\n",
       "      <th>Family</th>\n",
       "      <th>Genus</th>\n",
       "      <th>CommonName</th>\n",
       "      <th>Diet</th>\n",
       "    </tr>\n",
       "  </thead>\n",
       "  <tbody>\n",
       "    <tr>\n",
       "      <th>0</th>\n",
       "      <td>Cercopithecidae</td>\n",
       "      <td>Allenopithecus</td>\n",
       "      <td>Allen_s_Swamp_Monkey</td>\n",
       "      <td>Frugivore</td>\n",
       "    </tr>\n",
       "    <tr>\n",
       "      <th>1</th>\n",
       "      <td>Cheirogaleidae</td>\n",
       "      <td>Allocebus</td>\n",
       "      <td>Hairy_eared_Dwarf_Lemur</td>\n",
       "      <td>Omnivore</td>\n",
       "    </tr>\n",
       "    <tr>\n",
       "      <th>2</th>\n",
       "      <td>Cercopithecidae</td>\n",
       "      <td>Allochrocebus</td>\n",
       "      <td>L_Hoest_s_Monkey</td>\n",
       "      <td>Omnivore</td>\n",
       "    </tr>\n",
       "    <tr>\n",
       "      <th>3</th>\n",
       "      <td>Cercopithecidae</td>\n",
       "      <td>Allochrocebus</td>\n",
       "      <td>Preuss_s_Monkey</td>\n",
       "      <td>Omnivore</td>\n",
       "    </tr>\n",
       "    <tr>\n",
       "      <th>4</th>\n",
       "      <td>Cercopithecidae</td>\n",
       "      <td>Allochrocebus</td>\n",
       "      <td>Sun_tailed_Monkey</td>\n",
       "      <td>Omnivore</td>\n",
       "    </tr>\n",
       "    <tr>\n",
       "      <th>...</th>\n",
       "      <td>...</td>\n",
       "      <td>...</td>\n",
       "      <td>...</td>\n",
       "      <td>...</td>\n",
       "    </tr>\n",
       "    <tr>\n",
       "      <th>565</th>\n",
       "      <td>Cercopithecidae</td>\n",
       "      <td>Trachypithecus</td>\n",
       "      <td>Selangor_Silvery_Langur</td>\n",
       "      <td>Folivore</td>\n",
       "    </tr>\n",
       "    <tr>\n",
       "      <th>566</th>\n",
       "      <td>Cercopithecidae</td>\n",
       "      <td>Trachypithecus</td>\n",
       "      <td>Shortridge_s_Langur</td>\n",
       "      <td>Folivore</td>\n",
       "    </tr>\n",
       "    <tr>\n",
       "      <th>567</th>\n",
       "      <td>Lemuridae</td>\n",
       "      <td>Varecia</td>\n",
       "      <td>Red_Ruffed_Lemur</td>\n",
       "      <td>Frugivore</td>\n",
       "    </tr>\n",
       "    <tr>\n",
       "      <th>568</th>\n",
       "      <td>Lemuridae</td>\n",
       "      <td>Varecia</td>\n",
       "      <td>Black_and_white_Ruffed_Lemur</td>\n",
       "      <td>Frugivore</td>\n",
       "    </tr>\n",
       "    <tr>\n",
       "      <th>569</th>\n",
       "      <td>Lemuridae</td>\n",
       "      <td>Varecia</td>\n",
       "      <td>Black_and_white_Ruffed_Lemur</td>\n",
       "      <td>Frugivore</td>\n",
       "    </tr>\n",
       "  </tbody>\n",
       "</table>\n",
       "<p>570 rows × 4 columns</p>\n",
       "</div>"
      ],
      "text/plain": [
       "              Family           Genus                    CommonName       Diet\n",
       "0    Cercopithecidae  Allenopithecus          Allen_s_Swamp_Monkey  Frugivore\n",
       "1     Cheirogaleidae       Allocebus       Hairy_eared_Dwarf_Lemur   Omnivore\n",
       "2    Cercopithecidae   Allochrocebus              L_Hoest_s_Monkey   Omnivore\n",
       "3    Cercopithecidae   Allochrocebus               Preuss_s_Monkey   Omnivore\n",
       "4    Cercopithecidae   Allochrocebus             Sun_tailed_Monkey   Omnivore\n",
       "..               ...             ...                           ...        ...\n",
       "565  Cercopithecidae  Trachypithecus       Selangor_Silvery_Langur   Folivore\n",
       "566  Cercopithecidae  Trachypithecus           Shortridge_s_Langur   Folivore\n",
       "567        Lemuridae         Varecia              Red_Ruffed_Lemur  Frugivore\n",
       "568        Lemuridae         Varecia  Black_and_white_Ruffed_Lemur  Frugivore\n",
       "569        Lemuridae         Varecia  Black_and_white_Ruffed_Lemur  Frugivore\n",
       "\n",
       "[570 rows x 4 columns]"
      ]
     },
     "execution_count": 125,
     "metadata": {},
     "output_type": "execute_result"
    }
   ],
   "source": [
    "df"
   ]
  },
  {
   "cell_type": "code",
   "execution_count": 126,
   "metadata": {},
   "outputs": [],
   "source": [
    "df.to_csv('diet_cleaned.csv')"
   ]
  },
  {
   "cell_type": "code",
   "execution_count": 207,
   "metadata": {},
   "outputs": [],
   "source": [
    "df= pd.read_csv('IUCN_Poptrend_Realm-2.csv', encoding='latin-1')"
   ]
  },
  {
   "cell_type": "code",
   "execution_count": 208,
   "metadata": {},
   "outputs": [
    {
     "data": {
      "text/html": [
       "<div>\n",
       "<style scoped>\n",
       "    .dataframe tbody tr th:only-of-type {\n",
       "        vertical-align: middle;\n",
       "    }\n",
       "\n",
       "    .dataframe tbody tr th {\n",
       "        vertical-align: top;\n",
       "    }\n",
       "\n",
       "    .dataframe thead th {\n",
       "        text-align: right;\n",
       "    }\n",
       "</style>\n",
       "<table border=\"1\" class=\"dataframe\">\n",
       "  <thead>\n",
       "    <tr style=\"text-align: right;\">\n",
       "      <th></th>\n",
       "      <th>Family</th>\n",
       "      <th>Genus</th>\n",
       "      <th>CommonName</th>\n",
       "      <th>Species</th>\n",
       "      <th>Species (ITIS)</th>\n",
       "      <th>IUCN</th>\n",
       "      <th>Pop_T</th>\n",
       "      <th>IUCN_Evaluation</th>\n",
       "      <th>IUCN&amp;Pop_T_Refs</th>\n",
       "      <th>Realm</th>\n",
       "      <th>Realm_refs</th>\n",
       "    </tr>\n",
       "  </thead>\n",
       "  <tbody>\n",
       "    <tr>\n",
       "      <th>0</th>\n",
       "      <td>Cercopithecidae</td>\n",
       "      <td>Allenopithecus</td>\n",
       "      <td>Allen_s_Swamp_Monkey</td>\n",
       "      <td>Allenopithecus_nigroviridis</td>\n",
       "      <td>Allenopithecus_nigroviridis</td>\n",
       "      <td>LC</td>\n",
       "      <td>NaN</td>\n",
       "      <td>2008.0</td>\n",
       "      <td>227.0</td>\n",
       "      <td>M_Africa</td>\n",
       "      <td>976.0</td>\n",
       "    </tr>\n",
       "    <tr>\n",
       "      <th>1</th>\n",
       "      <td>Cheirogaleidae</td>\n",
       "      <td>Allocebus</td>\n",
       "      <td>Hairy_eared_Dwarf_Lemur</td>\n",
       "      <td>Allocebus_trichotis</td>\n",
       "      <td>Allocebus_trichotis</td>\n",
       "      <td>VU</td>\n",
       "      <td>D</td>\n",
       "      <td>2012.0</td>\n",
       "      <td>227.0</td>\n",
       "      <td>Madagascar</td>\n",
       "      <td>976.0</td>\n",
       "    </tr>\n",
       "    <tr>\n",
       "      <th>2</th>\n",
       "      <td>Cercopithecidae</td>\n",
       "      <td>Allochrocebus</td>\n",
       "      <td>L_Hoest_s_Monkey</td>\n",
       "      <td>Allochrocebus_lhoesti</td>\n",
       "      <td>Allochrocebus_lhoesti</td>\n",
       "      <td>VU</td>\n",
       "      <td>D</td>\n",
       "      <td>2008.0</td>\n",
       "      <td>227.0</td>\n",
       "      <td>M_Africa</td>\n",
       "      <td>976.0</td>\n",
       "    </tr>\n",
       "    <tr>\n",
       "      <th>3</th>\n",
       "      <td>Cercopithecidae</td>\n",
       "      <td>Allochrocebus</td>\n",
       "      <td>Preuss_s_Monkey</td>\n",
       "      <td>Allochrocebus_preussi</td>\n",
       "      <td>Allochrocebus_preussi</td>\n",
       "      <td>EN</td>\n",
       "      <td>D</td>\n",
       "      <td>2008.0</td>\n",
       "      <td>227.0</td>\n",
       "      <td>M_Africa</td>\n",
       "      <td>976.0</td>\n",
       "    </tr>\n",
       "    <tr>\n",
       "      <th>4</th>\n",
       "      <td>Cercopithecidae</td>\n",
       "      <td>Allochrocebus</td>\n",
       "      <td>Sun_tailed_Monkey</td>\n",
       "      <td>Allochrocebus_solatus</td>\n",
       "      <td>Allochrocebus_solatus</td>\n",
       "      <td>VU</td>\n",
       "      <td>NaN</td>\n",
       "      <td>2008.0</td>\n",
       "      <td>227.0</td>\n",
       "      <td>M_Africa</td>\n",
       "      <td>976.0</td>\n",
       "    </tr>\n",
       "    <tr>\n",
       "      <th>5</th>\n",
       "      <td>Atelidae</td>\n",
       "      <td>Alouatta</td>\n",
       "      <td>Ursine_Red_Howler</td>\n",
       "      <td>Alouatta_arctoidea</td>\n",
       "      <td>Alouatta_arctoidea</td>\n",
       "      <td>LC</td>\n",
       "      <td>NaN</td>\n",
       "      <td>2015.0</td>\n",
       "      <td>227.0</td>\n",
       "      <td>Neotropics</td>\n",
       "      <td>976.0</td>\n",
       "    </tr>\n",
       "    <tr>\n",
       "      <th>6</th>\n",
       "      <td>Atelidae</td>\n",
       "      <td>Alouatta</td>\n",
       "      <td>Red_handed_Howler</td>\n",
       "      <td>Alouatta_belzebul</td>\n",
       "      <td>Alouatta_belzebul</td>\n",
       "      <td>VU</td>\n",
       "      <td>D</td>\n",
       "      <td>2008.0</td>\n",
       "      <td>227.0</td>\n",
       "      <td>Neotropics</td>\n",
       "      <td>976.0</td>\n",
       "    </tr>\n",
       "    <tr>\n",
       "      <th>7</th>\n",
       "      <td>Atelidae</td>\n",
       "      <td>Alouatta</td>\n",
       "      <td>Paraguayan_Howler</td>\n",
       "      <td>Alouatta_caraya</td>\n",
       "      <td>Alouatta_caraya</td>\n",
       "      <td>LC</td>\n",
       "      <td>D</td>\n",
       "      <td>2008.0</td>\n",
       "      <td>227.0</td>\n",
       "      <td>Neotropics</td>\n",
       "      <td>976.0</td>\n",
       "    </tr>\n",
       "    <tr>\n",
       "      <th>8</th>\n",
       "      <td>Atelidae</td>\n",
       "      <td>Alouatta</td>\n",
       "      <td>Spix_s_Howler</td>\n",
       "      <td>Alouatta_discolor</td>\n",
       "      <td>Alouatta_discolor</td>\n",
       "      <td>VU</td>\n",
       "      <td>D</td>\n",
       "      <td>2008.0</td>\n",
       "      <td>227.0</td>\n",
       "      <td>Neotropics</td>\n",
       "      <td>976.0</td>\n",
       "    </tr>\n",
       "    <tr>\n",
       "      <th>9</th>\n",
       "      <td>Atelidae</td>\n",
       "      <td>Alouatta</td>\n",
       "      <td>Brown_Howler</td>\n",
       "      <td>Alouatta_guariba</td>\n",
       "      <td>Alouatta_guariba</td>\n",
       "      <td>LC</td>\n",
       "      <td>D</td>\n",
       "      <td>2008.0</td>\n",
       "      <td>227.0</td>\n",
       "      <td>Neotropics</td>\n",
       "      <td>976.0</td>\n",
       "    </tr>\n",
       "    <tr>\n",
       "      <th>10</th>\n",
       "      <td>Atelidae</td>\n",
       "      <td>Alouatta</td>\n",
       "      <td>Guianan_Red_Howler</td>\n",
       "      <td>Alouatta_macconnelli</td>\n",
       "      <td>Alouatta_macconnelli</td>\n",
       "      <td>LC</td>\n",
       "      <td>NaN</td>\n",
       "      <td>2008.0</td>\n",
       "      <td>227.0</td>\n",
       "      <td>Neotropics</td>\n",
       "      <td>976.0</td>\n",
       "    </tr>\n",
       "    <tr>\n",
       "      <th>11</th>\n",
       "      <td>Atelidae</td>\n",
       "      <td>Alouatta</td>\n",
       "      <td>Amazon_Black_Howler</td>\n",
       "      <td>Alouatta_nigerrima</td>\n",
       "      <td>Alouatta_nigerrima</td>\n",
       "      <td>LC</td>\n",
       "      <td>NaN</td>\n",
       "      <td>2015.0</td>\n",
       "      <td>227.0</td>\n",
       "      <td>Neotropics</td>\n",
       "      <td>976.0</td>\n",
       "    </tr>\n",
       "    <tr>\n",
       "      <th>12</th>\n",
       "      <td>Atelidae</td>\n",
       "      <td>Alouatta</td>\n",
       "      <td>Mantled_Howler</td>\n",
       "      <td>Alouatta_palliata</td>\n",
       "      <td>Alouatta_palliata</td>\n",
       "      <td>LC</td>\n",
       "      <td>NaN</td>\n",
       "      <td>2008.0</td>\n",
       "      <td>227.0</td>\n",
       "      <td>Neotropics</td>\n",
       "      <td>976.0</td>\n",
       "    </tr>\n",
       "    <tr>\n",
       "      <th>13</th>\n",
       "      <td>Atelidae</td>\n",
       "      <td>Alouatta</td>\n",
       "      <td>Central_American_Black_Howler</td>\n",
       "      <td>Alouatta_pigra</td>\n",
       "      <td>Alouatta_pigra</td>\n",
       "      <td>EN</td>\n",
       "      <td>D</td>\n",
       "      <td>2008.0</td>\n",
       "      <td>227.0</td>\n",
       "      <td>Neotropics</td>\n",
       "      <td>976.0</td>\n",
       "    </tr>\n",
       "    <tr>\n",
       "      <th>14</th>\n",
       "      <td>Atelidae</td>\n",
       "      <td>Alouatta</td>\n",
       "      <td>Bolivian_Red_Howler</td>\n",
       "      <td>Alouatta_sara</td>\n",
       "      <td>Alouatta_sara</td>\n",
       "      <td>LC</td>\n",
       "      <td>D</td>\n",
       "      <td>2008.0</td>\n",
       "      <td>227.0</td>\n",
       "      <td>Neotropics</td>\n",
       "      <td>976.0</td>\n",
       "    </tr>\n",
       "    <tr>\n",
       "      <th>15</th>\n",
       "      <td>Atelidae</td>\n",
       "      <td>Alouatta</td>\n",
       "      <td>Colombian_Red_Howler</td>\n",
       "      <td>Alouatta_seniculus</td>\n",
       "      <td>Alouatta_seniculus</td>\n",
       "      <td>LC</td>\n",
       "      <td>NaN</td>\n",
       "      <td>2008.0</td>\n",
       "      <td>227.0</td>\n",
       "      <td>Neotropics</td>\n",
       "      <td>976.0</td>\n",
       "    </tr>\n",
       "    <tr>\n",
       "      <th>16</th>\n",
       "      <td>Atelidae</td>\n",
       "      <td>Alouatta</td>\n",
       "      <td>Maranhão_Red_handed_Howler</td>\n",
       "      <td>Alouatta_ululata</td>\n",
       "      <td>Alouatta_ululata</td>\n",
       "      <td>EN</td>\n",
       "      <td>D</td>\n",
       "      <td>2008.0</td>\n",
       "      <td>227.0</td>\n",
       "      <td>Neotropics</td>\n",
       "      <td>976.0</td>\n",
       "    </tr>\n",
       "    <tr>\n",
       "      <th>17</th>\n",
       "      <td>Aotidae</td>\n",
       "      <td>Aotus</td>\n",
       "      <td>Azara_s_Night_Monkey</td>\n",
       "      <td>Aotus_azarae</td>\n",
       "      <td>Aotus_azarae</td>\n",
       "      <td>LC</td>\n",
       "      <td>D</td>\n",
       "      <td>2015.0</td>\n",
       "      <td>227.0</td>\n",
       "      <td>Neotropics</td>\n",
       "      <td>976.0</td>\n",
       "    </tr>\n",
       "    <tr>\n",
       "      <th>18</th>\n",
       "      <td>Aotidae</td>\n",
       "      <td>Aotus</td>\n",
       "      <td>Brumback_s_Night_Monkey</td>\n",
       "      <td>Aotus_brumbacki</td>\n",
       "      <td>Aotus_brumbacki</td>\n",
       "      <td>VU</td>\n",
       "      <td>D</td>\n",
       "      <td>2008.0</td>\n",
       "      <td>227.0</td>\n",
       "      <td>Neotropics</td>\n",
       "      <td>976.0</td>\n",
       "    </tr>\n",
       "    <tr>\n",
       "      <th>19</th>\n",
       "      <td>Aotidae</td>\n",
       "      <td>Aotus</td>\n",
       "      <td>Gray_legged_Night_Monkey</td>\n",
       "      <td>Aotus_griseimembra</td>\n",
       "      <td>Aotus_griseimembra</td>\n",
       "      <td>VU</td>\n",
       "      <td>D</td>\n",
       "      <td>2008.0</td>\n",
       "      <td>227.0</td>\n",
       "      <td>Neotropics</td>\n",
       "      <td>976.0</td>\n",
       "    </tr>\n",
       "    <tr>\n",
       "      <th>20</th>\n",
       "      <td>Aotidae</td>\n",
       "      <td>Aotus</td>\n",
       "      <td>Hernández_Camacho_s_Night_Monkey</td>\n",
       "      <td>Aotus_jorgehernandezi</td>\n",
       "      <td>Aotus_jorgehernandezi</td>\n",
       "      <td>DD</td>\n",
       "      <td>NaN</td>\n",
       "      <td>2015.0</td>\n",
       "      <td>227.0</td>\n",
       "      <td>Neotropics</td>\n",
       "      <td>976.0</td>\n",
       "    </tr>\n",
       "    <tr>\n",
       "      <th>21</th>\n",
       "      <td>Aotidae</td>\n",
       "      <td>Aotus</td>\n",
       "      <td>Lemurine_Night_Monkey</td>\n",
       "      <td>Aotus_lemurinus</td>\n",
       "      <td>Aotus_lemurinus</td>\n",
       "      <td>VU</td>\n",
       "      <td>D</td>\n",
       "      <td>2008.0</td>\n",
       "      <td>227.0</td>\n",
       "      <td>Neotropics</td>\n",
       "      <td>976.0</td>\n",
       "    </tr>\n",
       "    <tr>\n",
       "      <th>22</th>\n",
       "      <td>Aotidae</td>\n",
       "      <td>Aotus</td>\n",
       "      <td>Andean_Night_Monkey</td>\n",
       "      <td>Aotus_miconax</td>\n",
       "      <td>Aotus_miconax</td>\n",
       "      <td>VU</td>\n",
       "      <td>D</td>\n",
       "      <td>2008.0</td>\n",
       "      <td>227.0</td>\n",
       "      <td>Neotropics</td>\n",
       "      <td>976.0</td>\n",
       "    </tr>\n",
       "    <tr>\n",
       "      <th>23</th>\n",
       "      <td>Aotidae</td>\n",
       "      <td>Aotus</td>\n",
       "      <td>Ma_s_Night_Monkey</td>\n",
       "      <td>Aotus_nancymaae</td>\n",
       "      <td>Aotus_nancymaae</td>\n",
       "      <td>VU</td>\n",
       "      <td>NaN</td>\n",
       "      <td>2017.0</td>\n",
       "      <td>227.0</td>\n",
       "      <td>Neotropics</td>\n",
       "      <td>976.0</td>\n",
       "    </tr>\n",
       "    <tr>\n",
       "      <th>24</th>\n",
       "      <td>Aotidae</td>\n",
       "      <td>Aotus</td>\n",
       "      <td>Black_headed_Night_Monkey</td>\n",
       "      <td>Aotus_nigriceps</td>\n",
       "      <td>Aotus_nigriceps</td>\n",
       "      <td>LC</td>\n",
       "      <td>NaN</td>\n",
       "      <td>2015.0</td>\n",
       "      <td>227.0</td>\n",
       "      <td>Neotropics</td>\n",
       "      <td>976.0</td>\n",
       "    </tr>\n",
       "    <tr>\n",
       "      <th>25</th>\n",
       "      <td>Aotidae</td>\n",
       "      <td>Aotus</td>\n",
       "      <td>Humboldt_s_Night_Monkey</td>\n",
       "      <td>Aotus_trivirgatus</td>\n",
       "      <td>Aotus_trivirgatus</td>\n",
       "      <td>LC</td>\n",
       "      <td>NaN</td>\n",
       "      <td>2015.0</td>\n",
       "      <td>227.0</td>\n",
       "      <td>Neotropics</td>\n",
       "      <td>976.0</td>\n",
       "    </tr>\n",
       "    <tr>\n",
       "      <th>26</th>\n",
       "      <td>Aotidae</td>\n",
       "      <td>Aotus</td>\n",
       "      <td>Spix_s_Night_Monkey</td>\n",
       "      <td>Aotus_vociferans</td>\n",
       "      <td>Aotus_vociferans</td>\n",
       "      <td>LC</td>\n",
       "      <td>D</td>\n",
       "      <td>2015.0</td>\n",
       "      <td>227.0</td>\n",
       "      <td>Neotropics</td>\n",
       "      <td>976.0</td>\n",
       "    </tr>\n",
       "    <tr>\n",
       "      <th>27</th>\n",
       "      <td>Aotidae</td>\n",
       "      <td>Aotus</td>\n",
       "      <td>Panamanian_Night_Monkey</td>\n",
       "      <td>Aotus_zonalis</td>\n",
       "      <td>Aotus_zonalis</td>\n",
       "      <td>DD</td>\n",
       "      <td>NaN</td>\n",
       "      <td>2008.0</td>\n",
       "      <td>227.0</td>\n",
       "      <td>Neotropics</td>\n",
       "      <td>976.0</td>\n",
       "    </tr>\n",
       "    <tr>\n",
       "      <th>28</th>\n",
       "      <td>Lorisidae</td>\n",
       "      <td>Arctocebus</td>\n",
       "      <td>Golden_Angwantibo</td>\n",
       "      <td>Arctocebus_aureus</td>\n",
       "      <td>Arctocebus_aureus</td>\n",
       "      <td>LC</td>\n",
       "      <td>NaN</td>\n",
       "      <td>2008.0</td>\n",
       "      <td>227.0</td>\n",
       "      <td>M_Africa</td>\n",
       "      <td>976.0</td>\n",
       "    </tr>\n",
       "    <tr>\n",
       "      <th>29</th>\n",
       "      <td>Lorisidae</td>\n",
       "      <td>Arctocebus</td>\n",
       "      <td>Calabar_Angwantibo</td>\n",
       "      <td>Arctocebus_calabarensis</td>\n",
       "      <td>Arctocebus_calabarensis</td>\n",
       "      <td>LC</td>\n",
       "      <td>NaN</td>\n",
       "      <td>2008.0</td>\n",
       "      <td>227.0</td>\n",
       "      <td>M_Africa</td>\n",
       "      <td>976.0</td>\n",
       "    </tr>\n",
       "  </tbody>\n",
       "</table>\n",
       "</div>"
      ],
      "text/plain": [
       "             Family           Genus                        CommonName  \\\n",
       "0   Cercopithecidae  Allenopithecus              Allen_s_Swamp_Monkey   \n",
       "1    Cheirogaleidae       Allocebus           Hairy_eared_Dwarf_Lemur   \n",
       "2   Cercopithecidae   Allochrocebus                  L_Hoest_s_Monkey   \n",
       "3   Cercopithecidae   Allochrocebus                   Preuss_s_Monkey   \n",
       "4   Cercopithecidae   Allochrocebus                 Sun_tailed_Monkey   \n",
       "5          Atelidae        Alouatta                 Ursine_Red_Howler   \n",
       "6          Atelidae        Alouatta                 Red_handed_Howler   \n",
       "7          Atelidae        Alouatta                 Paraguayan_Howler   \n",
       "8          Atelidae        Alouatta                     Spix_s_Howler   \n",
       "9          Atelidae        Alouatta                      Brown_Howler   \n",
       "10         Atelidae        Alouatta                Guianan_Red_Howler   \n",
       "11         Atelidae        Alouatta               Amazon_Black_Howler   \n",
       "12         Atelidae        Alouatta                    Mantled_Howler   \n",
       "13         Atelidae        Alouatta     Central_American_Black_Howler   \n",
       "14         Atelidae        Alouatta               Bolivian_Red_Howler   \n",
       "15         Atelidae        Alouatta              Colombian_Red_Howler   \n",
       "16         Atelidae        Alouatta        Maranhão_Red_handed_Howler   \n",
       "17          Aotidae           Aotus              Azara_s_Night_Monkey   \n",
       "18          Aotidae           Aotus           Brumback_s_Night_Monkey   \n",
       "19          Aotidae           Aotus          Gray_legged_Night_Monkey   \n",
       "20          Aotidae           Aotus  Hernández_Camacho_s_Night_Monkey   \n",
       "21          Aotidae           Aotus             Lemurine_Night_Monkey   \n",
       "22          Aotidae           Aotus               Andean_Night_Monkey   \n",
       "23          Aotidae           Aotus                 Ma_s_Night_Monkey   \n",
       "24          Aotidae           Aotus         Black_headed_Night_Monkey   \n",
       "25          Aotidae           Aotus           Humboldt_s_Night_Monkey   \n",
       "26          Aotidae           Aotus               Spix_s_Night_Monkey   \n",
       "27          Aotidae           Aotus           Panamanian_Night_Monkey   \n",
       "28        Lorisidae      Arctocebus                 Golden_Angwantibo   \n",
       "29        Lorisidae      Arctocebus                Calabar_Angwantibo   \n",
       "\n",
       "                        Species               Species (ITIS) IUCN Pop_T  \\\n",
       "0   Allenopithecus_nigroviridis  Allenopithecus_nigroviridis   LC   NaN   \n",
       "1           Allocebus_trichotis          Allocebus_trichotis   VU     D   \n",
       "2         Allochrocebus_lhoesti        Allochrocebus_lhoesti   VU     D   \n",
       "3         Allochrocebus_preussi        Allochrocebus_preussi   EN     D   \n",
       "4         Allochrocebus_solatus        Allochrocebus_solatus   VU   NaN   \n",
       "5            Alouatta_arctoidea           Alouatta_arctoidea   LC   NaN   \n",
       "6             Alouatta_belzebul            Alouatta_belzebul   VU     D   \n",
       "7               Alouatta_caraya              Alouatta_caraya   LC     D   \n",
       "8             Alouatta_discolor            Alouatta_discolor   VU     D   \n",
       "9              Alouatta_guariba             Alouatta_guariba   LC     D   \n",
       "10         Alouatta_macconnelli         Alouatta_macconnelli   LC   NaN   \n",
       "11           Alouatta_nigerrima           Alouatta_nigerrima   LC   NaN   \n",
       "12            Alouatta_palliata            Alouatta_palliata   LC   NaN   \n",
       "13               Alouatta_pigra               Alouatta_pigra   EN     D   \n",
       "14                Alouatta_sara                Alouatta_sara   LC     D   \n",
       "15           Alouatta_seniculus           Alouatta_seniculus   LC   NaN   \n",
       "16             Alouatta_ululata             Alouatta_ululata   EN     D   \n",
       "17                 Aotus_azarae                 Aotus_azarae   LC     D   \n",
       "18              Aotus_brumbacki              Aotus_brumbacki   VU     D   \n",
       "19           Aotus_griseimembra           Aotus_griseimembra   VU     D   \n",
       "20        Aotus_jorgehernandezi        Aotus_jorgehernandezi   DD   NaN   \n",
       "21              Aotus_lemurinus              Aotus_lemurinus   VU     D   \n",
       "22                Aotus_miconax                Aotus_miconax   VU     D   \n",
       "23              Aotus_nancymaae              Aotus_nancymaae   VU   NaN   \n",
       "24              Aotus_nigriceps              Aotus_nigriceps   LC   NaN   \n",
       "25            Aotus_trivirgatus            Aotus_trivirgatus   LC   NaN   \n",
       "26             Aotus_vociferans             Aotus_vociferans   LC     D   \n",
       "27                Aotus_zonalis                Aotus_zonalis   DD   NaN   \n",
       "28            Arctocebus_aureus            Arctocebus_aureus   LC   NaN   \n",
       "29      Arctocebus_calabarensis      Arctocebus_calabarensis   LC   NaN   \n",
       "\n",
       "    IUCN_Evaluation  IUCN&Pop_T_Refs       Realm  Realm_refs  \n",
       "0            2008.0            227.0    M_Africa       976.0  \n",
       "1            2012.0            227.0  Madagascar       976.0  \n",
       "2            2008.0            227.0    M_Africa       976.0  \n",
       "3            2008.0            227.0    M_Africa       976.0  \n",
       "4            2008.0            227.0    M_Africa       976.0  \n",
       "5            2015.0            227.0  Neotropics       976.0  \n",
       "6            2008.0            227.0  Neotropics       976.0  \n",
       "7            2008.0            227.0  Neotropics       976.0  \n",
       "8            2008.0            227.0  Neotropics       976.0  \n",
       "9            2008.0            227.0  Neotropics       976.0  \n",
       "10           2008.0            227.0  Neotropics       976.0  \n",
       "11           2015.0            227.0  Neotropics       976.0  \n",
       "12           2008.0            227.0  Neotropics       976.0  \n",
       "13           2008.0            227.0  Neotropics       976.0  \n",
       "14           2008.0            227.0  Neotropics       976.0  \n",
       "15           2008.0            227.0  Neotropics       976.0  \n",
       "16           2008.0            227.0  Neotropics       976.0  \n",
       "17           2015.0            227.0  Neotropics       976.0  \n",
       "18           2008.0            227.0  Neotropics       976.0  \n",
       "19           2008.0            227.0  Neotropics       976.0  \n",
       "20           2015.0            227.0  Neotropics       976.0  \n",
       "21           2008.0            227.0  Neotropics       976.0  \n",
       "22           2008.0            227.0  Neotropics       976.0  \n",
       "23           2017.0            227.0  Neotropics       976.0  \n",
       "24           2015.0            227.0  Neotropics       976.0  \n",
       "25           2015.0            227.0  Neotropics       976.0  \n",
       "26           2015.0            227.0  Neotropics       976.0  \n",
       "27           2008.0            227.0  Neotropics       976.0  \n",
       "28           2008.0            227.0    M_Africa       976.0  \n",
       "29           2008.0            227.0    M_Africa       976.0  "
      ]
     },
     "execution_count": 208,
     "metadata": {},
     "output_type": "execute_result"
    }
   ],
   "source": [
    "df.head(30)"
   ]
  },
  {
   "cell_type": "code",
   "execution_count": 190,
   "metadata": {},
   "outputs": [],
   "source": [
    "df.drop(['Species', 'Species (ITIS)'], axis=1, inplace=True)"
   ]
  },
  {
   "cell_type": "code",
   "execution_count": 191,
   "metadata": {},
   "outputs": [],
   "source": [
    "df.drop(df.columns[4:],axis=1, inplace=True)"
   ]
  },
  {
   "cell_type": "code",
   "execution_count": 192,
   "metadata": {},
   "outputs": [],
   "source": [
    "df =df.rename(columns={'IUCN':'Status'})"
   ]
  },
  {
   "cell_type": "code",
   "execution_count": 193,
   "metadata": {},
   "outputs": [],
   "source": [
    "df.to_csv('Status_IUCN.csv')"
   ]
  },
  {
   "cell_type": "code",
   "execution_count": 209,
   "metadata": {},
   "outputs": [
    {
     "data": {
      "text/html": [
       "<div>\n",
       "<style scoped>\n",
       "    .dataframe tbody tr th:only-of-type {\n",
       "        vertical-align: middle;\n",
       "    }\n",
       "\n",
       "    .dataframe tbody tr th {\n",
       "        vertical-align: top;\n",
       "    }\n",
       "\n",
       "    .dataframe thead th {\n",
       "        text-align: right;\n",
       "    }\n",
       "</style>\n",
       "<table border=\"1\" class=\"dataframe\">\n",
       "  <thead>\n",
       "    <tr style=\"text-align: right;\">\n",
       "      <th></th>\n",
       "      <th>Family</th>\n",
       "      <th>Genus</th>\n",
       "      <th>CommonName</th>\n",
       "      <th>Species</th>\n",
       "      <th>Species (ITIS)</th>\n",
       "      <th>HomeRange_ha</th>\n",
       "      <th>Low_range</th>\n",
       "      <th>High_range</th>\n",
       "      <th>N_groups</th>\n",
       "      <th>Mean_individuals</th>\n",
       "      <th>Method</th>\n",
       "      <th>Alternative_HomeRange_ha</th>\n",
       "      <th>Alternative_HomeRange_method</th>\n",
       "      <th>Study_duration_months</th>\n",
       "      <th>Refs</th>\n",
       "    </tr>\n",
       "  </thead>\n",
       "  <tbody>\n",
       "    <tr>\n",
       "      <th>0</th>\n",
       "      <td>Cercopithecidae</td>\n",
       "      <td>Allenopithecus</td>\n",
       "      <td>Allen_s_Swamp_Monkey</td>\n",
       "      <td>Allenopithecus_nigroviridis</td>\n",
       "      <td>Allenopithecus_nigroviridis</td>\n",
       "      <td>NaN</td>\n",
       "      <td>NaN</td>\n",
       "      <td>NaN</td>\n",
       "      <td>NaN</td>\n",
       "      <td>NaN</td>\n",
       "      <td>NaN</td>\n",
       "      <td>NaN</td>\n",
       "      <td>NaN</td>\n",
       "      <td>NaN</td>\n",
       "      <td>NaN</td>\n",
       "    </tr>\n",
       "    <tr>\n",
       "      <th>1</th>\n",
       "      <td>Cheirogaleidae</td>\n",
       "      <td>Allocebus</td>\n",
       "      <td>Hairy_eared_Dwarf_Lemur</td>\n",
       "      <td>Allocebus_trichotis</td>\n",
       "      <td>Allocebus_trichotis</td>\n",
       "      <td>25.750</td>\n",
       "      <td>16</td>\n",
       "      <td>35.5</td>\n",
       "      <td>2</td>\n",
       "      <td>3</td>\n",
       "      <td>Minimum convex polygon</td>\n",
       "      <td>10.4</td>\n",
       "      <td>Kernel density estimators</td>\n",
       "      <td>8</td>\n",
       "      <td>373.0</td>\n",
       "    </tr>\n",
       "    <tr>\n",
       "      <th>2</th>\n",
       "      <td>Cercopithecidae</td>\n",
       "      <td>Allochrocebus</td>\n",
       "      <td>L_Hoest_s_Monkey</td>\n",
       "      <td>Allochrocebus_lhoesti</td>\n",
       "      <td>Allochrocebus_lhoesti</td>\n",
       "      <td>116.600</td>\n",
       "      <td>NI</td>\n",
       "      <td>NI</td>\n",
       "      <td>NI</td>\n",
       "      <td>NI</td>\n",
       "      <td>NI</td>\n",
       "      <td>NI</td>\n",
       "      <td>NI</td>\n",
       "      <td>NI</td>\n",
       "      <td>1174.0</td>\n",
       "    </tr>\n",
       "    <tr>\n",
       "      <th>3</th>\n",
       "      <td>Cercopithecidae</td>\n",
       "      <td>Allochrocebus</td>\n",
       "      <td>L_Hoest_s_Monkey</td>\n",
       "      <td>Allochrocebus_lhoesti</td>\n",
       "      <td>Allochrocebus_lhoesti</td>\n",
       "      <td>61.325</td>\n",
       "      <td>51.81</td>\n",
       "      <td>70.84</td>\n",
       "      <td>2</td>\n",
       "      <td>27</td>\n",
       "      <td>Kernel density estimators</td>\n",
       "      <td>75.5</td>\n",
       "      <td>Minimum convex polygon</td>\n",
       "      <td>11</td>\n",
       "      <td>245.0</td>\n",
       "    </tr>\n",
       "    <tr>\n",
       "      <th>4</th>\n",
       "      <td>Cercopithecidae</td>\n",
       "      <td>Allochrocebus</td>\n",
       "      <td>Preuss_s_Monkey</td>\n",
       "      <td>Allochrocebus_preussi</td>\n",
       "      <td>Allochrocebus_preussi</td>\n",
       "      <td>NaN</td>\n",
       "      <td>NaN</td>\n",
       "      <td>NaN</td>\n",
       "      <td>NaN</td>\n",
       "      <td>NaN</td>\n",
       "      <td>NaN</td>\n",
       "      <td>NaN</td>\n",
       "      <td>NaN</td>\n",
       "      <td>NaN</td>\n",
       "      <td>NaN</td>\n",
       "    </tr>\n",
       "    <tr>\n",
       "      <th>5</th>\n",
       "      <td>Cercopithecidae</td>\n",
       "      <td>Allochrocebus</td>\n",
       "      <td>Sun_tailed_Monkey</td>\n",
       "      <td>Allochrocebus_solatus</td>\n",
       "      <td>Allochrocebus_solatus</td>\n",
       "      <td>NaN</td>\n",
       "      <td>NaN</td>\n",
       "      <td>NaN</td>\n",
       "      <td>NaN</td>\n",
       "      <td>NaN</td>\n",
       "      <td>NaN</td>\n",
       "      <td>NaN</td>\n",
       "      <td>NaN</td>\n",
       "      <td>NaN</td>\n",
       "      <td>NaN</td>\n",
       "    </tr>\n",
       "    <tr>\n",
       "      <th>6</th>\n",
       "      <td>Atelidae</td>\n",
       "      <td>Alouatta</td>\n",
       "      <td>Ursine_Red_Howler</td>\n",
       "      <td>Alouatta_arctoidea</td>\n",
       "      <td>Alouatta_arctoidea</td>\n",
       "      <td>7.520</td>\n",
       "      <td>NI</td>\n",
       "      <td>NI</td>\n",
       "      <td>NI</td>\n",
       "      <td>NI</td>\n",
       "      <td>NI</td>\n",
       "      <td>NI</td>\n",
       "      <td>NI</td>\n",
       "      <td>NI</td>\n",
       "      <td>381.0</td>\n",
       "    </tr>\n",
       "    <tr>\n",
       "      <th>7</th>\n",
       "      <td>Atelidae</td>\n",
       "      <td>Alouatta</td>\n",
       "      <td>Ursine_Red_Howler</td>\n",
       "      <td>Alouatta_arctoidea</td>\n",
       "      <td>Alouatta_arctoidea</td>\n",
       "      <td>14.500</td>\n",
       "      <td>4</td>\n",
       "      <td>25</td>\n",
       "      <td>NI</td>\n",
       "      <td>NI</td>\n",
       "      <td>NI</td>\n",
       "      <td>NI</td>\n",
       "      <td>NI</td>\n",
       "      <td>NI</td>\n",
       "      <td>380.0</td>\n",
       "    </tr>\n",
       "    <tr>\n",
       "      <th>8</th>\n",
       "      <td>Atelidae</td>\n",
       "      <td>Alouatta</td>\n",
       "      <td>Ursine_Red_Howler</td>\n",
       "      <td>Alouatta_arctoidea</td>\n",
       "      <td>Alouatta_arctoidea</td>\n",
       "      <td>5.500</td>\n",
       "      <td>4</td>\n",
       "      <td>7</td>\n",
       "      <td>NI</td>\n",
       "      <td>NI</td>\n",
       "      <td>NI</td>\n",
       "      <td>NI</td>\n",
       "      <td>NI</td>\n",
       "      <td>NI</td>\n",
       "      <td>393.0</td>\n",
       "    </tr>\n",
       "    <tr>\n",
       "      <th>9</th>\n",
       "      <td>Atelidae</td>\n",
       "      <td>Alouatta</td>\n",
       "      <td>Red_handed_Howler</td>\n",
       "      <td>Alouatta_belzebul</td>\n",
       "      <td>Alouatta_belzebul</td>\n",
       "      <td>7.125</td>\n",
       "      <td>4.75</td>\n",
       "      <td>9.5</td>\n",
       "      <td>2</td>\n",
       "      <td>7</td>\n",
       "      <td>NI</td>\n",
       "      <td>NI</td>\n",
       "      <td>NI</td>\n",
       "      <td>15</td>\n",
       "      <td>382.0</td>\n",
       "    </tr>\n",
       "    <tr>\n",
       "      <th>10</th>\n",
       "      <td>Atelidae</td>\n",
       "      <td>Alouatta</td>\n",
       "      <td>Red_handed_Howler</td>\n",
       "      <td>Alouatta_belzebul</td>\n",
       "      <td>Alouatta_belzebul</td>\n",
       "      <td>15.750</td>\n",
       "      <td>13.5</td>\n",
       "      <td>18.05</td>\n",
       "      <td>NI</td>\n",
       "      <td>NI</td>\n",
       "      <td>NI</td>\n",
       "      <td>NI</td>\n",
       "      <td>NI</td>\n",
       "      <td>NI</td>\n",
       "      <td>383.0</td>\n",
       "    </tr>\n",
       "    <tr>\n",
       "      <th>11</th>\n",
       "      <td>Atelidae</td>\n",
       "      <td>Alouatta</td>\n",
       "      <td>Paraguayan_Howler</td>\n",
       "      <td>Alouatta_caraya</td>\n",
       "      <td>Alouatta_caraya</td>\n",
       "      <td>1.950</td>\n",
       "      <td>1.7</td>\n",
       "      <td>2.2</td>\n",
       "      <td>2</td>\n",
       "      <td>18.5</td>\n",
       "      <td>NI</td>\n",
       "      <td>NI</td>\n",
       "      <td>NI</td>\n",
       "      <td>17</td>\n",
       "      <td>2.0</td>\n",
       "    </tr>\n",
       "    <tr>\n",
       "      <th>12</th>\n",
       "      <td>Atelidae</td>\n",
       "      <td>Alouatta</td>\n",
       "      <td>Paraguayan_Howler</td>\n",
       "      <td>Alouatta_caraya</td>\n",
       "      <td>Alouatta_caraya</td>\n",
       "      <td>11.875</td>\n",
       "      <td>5</td>\n",
       "      <td>18.75</td>\n",
       "      <td>2</td>\n",
       "      <td>11.5</td>\n",
       "      <td>Scanning</td>\n",
       "      <td>9.8</td>\n",
       "      <td>Minimum convex polygon</td>\n",
       "      <td>12</td>\n",
       "      <td>384.0</td>\n",
       "    </tr>\n",
       "    <tr>\n",
       "      <th>13</th>\n",
       "      <td>Atelidae</td>\n",
       "      <td>Alouatta</td>\n",
       "      <td>Spix_s_Howler</td>\n",
       "      <td>Alouatta_discolor</td>\n",
       "      <td>Alouatta_discolor</td>\n",
       "      <td>69.000</td>\n",
       "      <td>NI</td>\n",
       "      <td>NI</td>\n",
       "      <td>NI</td>\n",
       "      <td>NI</td>\n",
       "      <td>NI</td>\n",
       "      <td>NI</td>\n",
       "      <td>NI</td>\n",
       "      <td>NI</td>\n",
       "      <td>388.0</td>\n",
       "    </tr>\n",
       "    <tr>\n",
       "      <th>14</th>\n",
       "      <td>Atelidae</td>\n",
       "      <td>Alouatta</td>\n",
       "      <td>Spix_s_Howler</td>\n",
       "      <td>Alouatta_discolor</td>\n",
       "      <td>Alouatta_discolor</td>\n",
       "      <td>50.100</td>\n",
       "      <td>NI</td>\n",
       "      <td>NI</td>\n",
       "      <td>1</td>\n",
       "      <td>07-sep</td>\n",
       "      <td>Grid cell approach</td>\n",
       "      <td>63.2</td>\n",
       "      <td>Minimum convex polygon</td>\n",
       "      <td>13</td>\n",
       "      <td>389.0</td>\n",
       "    </tr>\n",
       "    <tr>\n",
       "      <th>15</th>\n",
       "      <td>Atelidae</td>\n",
       "      <td>Alouatta</td>\n",
       "      <td>Brown_Howler</td>\n",
       "      <td>Alouatta_guariba</td>\n",
       "      <td>Alouatta_guariba</td>\n",
       "      <td>26.000</td>\n",
       "      <td>NI</td>\n",
       "      <td>NI</td>\n",
       "      <td>1(12</td>\n",
       "      <td>12</td>\n",
       "      <td>Minimum convex polygon</td>\n",
       "      <td>12.5</td>\n",
       "      <td>Grid cell approach</td>\n",
       "      <td>12</td>\n",
       "      <td>390.0</td>\n",
       "    </tr>\n",
       "    <tr>\n",
       "      <th>16</th>\n",
       "      <td>Atelidae</td>\n",
       "      <td>Alouatta</td>\n",
       "      <td>Brown_Howler</td>\n",
       "      <td>Alouatta_guariba</td>\n",
       "      <td>Alouatta_guariba</td>\n",
       "      <td>4.130</td>\n",
       "      <td>NI</td>\n",
       "      <td>NI</td>\n",
       "      <td>1(6</td>\n",
       "      <td>6</td>\n",
       "      <td>Grid cell approach</td>\n",
       "      <td>NI</td>\n",
       "      <td>NI</td>\n",
       "      <td>12</td>\n",
       "      <td>1206.0</td>\n",
       "    </tr>\n",
       "    <tr>\n",
       "      <th>17</th>\n",
       "      <td>Atelidae</td>\n",
       "      <td>Alouatta</td>\n",
       "      <td>Guianan_Red_Howler</td>\n",
       "      <td>Alouatta_macconnelli</td>\n",
       "      <td>Alouatta_macconnelli</td>\n",
       "      <td>45.000</td>\n",
       "      <td>NI</td>\n",
       "      <td>NI</td>\n",
       "      <td>1</td>\n",
       "      <td>6</td>\n",
       "      <td>NI</td>\n",
       "      <td>NI</td>\n",
       "      <td>NI</td>\n",
       "      <td>19</td>\n",
       "      <td>1207.0</td>\n",
       "    </tr>\n",
       "    <tr>\n",
       "      <th>18</th>\n",
       "      <td>Atelidae</td>\n",
       "      <td>Alouatta</td>\n",
       "      <td>Guianan_Red_Howler</td>\n",
       "      <td>Alouatta_macconnelli</td>\n",
       "      <td>Alouatta_macconnelli</td>\n",
       "      <td>6.620</td>\n",
       "      <td>NI</td>\n",
       "      <td>NI</td>\n",
       "      <td>26</td>\n",
       "      <td>8.5</td>\n",
       "      <td>NI</td>\n",
       "      <td>NI</td>\n",
       "      <td>NI</td>\n",
       "      <td>17</td>\n",
       "      <td>395.0</td>\n",
       "    </tr>\n",
       "    <tr>\n",
       "      <th>19</th>\n",
       "      <td>Atelidae</td>\n",
       "      <td>Alouatta</td>\n",
       "      <td>Amazon_Black_Howler</td>\n",
       "      <td>Alouatta_nigerrima</td>\n",
       "      <td>Alouatta_nigerrima</td>\n",
       "      <td>25.000</td>\n",
       "      <td>5</td>\n",
       "      <td>45</td>\n",
       "      <td>NI</td>\n",
       "      <td>NI</td>\n",
       "      <td>NI</td>\n",
       "      <td>NI</td>\n",
       "      <td>NI</td>\n",
       "      <td>NI</td>\n",
       "      <td>3.0</td>\n",
       "    </tr>\n",
       "    <tr>\n",
       "      <th>20</th>\n",
       "      <td>Atelidae</td>\n",
       "      <td>Alouatta</td>\n",
       "      <td>Mantled_Howler</td>\n",
       "      <td>Alouatta_palliata</td>\n",
       "      <td>Alouatta_palliata</td>\n",
       "      <td>40.450</td>\n",
       "      <td>4.9</td>\n",
       "      <td>76</td>\n",
       "      <td>NI</td>\n",
       "      <td>NI</td>\n",
       "      <td>NI</td>\n",
       "      <td>NI</td>\n",
       "      <td>NI</td>\n",
       "      <td>NI</td>\n",
       "      <td>392.0</td>\n",
       "    </tr>\n",
       "    <tr>\n",
       "      <th>21</th>\n",
       "      <td>Atelidae</td>\n",
       "      <td>Alouatta</td>\n",
       "      <td>Central_American_Black_Howler</td>\n",
       "      <td>Alouatta_pigra</td>\n",
       "      <td>Alouatta_pigra</td>\n",
       "      <td>16.860</td>\n",
       "      <td>9.3</td>\n",
       "      <td>24.5</td>\n",
       "      <td>6</td>\n",
       "      <td>5.6</td>\n",
       "      <td>Other</td>\n",
       "      <td>NI</td>\n",
       "      <td>NI</td>\n",
       "      <td>14</td>\n",
       "      <td>397.0</td>\n",
       "    </tr>\n",
       "    <tr>\n",
       "      <th>22</th>\n",
       "      <td>Atelidae</td>\n",
       "      <td>Alouatta</td>\n",
       "      <td>Central_American_Black_Howler</td>\n",
       "      <td>Alouatta_pigra</td>\n",
       "      <td>Alouatta_pigra</td>\n",
       "      <td>7.100</td>\n",
       "      <td>5.6</td>\n",
       "      <td>9</td>\n",
       "      <td>3</td>\n",
       "      <td>7.83</td>\n",
       "      <td>Kernel density estimators</td>\n",
       "      <td>NI</td>\n",
       "      <td>NI</td>\n",
       "      <td>16</td>\n",
       "      <td>398.0</td>\n",
       "    </tr>\n",
       "    <tr>\n",
       "      <th>23</th>\n",
       "      <td>Atelidae</td>\n",
       "      <td>Alouatta</td>\n",
       "      <td>Bolivian_Red_Howler</td>\n",
       "      <td>Alouatta_sara</td>\n",
       "      <td>Alouatta_sara</td>\n",
       "      <td>NaN</td>\n",
       "      <td>NaN</td>\n",
       "      <td>NaN</td>\n",
       "      <td>NaN</td>\n",
       "      <td>NaN</td>\n",
       "      <td>NaN</td>\n",
       "      <td>NaN</td>\n",
       "      <td>NaN</td>\n",
       "      <td>NaN</td>\n",
       "      <td>NaN</td>\n",
       "    </tr>\n",
       "    <tr>\n",
       "      <th>24</th>\n",
       "      <td>Atelidae</td>\n",
       "      <td>Alouatta</td>\n",
       "      <td>Colombian_Red_Howler</td>\n",
       "      <td>Alouatta_seniculus</td>\n",
       "      <td>Alouatta_seniculus</td>\n",
       "      <td>22.000</td>\n",
       "      <td>NI</td>\n",
       "      <td>NI</td>\n",
       "      <td>1</td>\n",
       "      <td>09-oct</td>\n",
       "      <td>NI</td>\n",
       "      <td>NI</td>\n",
       "      <td>NI</td>\n",
       "      <td>16</td>\n",
       "      <td>403.0</td>\n",
       "    </tr>\n",
       "    <tr>\n",
       "      <th>25</th>\n",
       "      <td>Atelidae</td>\n",
       "      <td>Alouatta</td>\n",
       "      <td>Colombian_Red_Howler</td>\n",
       "      <td>Alouatta_seniculus</td>\n",
       "      <td>Alouatta_seniculus</td>\n",
       "      <td>6.620</td>\n",
       "      <td>NI</td>\n",
       "      <td>NI</td>\n",
       "      <td>26</td>\n",
       "      <td>8.5</td>\n",
       "      <td>NI</td>\n",
       "      <td>NI</td>\n",
       "      <td>NI</td>\n",
       "      <td>17</td>\n",
       "      <td>395.0</td>\n",
       "    </tr>\n",
       "    <tr>\n",
       "      <th>26</th>\n",
       "      <td>Atelidae</td>\n",
       "      <td>Alouatta</td>\n",
       "      <td>Colombian_Red_Howler</td>\n",
       "      <td>Alouatta_seniculus</td>\n",
       "      <td>Alouatta_seniculus</td>\n",
       "      <td>182.000</td>\n",
       "      <td>NI</td>\n",
       "      <td>NI</td>\n",
       "      <td>1</td>\n",
       "      <td>07-ago</td>\n",
       "      <td>NI</td>\n",
       "      <td>NI</td>\n",
       "      <td>NI</td>\n",
       "      <td>10</td>\n",
       "      <td>404.0</td>\n",
       "    </tr>\n",
       "    <tr>\n",
       "      <th>27</th>\n",
       "      <td>Atelidae</td>\n",
       "      <td>Alouatta</td>\n",
       "      <td>Maranhão_Red_handed_Howler</td>\n",
       "      <td>Alouatta_ululata</td>\n",
       "      <td>Alouatta_ululata</td>\n",
       "      <td>24.740</td>\n",
       "      <td>13.85</td>\n",
       "      <td>35.62</td>\n",
       "      <td>2</td>\n",
       "      <td>43</td>\n",
       "      <td>Adaptative Kernel</td>\n",
       "      <td>12.85</td>\n",
       "      <td>Minimum convex polygon</td>\n",
       "      <td>NI</td>\n",
       "      <td>4.0</td>\n",
       "    </tr>\n",
       "    <tr>\n",
       "      <th>28</th>\n",
       "      <td>Aotidae</td>\n",
       "      <td>Aotus</td>\n",
       "      <td>Azara_s_Night_Monkey</td>\n",
       "      <td>Aotus_azarae</td>\n",
       "      <td>Aotus_azarae</td>\n",
       "      <td>7.000</td>\n",
       "      <td>4</td>\n",
       "      <td>10</td>\n",
       "      <td>NI</td>\n",
       "      <td>NI</td>\n",
       "      <td>NI</td>\n",
       "      <td>NI</td>\n",
       "      <td>NI</td>\n",
       "      <td>NI</td>\n",
       "      <td>407.0</td>\n",
       "    </tr>\n",
       "    <tr>\n",
       "      <th>29</th>\n",
       "      <td>Aotidae</td>\n",
       "      <td>Aotus</td>\n",
       "      <td>Brumback_s_Night_Monkey</td>\n",
       "      <td>Aotus_brumbacki</td>\n",
       "      <td>Aotus_brumbacki</td>\n",
       "      <td>17.500</td>\n",
       "      <td>NI</td>\n",
       "      <td>NI</td>\n",
       "      <td>NI</td>\n",
       "      <td>NI</td>\n",
       "      <td>NI</td>\n",
       "      <td>NI</td>\n",
       "      <td>NI</td>\n",
       "      <td>NI</td>\n",
       "      <td>410.0</td>\n",
       "    </tr>\n",
       "  </tbody>\n",
       "</table>\n",
       "</div>"
      ],
      "text/plain": [
       "             Family           Genus                     CommonName  \\\n",
       "0   Cercopithecidae  Allenopithecus           Allen_s_Swamp_Monkey   \n",
       "1    Cheirogaleidae       Allocebus        Hairy_eared_Dwarf_Lemur   \n",
       "2   Cercopithecidae   Allochrocebus               L_Hoest_s_Monkey   \n",
       "3   Cercopithecidae   Allochrocebus               L_Hoest_s_Monkey   \n",
       "4   Cercopithecidae   Allochrocebus                Preuss_s_Monkey   \n",
       "5   Cercopithecidae   Allochrocebus              Sun_tailed_Monkey   \n",
       "6          Atelidae        Alouatta              Ursine_Red_Howler   \n",
       "7          Atelidae        Alouatta              Ursine_Red_Howler   \n",
       "8          Atelidae        Alouatta              Ursine_Red_Howler   \n",
       "9          Atelidae        Alouatta              Red_handed_Howler   \n",
       "10         Atelidae        Alouatta              Red_handed_Howler   \n",
       "11         Atelidae        Alouatta              Paraguayan_Howler   \n",
       "12         Atelidae        Alouatta              Paraguayan_Howler   \n",
       "13         Atelidae        Alouatta                  Spix_s_Howler   \n",
       "14         Atelidae        Alouatta                  Spix_s_Howler   \n",
       "15         Atelidae        Alouatta                   Brown_Howler   \n",
       "16         Atelidae        Alouatta                   Brown_Howler   \n",
       "17         Atelidae        Alouatta             Guianan_Red_Howler   \n",
       "18         Atelidae        Alouatta             Guianan_Red_Howler   \n",
       "19         Atelidae        Alouatta            Amazon_Black_Howler   \n",
       "20         Atelidae        Alouatta                 Mantled_Howler   \n",
       "21         Atelidae        Alouatta  Central_American_Black_Howler   \n",
       "22         Atelidae        Alouatta  Central_American_Black_Howler   \n",
       "23         Atelidae        Alouatta            Bolivian_Red_Howler   \n",
       "24         Atelidae        Alouatta           Colombian_Red_Howler   \n",
       "25         Atelidae        Alouatta           Colombian_Red_Howler   \n",
       "26         Atelidae        Alouatta           Colombian_Red_Howler   \n",
       "27         Atelidae        Alouatta     Maranhão_Red_handed_Howler   \n",
       "28          Aotidae           Aotus           Azara_s_Night_Monkey   \n",
       "29          Aotidae           Aotus        Brumback_s_Night_Monkey   \n",
       "\n",
       "                        Species               Species (ITIS)  HomeRange_ha  \\\n",
       "0   Allenopithecus_nigroviridis  Allenopithecus_nigroviridis           NaN   \n",
       "1           Allocebus_trichotis          Allocebus_trichotis        25.750   \n",
       "2         Allochrocebus_lhoesti        Allochrocebus_lhoesti       116.600   \n",
       "3         Allochrocebus_lhoesti        Allochrocebus_lhoesti        61.325   \n",
       "4         Allochrocebus_preussi        Allochrocebus_preussi           NaN   \n",
       "5         Allochrocebus_solatus        Allochrocebus_solatus           NaN   \n",
       "6            Alouatta_arctoidea           Alouatta_arctoidea         7.520   \n",
       "7            Alouatta_arctoidea           Alouatta_arctoidea        14.500   \n",
       "8            Alouatta_arctoidea           Alouatta_arctoidea         5.500   \n",
       "9             Alouatta_belzebul            Alouatta_belzebul         7.125   \n",
       "10            Alouatta_belzebul            Alouatta_belzebul        15.750   \n",
       "11              Alouatta_caraya              Alouatta_caraya         1.950   \n",
       "12              Alouatta_caraya              Alouatta_caraya        11.875   \n",
       "13            Alouatta_discolor            Alouatta_discolor        69.000   \n",
       "14            Alouatta_discolor            Alouatta_discolor        50.100   \n",
       "15             Alouatta_guariba             Alouatta_guariba        26.000   \n",
       "16             Alouatta_guariba             Alouatta_guariba         4.130   \n",
       "17         Alouatta_macconnelli         Alouatta_macconnelli        45.000   \n",
       "18         Alouatta_macconnelli         Alouatta_macconnelli         6.620   \n",
       "19           Alouatta_nigerrima           Alouatta_nigerrima        25.000   \n",
       "20            Alouatta_palliata            Alouatta_palliata        40.450   \n",
       "21               Alouatta_pigra               Alouatta_pigra        16.860   \n",
       "22               Alouatta_pigra               Alouatta_pigra         7.100   \n",
       "23                Alouatta_sara                Alouatta_sara           NaN   \n",
       "24           Alouatta_seniculus           Alouatta_seniculus        22.000   \n",
       "25           Alouatta_seniculus           Alouatta_seniculus         6.620   \n",
       "26           Alouatta_seniculus           Alouatta_seniculus       182.000   \n",
       "27             Alouatta_ululata             Alouatta_ululata        24.740   \n",
       "28                 Aotus_azarae                 Aotus_azarae         7.000   \n",
       "29              Aotus_brumbacki              Aotus_brumbacki        17.500   \n",
       "\n",
       "   Low_range High_range N_groups Mean_individuals                     Method  \\\n",
       "0        NaN        NaN      NaN              NaN                        NaN   \n",
       "1         16       35.5        2                3     Minimum convex polygon   \n",
       "2         NI         NI       NI               NI                         NI   \n",
       "3      51.81      70.84        2               27  Kernel density estimators   \n",
       "4        NaN        NaN      NaN              NaN                        NaN   \n",
       "5        NaN        NaN      NaN              NaN                        NaN   \n",
       "6         NI         NI       NI               NI                         NI   \n",
       "7          4         25       NI               NI                         NI   \n",
       "8          4          7       NI               NI                         NI   \n",
       "9       4.75        9.5        2                7                         NI   \n",
       "10      13.5      18.05       NI               NI                         NI   \n",
       "11       1.7        2.2        2             18.5                         NI   \n",
       "12         5      18.75        2             11.5                   Scanning   \n",
       "13        NI         NI       NI               NI                         NI   \n",
       "14        NI         NI        1           07-sep         Grid cell approach   \n",
       "15        NI         NI     1(12               12     Minimum convex polygon   \n",
       "16        NI         NI      1(6                6         Grid cell approach   \n",
       "17        NI         NI        1                6                         NI   \n",
       "18        NI         NI       26              8.5                         NI   \n",
       "19         5         45       NI               NI                         NI   \n",
       "20       4.9         76       NI               NI                         NI   \n",
       "21       9.3       24.5        6              5.6                      Other   \n",
       "22       5.6          9        3             7.83  Kernel density estimators   \n",
       "23       NaN        NaN      NaN              NaN                        NaN   \n",
       "24        NI         NI        1           09-oct                         NI   \n",
       "25        NI         NI       26              8.5                         NI   \n",
       "26        NI         NI        1           07-ago                         NI   \n",
       "27     13.85      35.62        2               43          Adaptative Kernel   \n",
       "28         4         10       NI               NI                         NI   \n",
       "29        NI         NI       NI               NI                         NI   \n",
       "\n",
       "   Alternative_HomeRange_ha Alternative_HomeRange_method  \\\n",
       "0                       NaN                          NaN   \n",
       "1                      10.4    Kernel density estimators   \n",
       "2                        NI                           NI   \n",
       "3                      75.5       Minimum convex polygon   \n",
       "4                       NaN                          NaN   \n",
       "5                       NaN                          NaN   \n",
       "6                        NI                           NI   \n",
       "7                        NI                           NI   \n",
       "8                        NI                           NI   \n",
       "9                        NI                           NI   \n",
       "10                       NI                           NI   \n",
       "11                       NI                           NI   \n",
       "12                      9.8       Minimum convex polygon   \n",
       "13                       NI                           NI   \n",
       "14                     63.2       Minimum convex polygon   \n",
       "15                     12.5           Grid cell approach   \n",
       "16                       NI                           NI   \n",
       "17                       NI                           NI   \n",
       "18                       NI                           NI   \n",
       "19                       NI                           NI   \n",
       "20                       NI                           NI   \n",
       "21                       NI                           NI   \n",
       "22                       NI                           NI   \n",
       "23                      NaN                          NaN   \n",
       "24                       NI                           NI   \n",
       "25                       NI                           NI   \n",
       "26                       NI                           NI   \n",
       "27                    12.85       Minimum convex polygon   \n",
       "28                       NI                           NI   \n",
       "29                       NI                           NI   \n",
       "\n",
       "   Study_duration_months    Refs  \n",
       "0                    NaN     NaN  \n",
       "1                      8   373.0  \n",
       "2                     NI  1174.0  \n",
       "3                     11   245.0  \n",
       "4                    NaN     NaN  \n",
       "5                    NaN     NaN  \n",
       "6                     NI   381.0  \n",
       "7                     NI   380.0  \n",
       "8                     NI   393.0  \n",
       "9                     15   382.0  \n",
       "10                    NI   383.0  \n",
       "11                    17     2.0  \n",
       "12                    12   384.0  \n",
       "13                    NI   388.0  \n",
       "14                    13   389.0  \n",
       "15                    12   390.0  \n",
       "16                    12  1206.0  \n",
       "17                    19  1207.0  \n",
       "18                    17   395.0  \n",
       "19                    NI     3.0  \n",
       "20                    NI   392.0  \n",
       "21                    14   397.0  \n",
       "22                    16   398.0  \n",
       "23                   NaN     NaN  \n",
       "24                    16   403.0  \n",
       "25                    17   395.0  \n",
       "26                    10   404.0  \n",
       "27                    NI     4.0  \n",
       "28                    NI   407.0  \n",
       "29                    NI   410.0  "
      ]
     },
     "execution_count": 209,
     "metadata": {},
     "output_type": "execute_result"
    }
   ],
   "source": [
    "df = pd.read_csv('HomeRange.csv', encoding='latin-1')\n",
    "df.head(30)"
   ]
  },
  {
   "cell_type": "code",
   "execution_count": 210,
   "metadata": {},
   "outputs": [],
   "source": [
    "df.drop(['Species', 'Species (ITIS)'], axis=1, inplace=True)"
   ]
  },
  {
   "cell_type": "code",
   "execution_count": 211,
   "metadata": {},
   "outputs": [],
   "source": [
    "df.drop(df.columns[4:], axis=1, inplace=True)"
   ]
  },
  {
   "cell_type": "code",
   "execution_count": 212,
   "metadata": {},
   "outputs": [
    {
     "data": {
      "text/html": [
       "<div>\n",
       "<style scoped>\n",
       "    .dataframe tbody tr th:only-of-type {\n",
       "        vertical-align: middle;\n",
       "    }\n",
       "\n",
       "    .dataframe tbody tr th {\n",
       "        vertical-align: top;\n",
       "    }\n",
       "\n",
       "    .dataframe thead th {\n",
       "        text-align: right;\n",
       "    }\n",
       "</style>\n",
       "<table border=\"1\" class=\"dataframe\">\n",
       "  <thead>\n",
       "    <tr style=\"text-align: right;\">\n",
       "      <th></th>\n",
       "      <th>Family</th>\n",
       "      <th>Genus</th>\n",
       "      <th>CommonName</th>\n",
       "      <th>HomeRange_ha</th>\n",
       "    </tr>\n",
       "  </thead>\n",
       "  <tbody>\n",
       "    <tr>\n",
       "      <th>0</th>\n",
       "      <td>Cercopithecidae</td>\n",
       "      <td>Allenopithecus</td>\n",
       "      <td>Allen_s_Swamp_Monkey</td>\n",
       "      <td>NaN</td>\n",
       "    </tr>\n",
       "    <tr>\n",
       "      <th>1</th>\n",
       "      <td>Cheirogaleidae</td>\n",
       "      <td>Allocebus</td>\n",
       "      <td>Hairy_eared_Dwarf_Lemur</td>\n",
       "      <td>25.750</td>\n",
       "    </tr>\n",
       "    <tr>\n",
       "      <th>2</th>\n",
       "      <td>Cercopithecidae</td>\n",
       "      <td>Allochrocebus</td>\n",
       "      <td>L_Hoest_s_Monkey</td>\n",
       "      <td>116.600</td>\n",
       "    </tr>\n",
       "    <tr>\n",
       "      <th>3</th>\n",
       "      <td>Cercopithecidae</td>\n",
       "      <td>Allochrocebus</td>\n",
       "      <td>L_Hoest_s_Monkey</td>\n",
       "      <td>61.325</td>\n",
       "    </tr>\n",
       "    <tr>\n",
       "      <th>4</th>\n",
       "      <td>Cercopithecidae</td>\n",
       "      <td>Allochrocebus</td>\n",
       "      <td>Preuss_s_Monkey</td>\n",
       "      <td>NaN</td>\n",
       "    </tr>\n",
       "    <tr>\n",
       "      <th>...</th>\n",
       "      <td>...</td>\n",
       "      <td>...</td>\n",
       "      <td>...</td>\n",
       "      <td>...</td>\n",
       "    </tr>\n",
       "    <tr>\n",
       "      <th>743</th>\n",
       "      <td>Cercopithecidae</td>\n",
       "      <td>Trachypithecus</td>\n",
       "      <td>Shortridge_s_Langur</td>\n",
       "      <td>NaN</td>\n",
       "    </tr>\n",
       "    <tr>\n",
       "      <th>744</th>\n",
       "      <td>Lemuridae</td>\n",
       "      <td>Varecia</td>\n",
       "      <td>Red_Ruffed_Lemur</td>\n",
       "      <td>24.550</td>\n",
       "    </tr>\n",
       "    <tr>\n",
       "      <th>745</th>\n",
       "      <td>Lemuridae</td>\n",
       "      <td>Varecia</td>\n",
       "      <td>Red_Ruffed_Lemur</td>\n",
       "      <td>10.500</td>\n",
       "    </tr>\n",
       "    <tr>\n",
       "      <th>746</th>\n",
       "      <td>Lemuridae</td>\n",
       "      <td>Varecia</td>\n",
       "      <td>Black_and_white_Ruffed_Lemur</td>\n",
       "      <td>116.670</td>\n",
       "    </tr>\n",
       "    <tr>\n",
       "      <th>747</th>\n",
       "      <td>Lemuridae</td>\n",
       "      <td>Varecia</td>\n",
       "      <td>Black_and_white_Ruffed_Lemur</td>\n",
       "      <td>139.000</td>\n",
       "    </tr>\n",
       "  </tbody>\n",
       "</table>\n",
       "<p>748 rows × 4 columns</p>\n",
       "</div>"
      ],
      "text/plain": [
       "              Family           Genus                    CommonName  \\\n",
       "0    Cercopithecidae  Allenopithecus          Allen_s_Swamp_Monkey   \n",
       "1     Cheirogaleidae       Allocebus       Hairy_eared_Dwarf_Lemur   \n",
       "2    Cercopithecidae   Allochrocebus              L_Hoest_s_Monkey   \n",
       "3    Cercopithecidae   Allochrocebus              L_Hoest_s_Monkey   \n",
       "4    Cercopithecidae   Allochrocebus               Preuss_s_Monkey   \n",
       "..               ...             ...                           ...   \n",
       "743  Cercopithecidae  Trachypithecus           Shortridge_s_Langur   \n",
       "744        Lemuridae         Varecia              Red_Ruffed_Lemur   \n",
       "745        Lemuridae         Varecia              Red_Ruffed_Lemur   \n",
       "746        Lemuridae         Varecia  Black_and_white_Ruffed_Lemur   \n",
       "747        Lemuridae         Varecia  Black_and_white_Ruffed_Lemur   \n",
       "\n",
       "     HomeRange_ha  \n",
       "0             NaN  \n",
       "1          25.750  \n",
       "2         116.600  \n",
       "3          61.325  \n",
       "4             NaN  \n",
       "..            ...  \n",
       "743           NaN  \n",
       "744        24.550  \n",
       "745        10.500  \n",
       "746       116.670  \n",
       "747       139.000  \n",
       "\n",
       "[748 rows x 4 columns]"
      ]
     },
     "execution_count": 212,
     "metadata": {},
     "output_type": "execute_result"
    }
   ],
   "source": [
    "df"
   ]
  },
  {
   "cell_type": "code",
   "execution_count": 213,
   "metadata": {},
   "outputs": [],
   "source": [
    "df = df.rename(columns={'HomeRange_ha':'Territory (ha)'})"
   ]
  },
  {
   "cell_type": "code",
   "execution_count": 214,
   "metadata": {},
   "outputs": [
    {
     "data": {
      "text/plain": [
       "'Je veux remplacer les rangs duplicatas, où il y a eu plusieurs observations de la même espèce par la \\nmoyenne des territoires observés'"
      ]
     },
     "execution_count": 214,
     "metadata": {},
     "output_type": "execute_result"
    }
   ],
   "source": [
    "\"\"\"Je veux remplacer les rangs duplicatas, où il y a eu plusieurs observations de la même espèce par la \n",
    "moyenne des territoires observés\"\"\""
   ]
  },
  {
   "cell_type": "code",
   "execution_count": 215,
   "metadata": {},
   "outputs": [],
   "source": [
    "mean_terr_Spider_Monkey = (df.loc[df['CommonName']=='Central_American_Spider_Monkey', 'Territory (ha)'].mean())"
   ]
  },
  {
   "cell_type": "code",
   "execution_count": 216,
   "metadata": {},
   "outputs": [],
   "source": [
    "df.loc[df['CommonName']=='Central_American_Spider_Monkey', 'Territory (ha)']=round(mean_terr_Spider_Monkey)"
   ]
  },
  {
   "cell_type": "code",
   "execution_count": 217,
   "metadata": {},
   "outputs": [
    {
     "data": {
      "text/plain": [
       "51    388\n",
       "52    388\n",
       "53    388\n",
       "54    388\n",
       "55    388\n",
       "56    388\n",
       "57    388\n",
       "Name: Territory (ha), dtype: int64"
      ]
     },
     "execution_count": 217,
     "metadata": {},
     "output_type": "execute_result"
    }
   ],
   "source": [
    "df.loc[df['CommonName']=='Central_American_Spider_Monkey', 'Territory (ha)'].astype(int)"
   ]
  },
  {
   "cell_type": "code",
   "execution_count": 225,
   "metadata": {},
   "outputs": [],
   "source": [
    "df = df.drop([52,53, 54, 55, 56, 57])"
   ]
  },
  {
   "cell_type": "code",
   "execution_count": 230,
   "metadata": {},
   "outputs": [
    {
     "data": {
      "text/plain": [
       "51    388\n",
       "Name: Territory (ha), dtype: int64"
      ]
     },
     "execution_count": 230,
     "metadata": {},
     "output_type": "execute_result"
    }
   ],
   "source": [
    "df.loc[df['CommonName']=='Central_American_Spider_Monkey', 'Territory (ha)'].astype(int)"
   ]
  },
  {
   "cell_type": "code",
   "execution_count": 231,
   "metadata": {},
   "outputs": [
    {
     "data": {
      "text/plain": [
       "(742, 4)"
      ]
     },
     "execution_count": 231,
     "metadata": {},
     "output_type": "execute_result"
    }
   ],
   "source": [
    "df.shape"
   ]
  },
  {
   "cell_type": "code",
   "execution_count": 232,
   "metadata": {},
   "outputs": [
    {
     "data": {
      "text/plain": [
       "White_bellied_Spider_Monkey       6\n",
       "Colombian_White_faced_Capuchin    6\n",
       "White_faced_saki                  5\n",
       "Japanese_Macaque                  5\n",
       "Silvery_Marmoset                  5\n",
       "                                 ..\n",
       "Long_tailed_Macaque               1\n",
       "Angolan_Dwarf_Galago              1\n",
       "White_whiskered_Spider_Monkey     1\n",
       "Red_tailed_Monkey                 1\n",
       "Moor_Macaque                      1\n",
       "Name: CommonName, Length: 518, dtype: int64"
      ]
     },
     "execution_count": 232,
     "metadata": {},
     "output_type": "execute_result"
    }
   ],
   "source": [
    "df.CommonName.value_counts()"
   ]
  },
  {
   "cell_type": "code",
   "execution_count": 233,
   "metadata": {},
   "outputs": [],
   "source": [
    "mean_terr_Spider_Monkey2 = (df.loc[df['CommonName']=='White_bellied_Spider_Monkey', 'Territory (ha)'].mean())"
   ]
  },
  {
   "cell_type": "code",
   "execution_count": 234,
   "metadata": {},
   "outputs": [],
   "source": [
    "df.loc[df['CommonName']=='White_bellied_Spider_Monkey', 'Territory (ha)']=round(mean_terr_Spider_Monkey2)"
   ]
  },
  {
   "cell_type": "code",
   "execution_count": 235,
   "metadata": {},
   "outputs": [
    {
     "data": {
      "text/plain": [
       "43    270\n",
       "44    270\n",
       "45    270\n",
       "46    270\n",
       "47    270\n",
       "48    270\n",
       "Name: Territory (ha), dtype: int64"
      ]
     },
     "execution_count": 235,
     "metadata": {},
     "output_type": "execute_result"
    }
   ],
   "source": [
    "df.loc[df['CommonName']=='White_bellied_Spider_Monkey', 'Territory (ha)'].astype(int)"
   ]
  },
  {
   "cell_type": "code",
   "execution_count": 236,
   "metadata": {},
   "outputs": [],
   "source": [
    "df = df.drop([44,45,46,47,48])"
   ]
  },
  {
   "cell_type": "code",
   "execution_count": 237,
   "metadata": {},
   "outputs": [
    {
     "data": {
      "text/plain": [
       "(737, 4)"
      ]
     },
     "execution_count": 237,
     "metadata": {},
     "output_type": "execute_result"
    }
   ],
   "source": [
    "df.shape"
   ]
  },
  {
   "cell_type": "code",
   "execution_count": 238,
   "metadata": {},
   "outputs": [],
   "source": [
    "mean_Colombian = (df.loc[df['CommonName']=='Colombian_White_faced_Capuchin', 'Territory (ha)'].mean())"
   ]
  },
  {
   "cell_type": "code",
   "execution_count": 239,
   "metadata": {},
   "outputs": [],
   "source": [
    "df.loc[df['CommonName']=='Colombian_White_faced_Capuchin', 'Territory (ha)']=round(mean_Colombian)"
   ]
  },
  {
   "cell_type": "code",
   "execution_count": 241,
   "metadata": {},
   "outputs": [
    {
     "data": {
      "text/plain": [
       "114    103\n",
       "115    103\n",
       "116    103\n",
       "117    103\n",
       "118    103\n",
       "119    103\n",
       "Name: Territory (ha), dtype: int64"
      ]
     },
     "execution_count": 241,
     "metadata": {},
     "output_type": "execute_result"
    }
   ],
   "source": [
    "df.loc[df['CommonName']=='Colombian_White_faced_Capuchin', 'Territory (ha)'].astype(int)"
   ]
  },
  {
   "cell_type": "code",
   "execution_count": 244,
   "metadata": {},
   "outputs": [],
   "source": [
    " df=df.drop([115,116,117,118,119])"
   ]
  },
  {
   "cell_type": "code",
   "execution_count": 245,
   "metadata": {},
   "outputs": [
    {
     "data": {
      "text/plain": [
       "Spix_s_Saddle_back_Tamarin       5\n",
       "White_faced_saki                 5\n",
       "Japanese_Macaque                 5\n",
       "Silvery_Marmoset                 5\n",
       "Grivet_Monkey                    5\n",
       "                                ..\n",
       "Long_tailed_Macaque              1\n",
       "Angolan_Dwarf_Galago             1\n",
       "White_whiskered_Spider_Monkey    1\n",
       "Red_tailed_Monkey                1\n",
       "Moor_Macaque                     1\n",
       "Name: CommonName, Length: 518, dtype: int64"
      ]
     },
     "execution_count": 245,
     "metadata": {},
     "output_type": "execute_result"
    }
   ],
   "source": [
    "df.CommonName.value_counts()"
   ]
  },
  {
   "cell_type": "code",
   "execution_count": 246,
   "metadata": {},
   "outputs": [
    {
     "data": {
      "text/plain": [
       "299    78\n",
       "300    78\n",
       "301    78\n",
       "302    78\n",
       "303    78\n",
       "Name: Territory (ha), dtype: int64"
      ]
     },
     "execution_count": 246,
     "metadata": {},
     "output_type": "execute_result"
    }
   ],
   "source": [
    "mean_Tamarin = (df.loc[df['CommonName']=='Spix_s_Saddle_back_Tamarin', 'Territory (ha)'].mean())\n",
    "df.loc[df['CommonName']=='Spix_s_Saddle_back_Tamarin', 'Territory (ha)']=round(mean_Tamarin)\n",
    "df.loc[df['CommonName']=='Spix_s_Saddle_back_Tamarin', 'Territory (ha)'].astype(int)"
   ]
  },
  {
   "cell_type": "code",
   "execution_count": 247,
   "metadata": {},
   "outputs": [],
   "source": [
    "df = df.drop([300,301,302,303])"
   ]
  },
  {
   "cell_type": "code",
   "execution_count": 248,
   "metadata": {},
   "outputs": [
    {
     "data": {
      "text/plain": [
       "547    48\n",
       "548    48\n",
       "549    48\n",
       "550    48\n",
       "551    48\n",
       "Name: Territory (ha), dtype: int64"
      ]
     },
     "execution_count": 248,
     "metadata": {},
     "output_type": "execute_result"
    }
   ],
   "source": [
    "mean_saki = (df.loc[df['CommonName']=='White_faced_saki', 'Territory (ha)'].mean())\n",
    "df.loc[df['CommonName']=='White_faced_saki', 'Territory (ha)']=round(mean_saki)\n",
    "df.loc[df['CommonName']=='White_faced_saki', 'Territory (ha)'].astype(int)"
   ]
  },
  {
   "cell_type": "code",
   "execution_count": 249,
   "metadata": {},
   "outputs": [],
   "source": [
    "df=df.drop([548,549,550,551])"
   ]
  },
  {
   "cell_type": "code",
   "execution_count": 250,
   "metadata": {},
   "outputs": [
    {
     "data": {
      "text/plain": [
       "370    315\n",
       "371    315\n",
       "372    315\n",
       "373    315\n",
       "374    315\n",
       "Name: Territory (ha), dtype: int64"
      ]
     },
     "execution_count": 250,
     "metadata": {},
     "output_type": "execute_result"
    }
   ],
   "source": [
    "mean_jap = (df.loc[df['CommonName']=='Japanese_Macaque', 'Territory (ha)'].mean())\n",
    "df.loc[df['CommonName']=='Japanese_Macaque', 'Territory (ha)']=round(mean_jap)\n",
    "df.loc[df['CommonName']=='Japanese_Macaque', 'Territory (ha)'].astype(int)"
   ]
  },
  {
   "cell_type": "code",
   "execution_count": 251,
   "metadata": {},
   "outputs": [],
   "source": [
    "df = df.drop([371,372,373,374])"
   ]
  },
  {
   "cell_type": "code",
   "execution_count": 255,
   "metadata": {},
   "outputs": [
    {
     "data": {
      "text/plain": [
       "Silvery_Marmoset                 5\n",
       "Grivet_Monkey                    5\n",
       "Mandrill                         4\n",
       "Buffy_tufted_ear_Marmoset        4\n",
       "Yunnan_Snub_nosed_Monkey         4\n",
       "                                ..\n",
       "Long_tailed_Macaque              1\n",
       "Angolan_Dwarf_Galago             1\n",
       "White_whiskered_Spider_Monkey    1\n",
       "Red_tailed_Monkey                1\n",
       "Moor_Macaque                     1\n",
       "Name: CommonName, Length: 518, dtype: int64"
      ]
     },
     "execution_count": 255,
     "metadata": {},
     "output_type": "execute_result"
    }
   ],
   "source": [
    "df.CommonName.value_counts()"
   ]
  },
  {
   "cell_type": "code",
   "execution_count": 262,
   "metadata": {},
   "outputs": [
    {
     "data": {
      "text/plain": [
       "406    17\n",
       "407    17\n",
       "408    17\n",
       "409    17\n",
       "410    17\n",
       "Name: Territory (ha), dtype: int64"
      ]
     },
     "execution_count": 262,
     "metadata": {},
     "output_type": "execute_result"
    }
   ],
   "source": [
    "mean_silver = (df.loc[df['CommonName']=='Silvery_Marmoset', 'Territory (ha)'].mean())\n",
    "df.loc[df['CommonName']=='Silvery_Marmoset', 'Territory (ha)']=round(mean_silver)\n",
    "df.loc[df['CommonName']=='Silvery_Marmoset', 'Territory (ha)'].astype(int)\n"
   ]
  },
  {
   "cell_type": "code",
   "execution_count": 264,
   "metadata": {},
   "outputs": [],
   "source": [
    " df=df.drop([407,408,409,410])"
   ]
  },
  {
   "cell_type": "code",
   "execution_count": 265,
   "metadata": {},
   "outputs": [
    {
     "data": {
      "text/plain": [
       "193    54\n",
       "194    54\n",
       "195    54\n",
       "196    54\n",
       "197    54\n",
       "Name: Territory (ha), dtype: int64"
      ]
     },
     "execution_count": 265,
     "metadata": {},
     "output_type": "execute_result"
    }
   ],
   "source": [
    "mean_griv = (df.loc[df['CommonName']=='Grivet_Monkey', 'Territory (ha)'].mean())\n",
    "df.loc[df['CommonName']=='Grivet_Monkey', 'Territory (ha)']=round(mean_griv)\n",
    "df.loc[df['CommonName']=='Grivet_Monkey', 'Territory (ha)'].astype(int)\n",
    "\n"
   ]
  },
  {
   "cell_type": "code",
   "execution_count": 266,
   "metadata": {},
   "outputs": [],
   "source": [
    "df=df.drop([194,195,196,197])"
   ]
  },
  {
   "cell_type": "code",
   "execution_count": 303,
   "metadata": {},
   "outputs": [],
   "source": [
    "def clean(x):\n",
    "    \n",
    "    mean = (df.loc[df['CommonName']==x, 'Territory (ha)'].mean())\n",
    "    df.loc[df['CommonName']==x, 'Territory (ha)']=round(mean)\n",
    "    df.loc[df['CommonName']==x, 'Territory (ha)'].astype(int)\n",
    "    \n",
    "    return df.loc[df['CommonName']==x]"
   ]
  },
  {
   "cell_type": "code",
   "execution_count": 283,
   "metadata": {},
   "outputs": [
    {
     "data": {
      "text/plain": [
       "Buffy_tufted_ear_Marmoset        4\n",
       "Yunnan_Snub_nosed_Monkey         4\n",
       "Ornate_Titi                      4\n",
       "Mandrill                         4\n",
       "Pygmy_Marmoset                   3\n",
       "                                ..\n",
       "Buffy_Saki                       1\n",
       "Long_tailed_Macaque              1\n",
       "Angolan_Dwarf_Galago             1\n",
       "White_whiskered_Spider_Monkey    1\n",
       "Moor_Macaque                     1\n",
       "Name: CommonName, Length: 518, dtype: int64"
      ]
     },
     "execution_count": 283,
     "metadata": {},
     "output_type": "execute_result"
    }
   ],
   "source": [
    "df.CommonName.value_counts()"
   ]
  },
  {
   "cell_type": "code",
   "execution_count": 288,
   "metadata": {},
   "outputs": [],
   "source": [
    "clean('Yunnan_Snub_nosed_Monkey')"
   ]
  },
  {
   "cell_type": "code",
   "execution_count": 297,
   "metadata": {},
   "outputs": [
    {
     "data": {
      "text/html": [
       "<div>\n",
       "<style scoped>\n",
       "    .dataframe tbody tr th:only-of-type {\n",
       "        vertical-align: middle;\n",
       "    }\n",
       "\n",
       "    .dataframe tbody tr th {\n",
       "        vertical-align: top;\n",
       "    }\n",
       "\n",
       "    .dataframe thead th {\n",
       "        text-align: right;\n",
       "    }\n",
       "</style>\n",
       "<table border=\"1\" class=\"dataframe\">\n",
       "  <thead>\n",
       "    <tr style=\"text-align: right;\">\n",
       "      <th></th>\n",
       "      <th>Family</th>\n",
       "      <th>Genus</th>\n",
       "      <th>CommonName</th>\n",
       "      <th>Territory (ha)</th>\n",
       "    </tr>\n",
       "  </thead>\n",
       "  <tbody>\n",
       "    <tr>\n",
       "      <th>632</th>\n",
       "      <td>Cercopithecidae</td>\n",
       "      <td>Rhinopithecus</td>\n",
       "      <td>Yunnan_Snub_nosed_Monkey</td>\n",
       "      <td>2094.0</td>\n",
       "    </tr>\n",
       "    <tr>\n",
       "      <th>633</th>\n",
       "      <td>Cercopithecidae</td>\n",
       "      <td>Rhinopithecus</td>\n",
       "      <td>Yunnan_Snub_nosed_Monkey</td>\n",
       "      <td>2094.0</td>\n",
       "    </tr>\n",
       "    <tr>\n",
       "      <th>634</th>\n",
       "      <td>Cercopithecidae</td>\n",
       "      <td>Rhinopithecus</td>\n",
       "      <td>Yunnan_Snub_nosed_Monkey</td>\n",
       "      <td>2094.0</td>\n",
       "    </tr>\n",
       "    <tr>\n",
       "      <th>635</th>\n",
       "      <td>Cercopithecidae</td>\n",
       "      <td>Rhinopithecus</td>\n",
       "      <td>Yunnan_Snub_nosed_Monkey</td>\n",
       "      <td>2094.0</td>\n",
       "    </tr>\n",
       "  </tbody>\n",
       "</table>\n",
       "</div>"
      ],
      "text/plain": [
       "              Family          Genus                CommonName  Territory (ha)\n",
       "632  Cercopithecidae  Rhinopithecus  Yunnan_Snub_nosed_Monkey          2094.0\n",
       "633  Cercopithecidae  Rhinopithecus  Yunnan_Snub_nosed_Monkey          2094.0\n",
       "634  Cercopithecidae  Rhinopithecus  Yunnan_Snub_nosed_Monkey          2094.0\n",
       "635  Cercopithecidae  Rhinopithecus  Yunnan_Snub_nosed_Monkey          2094.0"
      ]
     },
     "execution_count": 297,
     "metadata": {},
     "output_type": "execute_result"
    }
   ],
   "source": [
    "df.loc[df['CommonName']=='Yunnan_Snub_nosed_Monkey']"
   ]
  },
  {
   "cell_type": "code",
   "execution_count": 298,
   "metadata": {},
   "outputs": [],
   "source": [
    "df=df.drop([633,634,635])"
   ]
  },
  {
   "cell_type": "code",
   "execution_count": 301,
   "metadata": {},
   "outputs": [],
   "source": [
    "clean('Buffy_tufted_ear_Marmoset')"
   ]
  },
  {
   "cell_type": "code",
   "execution_count": 302,
   "metadata": {},
   "outputs": [
    {
     "data": {
      "text/html": [
       "<div>\n",
       "<style scoped>\n",
       "    .dataframe tbody tr th:only-of-type {\n",
       "        vertical-align: middle;\n",
       "    }\n",
       "\n",
       "    .dataframe tbody tr th {\n",
       "        vertical-align: top;\n",
       "    }\n",
       "\n",
       "    .dataframe thead th {\n",
       "        text-align: right;\n",
       "    }\n",
       "</style>\n",
       "<table border=\"1\" class=\"dataframe\">\n",
       "  <thead>\n",
       "    <tr style=\"text-align: right;\">\n",
       "      <th></th>\n",
       "      <th>Family</th>\n",
       "      <th>Genus</th>\n",
       "      <th>CommonName</th>\n",
       "      <th>Territory (ha)</th>\n",
       "    </tr>\n",
       "  </thead>\n",
       "  <tbody>\n",
       "    <tr>\n",
       "      <th>91</th>\n",
       "      <td>Callitrichidae</td>\n",
       "      <td>Callithrix</td>\n",
       "      <td>Buffy_tufted_ear_Marmoset</td>\n",
       "      <td>23.0</td>\n",
       "    </tr>\n",
       "    <tr>\n",
       "      <th>92</th>\n",
       "      <td>Callitrichidae</td>\n",
       "      <td>Callithrix</td>\n",
       "      <td>Buffy_tufted_ear_Marmoset</td>\n",
       "      <td>23.0</td>\n",
       "    </tr>\n",
       "    <tr>\n",
       "      <th>93</th>\n",
       "      <td>Callitrichidae</td>\n",
       "      <td>Callithrix</td>\n",
       "      <td>Buffy_tufted_ear_Marmoset</td>\n",
       "      <td>23.0</td>\n",
       "    </tr>\n",
       "    <tr>\n",
       "      <th>94</th>\n",
       "      <td>Callitrichidae</td>\n",
       "      <td>Callithrix</td>\n",
       "      <td>Buffy_tufted_ear_Marmoset</td>\n",
       "      <td>23.0</td>\n",
       "    </tr>\n",
       "  </tbody>\n",
       "</table>\n",
       "</div>"
      ],
      "text/plain": [
       "            Family       Genus                 CommonName  Territory (ha)\n",
       "91  Callitrichidae  Callithrix  Buffy_tufted_ear_Marmoset            23.0\n",
       "92  Callitrichidae  Callithrix  Buffy_tufted_ear_Marmoset            23.0\n",
       "93  Callitrichidae  Callithrix  Buffy_tufted_ear_Marmoset            23.0\n",
       "94  Callitrichidae  Callithrix  Buffy_tufted_ear_Marmoset            23.0"
      ]
     },
     "execution_count": 302,
     "metadata": {},
     "output_type": "execute_result"
    }
   ],
   "source": [
    "df.loc[df['CommonName']=='Buffy_tufted_ear_Marmoset']"
   ]
  },
  {
   "cell_type": "code",
   "execution_count": 304,
   "metadata": {},
   "outputs": [],
   "source": [
    "df = df.drop([92,93,94])"
   ]
  },
  {
   "cell_type": "code",
   "execution_count": 306,
   "metadata": {},
   "outputs": [
    {
     "data": {
      "text/plain": [
       "Ornate_Titi                   4\n",
       "Mandrill                      4\n",
       "Humboldt_s_Woolly_Monkey      3\n",
       "Verreaux_s_Sifaka             3\n",
       "Golden_headed_Lion_Tamarin    3\n",
       "                             ..\n",
       "Syke_s_Monkey                 1\n",
       "Buffy_Saki                    1\n",
       "Long_tailed_Macaque           1\n",
       "Angolan_Dwarf_Galago          1\n",
       "Moor_Macaque                  1\n",
       "Name: CommonName, Length: 518, dtype: int64"
      ]
     },
     "execution_count": 306,
     "metadata": {},
     "output_type": "execute_result"
    }
   ],
   "source": [
    "df.CommonName.value_counts()"
   ]
  },
  {
   "cell_type": "code",
   "execution_count": 307,
   "metadata": {},
   "outputs": [
    {
     "data": {
      "text/html": [
       "<div>\n",
       "<style scoped>\n",
       "    .dataframe tbody tr th:only-of-type {\n",
       "        vertical-align: middle;\n",
       "    }\n",
       "\n",
       "    .dataframe tbody tr th {\n",
       "        vertical-align: top;\n",
       "    }\n",
       "\n",
       "    .dataframe thead th {\n",
       "        text-align: right;\n",
       "    }\n",
       "</style>\n",
       "<table border=\"1\" class=\"dataframe\">\n",
       "  <thead>\n",
       "    <tr style=\"text-align: right;\">\n",
       "      <th></th>\n",
       "      <th>Family</th>\n",
       "      <th>Genus</th>\n",
       "      <th>CommonName</th>\n",
       "      <th>Territory (ha)</th>\n",
       "    </tr>\n",
       "  </thead>\n",
       "  <tbody>\n",
       "    <tr>\n",
       "      <th>573</th>\n",
       "      <td>Pitheciidae</td>\n",
       "      <td>Plecturocebus</td>\n",
       "      <td>Ornate_Titi</td>\n",
       "      <td>7.0</td>\n",
       "    </tr>\n",
       "    <tr>\n",
       "      <th>574</th>\n",
       "      <td>Pitheciidae</td>\n",
       "      <td>Plecturocebus</td>\n",
       "      <td>Ornate_Titi</td>\n",
       "      <td>7.0</td>\n",
       "    </tr>\n",
       "    <tr>\n",
       "      <th>575</th>\n",
       "      <td>Pitheciidae</td>\n",
       "      <td>Plecturocebus</td>\n",
       "      <td>Ornate_Titi</td>\n",
       "      <td>7.0</td>\n",
       "    </tr>\n",
       "    <tr>\n",
       "      <th>576</th>\n",
       "      <td>Pitheciidae</td>\n",
       "      <td>Plecturocebus</td>\n",
       "      <td>Ornate_Titi</td>\n",
       "      <td>7.0</td>\n",
       "    </tr>\n",
       "  </tbody>\n",
       "</table>\n",
       "</div>"
      ],
      "text/plain": [
       "          Family          Genus   CommonName  Territory (ha)\n",
       "573  Pitheciidae  Plecturocebus  Ornate_Titi             7.0\n",
       "574  Pitheciidae  Plecturocebus  Ornate_Titi             7.0\n",
       "575  Pitheciidae  Plecturocebus  Ornate_Titi             7.0\n",
       "576  Pitheciidae  Plecturocebus  Ornate_Titi             7.0"
      ]
     },
     "execution_count": 307,
     "metadata": {},
     "output_type": "execute_result"
    }
   ],
   "source": [
    "clean('Ornate_Titi')"
   ]
  },
  {
   "cell_type": "code",
   "execution_count": 311,
   "metadata": {},
   "outputs": [],
   "source": [
    "df=df.drop([574,575,576])"
   ]
  },
  {
   "cell_type": "code",
   "execution_count": 313,
   "metadata": {},
   "outputs": [
    {
     "data": {
      "text/html": [
       "<div>\n",
       "<style scoped>\n",
       "    .dataframe tbody tr th:only-of-type {\n",
       "        vertical-align: middle;\n",
       "    }\n",
       "\n",
       "    .dataframe tbody tr th {\n",
       "        vertical-align: top;\n",
       "    }\n",
       "\n",
       "    .dataframe thead th {\n",
       "        text-align: right;\n",
       "    }\n",
       "</style>\n",
       "<table border=\"1\" class=\"dataframe\">\n",
       "  <thead>\n",
       "    <tr style=\"text-align: right;\">\n",
       "      <th></th>\n",
       "      <th>Family</th>\n",
       "      <th>Genus</th>\n",
       "      <th>CommonName</th>\n",
       "      <th>Territory (ha)</th>\n",
       "    </tr>\n",
       "  </thead>\n",
       "  <tbody>\n",
       "    <tr>\n",
       "      <th>401</th>\n",
       "      <td>Cercopithecidae</td>\n",
       "      <td>Mandrillus</td>\n",
       "      <td>Mandrill</td>\n",
       "      <td>6160.0</td>\n",
       "    </tr>\n",
       "    <tr>\n",
       "      <th>402</th>\n",
       "      <td>Cercopithecidae</td>\n",
       "      <td>Mandrillus</td>\n",
       "      <td>Mandrill</td>\n",
       "      <td>6160.0</td>\n",
       "    </tr>\n",
       "    <tr>\n",
       "      <th>403</th>\n",
       "      <td>Cercopithecidae</td>\n",
       "      <td>Mandrillus</td>\n",
       "      <td>Mandrill</td>\n",
       "      <td>6160.0</td>\n",
       "    </tr>\n",
       "    <tr>\n",
       "      <th>404</th>\n",
       "      <td>Cercopithecidae</td>\n",
       "      <td>Mandrillus</td>\n",
       "      <td>Mandrill</td>\n",
       "      <td>6160.0</td>\n",
       "    </tr>\n",
       "  </tbody>\n",
       "</table>\n",
       "</div>"
      ],
      "text/plain": [
       "              Family       Genus CommonName  Territory (ha)\n",
       "401  Cercopithecidae  Mandrillus   Mandrill          6160.0\n",
       "402  Cercopithecidae  Mandrillus   Mandrill          6160.0\n",
       "403  Cercopithecidae  Mandrillus   Mandrill          6160.0\n",
       "404  Cercopithecidae  Mandrillus   Mandrill          6160.0"
      ]
     },
     "execution_count": 313,
     "metadata": {},
     "output_type": "execute_result"
    }
   ],
   "source": [
    "clean('Mandrill')"
   ]
  },
  {
   "cell_type": "code",
   "execution_count": 314,
   "metadata": {},
   "outputs": [],
   "source": [
    "df=df.drop([402,403,404])"
   ]
  },
  {
   "cell_type": "code",
   "execution_count": 315,
   "metadata": {},
   "outputs": [
    {
     "data": {
      "text/html": [
       "<div>\n",
       "<style scoped>\n",
       "    .dataframe tbody tr th:only-of-type {\n",
       "        vertical-align: middle;\n",
       "    }\n",
       "\n",
       "    .dataframe tbody tr th {\n",
       "        vertical-align: top;\n",
       "    }\n",
       "\n",
       "    .dataframe thead th {\n",
       "        text-align: right;\n",
       "    }\n",
       "</style>\n",
       "<table border=\"1\" class=\"dataframe\">\n",
       "  <thead>\n",
       "    <tr style=\"text-align: right;\">\n",
       "      <th></th>\n",
       "      <th>Family</th>\n",
       "      <th>Genus</th>\n",
       "      <th>CommonName</th>\n",
       "      <th>Territory (ha)</th>\n",
       "    </tr>\n",
       "  </thead>\n",
       "  <tbody>\n",
       "    <tr>\n",
       "      <th>290</th>\n",
       "      <td>Atelidae</td>\n",
       "      <td>Lagothrix</td>\n",
       "      <td>Humboldt_s_Woolly_Monkey</td>\n",
       "      <td>465.0</td>\n",
       "    </tr>\n",
       "    <tr>\n",
       "      <th>291</th>\n",
       "      <td>Atelidae</td>\n",
       "      <td>Lagothrix</td>\n",
       "      <td>Humboldt_s_Woolly_Monkey</td>\n",
       "      <td>465.0</td>\n",
       "    </tr>\n",
       "    <tr>\n",
       "      <th>292</th>\n",
       "      <td>Atelidae</td>\n",
       "      <td>Lagothrix</td>\n",
       "      <td>Humboldt_s_Woolly_Monkey</td>\n",
       "      <td>465.0</td>\n",
       "    </tr>\n",
       "  </tbody>\n",
       "</table>\n",
       "</div>"
      ],
      "text/plain": [
       "       Family      Genus                CommonName  Territory (ha)\n",
       "290  Atelidae  Lagothrix  Humboldt_s_Woolly_Monkey           465.0\n",
       "291  Atelidae  Lagothrix  Humboldt_s_Woolly_Monkey           465.0\n",
       "292  Atelidae  Lagothrix  Humboldt_s_Woolly_Monkey           465.0"
      ]
     },
     "execution_count": 315,
     "metadata": {},
     "output_type": "execute_result"
    }
   ],
   "source": [
    "clean('Humboldt_s_Woolly_Monkey')"
   ]
  },
  {
   "cell_type": "code",
   "execution_count": 316,
   "metadata": {},
   "outputs": [],
   "source": [
    "df = df.drop([291,292])"
   ]
  },
  {
   "cell_type": "code",
   "execution_count": 317,
   "metadata": {},
   "outputs": [
    {
     "data": {
      "text/html": [
       "<div>\n",
       "<style scoped>\n",
       "    .dataframe tbody tr th:only-of-type {\n",
       "        vertical-align: middle;\n",
       "    }\n",
       "\n",
       "    .dataframe tbody tr th {\n",
       "        vertical-align: top;\n",
       "    }\n",
       "\n",
       "    .dataframe thead th {\n",
       "        text-align: right;\n",
       "    }\n",
       "</style>\n",
       "<table border=\"1\" class=\"dataframe\">\n",
       "  <thead>\n",
       "    <tr style=\"text-align: right;\">\n",
       "      <th></th>\n",
       "      <th>Family</th>\n",
       "      <th>Genus</th>\n",
       "      <th>CommonName</th>\n",
       "      <th>Territory (ha)</th>\n",
       "    </tr>\n",
       "  </thead>\n",
       "  <tbody>\n",
       "    <tr>\n",
       "      <th>622</th>\n",
       "      <td>Indriidae</td>\n",
       "      <td>Propithecus</td>\n",
       "      <td>Verreaux_s_Sifaka</td>\n",
       "      <td>6.0</td>\n",
       "    </tr>\n",
       "    <tr>\n",
       "      <th>623</th>\n",
       "      <td>Indriidae</td>\n",
       "      <td>Propithecus</td>\n",
       "      <td>Verreaux_s_Sifaka</td>\n",
       "      <td>6.0</td>\n",
       "    </tr>\n",
       "    <tr>\n",
       "      <th>624</th>\n",
       "      <td>Indriidae</td>\n",
       "      <td>Propithecus</td>\n",
       "      <td>Verreaux_s_Sifaka</td>\n",
       "      <td>6.0</td>\n",
       "    </tr>\n",
       "  </tbody>\n",
       "</table>\n",
       "</div>"
      ],
      "text/plain": [
       "        Family        Genus         CommonName  Territory (ha)\n",
       "622  Indriidae  Propithecus  Verreaux_s_Sifaka             6.0\n",
       "623  Indriidae  Propithecus  Verreaux_s_Sifaka             6.0\n",
       "624  Indriidae  Propithecus  Verreaux_s_Sifaka             6.0"
      ]
     },
     "execution_count": 317,
     "metadata": {},
     "output_type": "execute_result"
    }
   ],
   "source": [
    "clean('Verreaux_s_Sifaka')"
   ]
  },
  {
   "cell_type": "code",
   "execution_count": 319,
   "metadata": {},
   "outputs": [],
   "source": [
    "df=df.drop([623,624])"
   ]
  },
  {
   "cell_type": "code",
   "execution_count": 320,
   "metadata": {},
   "outputs": [
    {
     "data": {
      "text/plain": [
       "Francois_s_Langur                3\n",
       "Ashy_Red_Colobus                 3\n",
       "Black_tufted_ear_Marmoset        3\n",
       "Ursine_Red_Howler                3\n",
       "Olive_Baboon                     3\n",
       "                                ..\n",
       "Buffy_Saki                       1\n",
       "Long_tailed_Macaque              1\n",
       "Angolan_Dwarf_Galago             1\n",
       "White_whiskered_Spider_Monkey    1\n",
       "Moor_Macaque                     1\n",
       "Name: CommonName, Length: 518, dtype: int64"
      ]
     },
     "execution_count": 320,
     "metadata": {},
     "output_type": "execute_result"
    }
   ],
   "source": [
    "df.CommonName.value_counts()"
   ]
  },
  {
   "cell_type": "code",
   "execution_count": 321,
   "metadata": {},
   "outputs": [
    {
     "data": {
      "text/html": [
       "<div>\n",
       "<style scoped>\n",
       "    .dataframe tbody tr th:only-of-type {\n",
       "        vertical-align: middle;\n",
       "    }\n",
       "\n",
       "    .dataframe tbody tr th {\n",
       "        vertical-align: top;\n",
       "    }\n",
       "\n",
       "    .dataframe thead th {\n",
       "        text-align: right;\n",
       "    }\n",
       "</style>\n",
       "<table border=\"1\" class=\"dataframe\">\n",
       "  <thead>\n",
       "    <tr style=\"text-align: right;\">\n",
       "      <th></th>\n",
       "      <th>Family</th>\n",
       "      <th>Genus</th>\n",
       "      <th>CommonName</th>\n",
       "      <th>Territory (ha)</th>\n",
       "    </tr>\n",
       "  </thead>\n",
       "  <tbody>\n",
       "    <tr>\n",
       "      <th>726</th>\n",
       "      <td>Cercopithecidae</td>\n",
       "      <td>Trachypithecus</td>\n",
       "      <td>Francois_s_Langur</td>\n",
       "      <td>37.0</td>\n",
       "    </tr>\n",
       "    <tr>\n",
       "      <th>727</th>\n",
       "      <td>Cercopithecidae</td>\n",
       "      <td>Trachypithecus</td>\n",
       "      <td>Francois_s_Langur</td>\n",
       "      <td>37.0</td>\n",
       "    </tr>\n",
       "    <tr>\n",
       "      <th>728</th>\n",
       "      <td>Cercopithecidae</td>\n",
       "      <td>Trachypithecus</td>\n",
       "      <td>Francois_s_Langur</td>\n",
       "      <td>37.0</td>\n",
       "    </tr>\n",
       "  </tbody>\n",
       "</table>\n",
       "</div>"
      ],
      "text/plain": [
       "              Family           Genus         CommonName  Territory (ha)\n",
       "726  Cercopithecidae  Trachypithecus  Francois_s_Langur            37.0\n",
       "727  Cercopithecidae  Trachypithecus  Francois_s_Langur            37.0\n",
       "728  Cercopithecidae  Trachypithecus  Francois_s_Langur            37.0"
      ]
     },
     "execution_count": 321,
     "metadata": {},
     "output_type": "execute_result"
    }
   ],
   "source": [
    "clean('Francois_s_Langur')"
   ]
  },
  {
   "cell_type": "code",
   "execution_count": 322,
   "metadata": {},
   "outputs": [],
   "source": [
    "df=df.drop([726,727])"
   ]
  },
  {
   "cell_type": "code",
   "execution_count": 323,
   "metadata": {},
   "outputs": [
    {
     "data": {
      "text/html": [
       "<div>\n",
       "<style scoped>\n",
       "    .dataframe tbody tr th:only-of-type {\n",
       "        vertical-align: middle;\n",
       "    }\n",
       "\n",
       "    .dataframe tbody tr th {\n",
       "        vertical-align: top;\n",
       "    }\n",
       "\n",
       "    .dataframe thead th {\n",
       "        text-align: right;\n",
       "    }\n",
       "</style>\n",
       "<table border=\"1\" class=\"dataframe\">\n",
       "  <thead>\n",
       "    <tr style=\"text-align: right;\">\n",
       "      <th></th>\n",
       "      <th>Family</th>\n",
       "      <th>Genus</th>\n",
       "      <th>CommonName</th>\n",
       "      <th>Territory (ha)</th>\n",
       "    </tr>\n",
       "  </thead>\n",
       "  <tbody>\n",
       "    <tr>\n",
       "      <th>528</th>\n",
       "      <td>Cercopithecidae</td>\n",
       "      <td>Piliocolobus</td>\n",
       "      <td>Ashy_Red_Colobus</td>\n",
       "      <td>133.0</td>\n",
       "    </tr>\n",
       "    <tr>\n",
       "      <th>529</th>\n",
       "      <td>Cercopithecidae</td>\n",
       "      <td>Piliocolobus</td>\n",
       "      <td>Ashy_Red_Colobus</td>\n",
       "      <td>133.0</td>\n",
       "    </tr>\n",
       "    <tr>\n",
       "      <th>530</th>\n",
       "      <td>Cercopithecidae</td>\n",
       "      <td>Piliocolobus</td>\n",
       "      <td>Ashy_Red_Colobus</td>\n",
       "      <td>133.0</td>\n",
       "    </tr>\n",
       "  </tbody>\n",
       "</table>\n",
       "</div>"
      ],
      "text/plain": [
       "              Family         Genus        CommonName  Territory (ha)\n",
       "528  Cercopithecidae  Piliocolobus  Ashy_Red_Colobus           133.0\n",
       "529  Cercopithecidae  Piliocolobus  Ashy_Red_Colobus           133.0\n",
       "530  Cercopithecidae  Piliocolobus  Ashy_Red_Colobus           133.0"
      ]
     },
     "execution_count": 323,
     "metadata": {},
     "output_type": "execute_result"
    }
   ],
   "source": [
    "clean('Ashy_Red_Colobus')"
   ]
  },
  {
   "cell_type": "code",
   "execution_count": 324,
   "metadata": {},
   "outputs": [],
   "source": [
    "df=df.drop([529,530])"
   ]
  },
  {
   "cell_type": "code",
   "execution_count": 326,
   "metadata": {},
   "outputs": [
    {
     "data": {
      "text/html": [
       "<div>\n",
       "<style scoped>\n",
       "    .dataframe tbody tr th:only-of-type {\n",
       "        vertical-align: middle;\n",
       "    }\n",
       "\n",
       "    .dataframe tbody tr th {\n",
       "        vertical-align: top;\n",
       "    }\n",
       "\n",
       "    .dataframe thead th {\n",
       "        text-align: right;\n",
       "    }\n",
       "</style>\n",
       "<table border=\"1\" class=\"dataframe\">\n",
       "  <thead>\n",
       "    <tr style=\"text-align: right;\">\n",
       "      <th></th>\n",
       "      <th>Family</th>\n",
       "      <th>Genus</th>\n",
       "      <th>CommonName</th>\n",
       "      <th>Territory (ha)</th>\n",
       "    </tr>\n",
       "  </thead>\n",
       "  <tbody>\n",
       "    <tr>\n",
       "      <th>653</th>\n",
       "      <td>Callitrichidae</td>\n",
       "      <td>Saguinus</td>\n",
       "      <td>Mustached_Tamarin</td>\n",
       "      <td>86.0</td>\n",
       "    </tr>\n",
       "    <tr>\n",
       "      <th>654</th>\n",
       "      <td>Callitrichidae</td>\n",
       "      <td>Saguinus</td>\n",
       "      <td>Mustached_Tamarin</td>\n",
       "      <td>86.0</td>\n",
       "    </tr>\n",
       "    <tr>\n",
       "      <th>655</th>\n",
       "      <td>Callitrichidae</td>\n",
       "      <td>Saguinus</td>\n",
       "      <td>Mustached_Tamarin</td>\n",
       "      <td>86.0</td>\n",
       "    </tr>\n",
       "  </tbody>\n",
       "</table>\n",
       "</div>"
      ],
      "text/plain": [
       "             Family     Genus         CommonName  Territory (ha)\n",
       "653  Callitrichidae  Saguinus  Mustached_Tamarin            86.0\n",
       "654  Callitrichidae  Saguinus  Mustached_Tamarin            86.0\n",
       "655  Callitrichidae  Saguinus  Mustached_Tamarin            86.0"
      ]
     },
     "execution_count": 326,
     "metadata": {},
     "output_type": "execute_result"
    }
   ],
   "source": [
    "clean('Mustached_Tamarin')"
   ]
  },
  {
   "cell_type": "code",
   "execution_count": 327,
   "metadata": {},
   "outputs": [],
   "source": [
    "df=df.drop([654,655])"
   ]
  },
  {
   "cell_type": "code",
   "execution_count": 328,
   "metadata": {},
   "outputs": [
    {
     "data": {
      "text/html": [
       "<div>\n",
       "<style scoped>\n",
       "    .dataframe tbody tr th:only-of-type {\n",
       "        vertical-align: middle;\n",
       "    }\n",
       "\n",
       "    .dataframe tbody tr th {\n",
       "        vertical-align: top;\n",
       "    }\n",
       "\n",
       "    .dataframe thead th {\n",
       "        text-align: right;\n",
       "    }\n",
       "</style>\n",
       "<table border=\"1\" class=\"dataframe\">\n",
       "  <thead>\n",
       "    <tr style=\"text-align: right;\">\n",
       "      <th></th>\n",
       "      <th>Family</th>\n",
       "      <th>Genus</th>\n",
       "      <th>CommonName</th>\n",
       "      <th>Territory (ha)</th>\n",
       "    </tr>\n",
       "  </thead>\n",
       "  <tbody>\n",
       "    <tr>\n",
       "      <th>6</th>\n",
       "      <td>Atelidae</td>\n",
       "      <td>Alouatta</td>\n",
       "      <td>Ursine_Red_Howler</td>\n",
       "      <td>9.0</td>\n",
       "    </tr>\n",
       "    <tr>\n",
       "      <th>7</th>\n",
       "      <td>Atelidae</td>\n",
       "      <td>Alouatta</td>\n",
       "      <td>Ursine_Red_Howler</td>\n",
       "      <td>9.0</td>\n",
       "    </tr>\n",
       "    <tr>\n",
       "      <th>8</th>\n",
       "      <td>Atelidae</td>\n",
       "      <td>Alouatta</td>\n",
       "      <td>Ursine_Red_Howler</td>\n",
       "      <td>9.0</td>\n",
       "    </tr>\n",
       "  </tbody>\n",
       "</table>\n",
       "</div>"
      ],
      "text/plain": [
       "     Family     Genus         CommonName  Territory (ha)\n",
       "6  Atelidae  Alouatta  Ursine_Red_Howler             9.0\n",
       "7  Atelidae  Alouatta  Ursine_Red_Howler             9.0\n",
       "8  Atelidae  Alouatta  Ursine_Red_Howler             9.0"
      ]
     },
     "execution_count": 328,
     "metadata": {},
     "output_type": "execute_result"
    }
   ],
   "source": [
    "clean('Ursine_Red_Howler')"
   ]
  },
  {
   "cell_type": "code",
   "execution_count": 329,
   "metadata": {},
   "outputs": [],
   "source": [
    "df=df.drop([7,8])"
   ]
  },
  {
   "cell_type": "code",
   "execution_count": 330,
   "metadata": {},
   "outputs": [
    {
     "data": {
      "text/plain": [
       "Bornean_Orangutan                3\n",
       "Black_Lion_Tamarin               3\n",
       "Northern_Lesser_Galago           3\n",
       "Tanzania_Coast_Dwarf_Galago      3\n",
       "Assamese_Macaque                 3\n",
       "                                ..\n",
       "Angolan_Dwarf_Galago             1\n",
       "White_whiskered_Spider_Monkey    1\n",
       "Red_tailed_Monkey                1\n",
       "Hairy_Saki                       1\n",
       "Moor_Macaque                     1\n",
       "Name: CommonName, Length: 518, dtype: int64"
      ]
     },
     "execution_count": 330,
     "metadata": {},
     "output_type": "execute_result"
    }
   ],
   "source": [
    "df.CommonName.value_counts()"
   ]
  },
  {
   "cell_type": "code",
   "execution_count": 335,
   "metadata": {},
   "outputs": [
    {
     "ename": "KeyError",
     "evalue": "'[584 585] not found in axis'",
     "output_type": "error",
     "traceback": [
      "\u001b[0;31m---------------------------------------------------------------------------\u001b[0m",
      "\u001b[0;31mKeyError\u001b[0m                                  Traceback (most recent call last)",
      "\u001b[0;32m<ipython-input-335-2dff1572d9c7>\u001b[0m in \u001b[0;36m<module>\u001b[0;34m\u001b[0m\n\u001b[1;32m      1\u001b[0m \u001b[0mclean\u001b[0m\u001b[0;34m(\u001b[0m\u001b[0;34m'Bornean_Orangutan'\u001b[0m\u001b[0;34m)\u001b[0m\u001b[0;34m\u001b[0m\u001b[0;34m\u001b[0m\u001b[0m\n\u001b[0;32m----> 2\u001b[0;31m \u001b[0mdf\u001b[0m\u001b[0;34m=\u001b[0m\u001b[0mdf\u001b[0m\u001b[0;34m.\u001b[0m\u001b[0mdrop\u001b[0m\u001b[0;34m(\u001b[0m\u001b[0;34m[\u001b[0m\u001b[0;36m584\u001b[0m\u001b[0;34m,\u001b[0m\u001b[0;36m585\u001b[0m\u001b[0;34m]\u001b[0m\u001b[0;34m)\u001b[0m\u001b[0;34m\u001b[0m\u001b[0;34m\u001b[0m\u001b[0m\n\u001b[0m",
      "\u001b[0;32m~/anaconda3/lib/python3.7/site-packages/pandas/core/frame.py\u001b[0m in \u001b[0;36mdrop\u001b[0;34m(self, labels, axis, index, columns, level, inplace, errors)\u001b[0m\n\u001b[1;32m   3995\u001b[0m             \u001b[0mlevel\u001b[0m\u001b[0;34m=\u001b[0m\u001b[0mlevel\u001b[0m\u001b[0;34m,\u001b[0m\u001b[0;34m\u001b[0m\u001b[0;34m\u001b[0m\u001b[0m\n\u001b[1;32m   3996\u001b[0m             \u001b[0minplace\u001b[0m\u001b[0;34m=\u001b[0m\u001b[0minplace\u001b[0m\u001b[0;34m,\u001b[0m\u001b[0;34m\u001b[0m\u001b[0;34m\u001b[0m\u001b[0m\n\u001b[0;32m-> 3997\u001b[0;31m             \u001b[0merrors\u001b[0m\u001b[0;34m=\u001b[0m\u001b[0merrors\u001b[0m\u001b[0;34m,\u001b[0m\u001b[0;34m\u001b[0m\u001b[0;34m\u001b[0m\u001b[0m\n\u001b[0m\u001b[1;32m   3998\u001b[0m         )\n\u001b[1;32m   3999\u001b[0m \u001b[0;34m\u001b[0m\u001b[0m\n",
      "\u001b[0;32m~/anaconda3/lib/python3.7/site-packages/pandas/core/generic.py\u001b[0m in \u001b[0;36mdrop\u001b[0;34m(self, labels, axis, index, columns, level, inplace, errors)\u001b[0m\n\u001b[1;32m   3934\u001b[0m         \u001b[0;32mfor\u001b[0m \u001b[0maxis\u001b[0m\u001b[0;34m,\u001b[0m \u001b[0mlabels\u001b[0m \u001b[0;32min\u001b[0m \u001b[0maxes\u001b[0m\u001b[0;34m.\u001b[0m\u001b[0mitems\u001b[0m\u001b[0;34m(\u001b[0m\u001b[0;34m)\u001b[0m\u001b[0;34m:\u001b[0m\u001b[0;34m\u001b[0m\u001b[0;34m\u001b[0m\u001b[0m\n\u001b[1;32m   3935\u001b[0m             \u001b[0;32mif\u001b[0m \u001b[0mlabels\u001b[0m \u001b[0;32mis\u001b[0m \u001b[0;32mnot\u001b[0m \u001b[0;32mNone\u001b[0m\u001b[0;34m:\u001b[0m\u001b[0;34m\u001b[0m\u001b[0;34m\u001b[0m\u001b[0m\n\u001b[0;32m-> 3936\u001b[0;31m                 \u001b[0mobj\u001b[0m \u001b[0;34m=\u001b[0m \u001b[0mobj\u001b[0m\u001b[0;34m.\u001b[0m\u001b[0m_drop_axis\u001b[0m\u001b[0;34m(\u001b[0m\u001b[0mlabels\u001b[0m\u001b[0;34m,\u001b[0m \u001b[0maxis\u001b[0m\u001b[0;34m,\u001b[0m \u001b[0mlevel\u001b[0m\u001b[0;34m=\u001b[0m\u001b[0mlevel\u001b[0m\u001b[0;34m,\u001b[0m \u001b[0merrors\u001b[0m\u001b[0;34m=\u001b[0m\u001b[0merrors\u001b[0m\u001b[0;34m)\u001b[0m\u001b[0;34m\u001b[0m\u001b[0;34m\u001b[0m\u001b[0m\n\u001b[0m\u001b[1;32m   3937\u001b[0m \u001b[0;34m\u001b[0m\u001b[0m\n\u001b[1;32m   3938\u001b[0m         \u001b[0;32mif\u001b[0m \u001b[0minplace\u001b[0m\u001b[0;34m:\u001b[0m\u001b[0;34m\u001b[0m\u001b[0;34m\u001b[0m\u001b[0m\n",
      "\u001b[0;32m~/anaconda3/lib/python3.7/site-packages/pandas/core/generic.py\u001b[0m in \u001b[0;36m_drop_axis\u001b[0;34m(self, labels, axis, level, errors)\u001b[0m\n\u001b[1;32m   3968\u001b[0m                 \u001b[0mnew_axis\u001b[0m \u001b[0;34m=\u001b[0m \u001b[0maxis\u001b[0m\u001b[0;34m.\u001b[0m\u001b[0mdrop\u001b[0m\u001b[0;34m(\u001b[0m\u001b[0mlabels\u001b[0m\u001b[0;34m,\u001b[0m \u001b[0mlevel\u001b[0m\u001b[0;34m=\u001b[0m\u001b[0mlevel\u001b[0m\u001b[0;34m,\u001b[0m \u001b[0merrors\u001b[0m\u001b[0;34m=\u001b[0m\u001b[0merrors\u001b[0m\u001b[0;34m)\u001b[0m\u001b[0;34m\u001b[0m\u001b[0;34m\u001b[0m\u001b[0m\n\u001b[1;32m   3969\u001b[0m             \u001b[0;32melse\u001b[0m\u001b[0;34m:\u001b[0m\u001b[0;34m\u001b[0m\u001b[0;34m\u001b[0m\u001b[0m\n\u001b[0;32m-> 3970\u001b[0;31m                 \u001b[0mnew_axis\u001b[0m \u001b[0;34m=\u001b[0m \u001b[0maxis\u001b[0m\u001b[0;34m.\u001b[0m\u001b[0mdrop\u001b[0m\u001b[0;34m(\u001b[0m\u001b[0mlabels\u001b[0m\u001b[0;34m,\u001b[0m \u001b[0merrors\u001b[0m\u001b[0;34m=\u001b[0m\u001b[0merrors\u001b[0m\u001b[0;34m)\u001b[0m\u001b[0;34m\u001b[0m\u001b[0;34m\u001b[0m\u001b[0m\n\u001b[0m\u001b[1;32m   3971\u001b[0m             \u001b[0mresult\u001b[0m \u001b[0;34m=\u001b[0m \u001b[0mself\u001b[0m\u001b[0;34m.\u001b[0m\u001b[0mreindex\u001b[0m\u001b[0;34m(\u001b[0m\u001b[0;34m**\u001b[0m\u001b[0;34m{\u001b[0m\u001b[0maxis_name\u001b[0m\u001b[0;34m:\u001b[0m \u001b[0mnew_axis\u001b[0m\u001b[0;34m}\u001b[0m\u001b[0;34m)\u001b[0m\u001b[0;34m\u001b[0m\u001b[0;34m\u001b[0m\u001b[0m\n\u001b[1;32m   3972\u001b[0m \u001b[0;34m\u001b[0m\u001b[0m\n",
      "\u001b[0;32m~/anaconda3/lib/python3.7/site-packages/pandas/core/indexes/base.py\u001b[0m in \u001b[0;36mdrop\u001b[0;34m(self, labels, errors)\u001b[0m\n\u001b[1;32m   5016\u001b[0m         \u001b[0;32mif\u001b[0m \u001b[0mmask\u001b[0m\u001b[0;34m.\u001b[0m\u001b[0many\u001b[0m\u001b[0;34m(\u001b[0m\u001b[0;34m)\u001b[0m\u001b[0;34m:\u001b[0m\u001b[0;34m\u001b[0m\u001b[0;34m\u001b[0m\u001b[0m\n\u001b[1;32m   5017\u001b[0m             \u001b[0;32mif\u001b[0m \u001b[0merrors\u001b[0m \u001b[0;34m!=\u001b[0m \u001b[0;34m\"ignore\"\u001b[0m\u001b[0;34m:\u001b[0m\u001b[0;34m\u001b[0m\u001b[0;34m\u001b[0m\u001b[0m\n\u001b[0;32m-> 5018\u001b[0;31m                 \u001b[0;32mraise\u001b[0m \u001b[0mKeyError\u001b[0m\u001b[0;34m(\u001b[0m\u001b[0;34mf\"{labels[mask]} not found in axis\"\u001b[0m\u001b[0;34m)\u001b[0m\u001b[0;34m\u001b[0m\u001b[0;34m\u001b[0m\u001b[0m\n\u001b[0m\u001b[1;32m   5019\u001b[0m             \u001b[0mindexer\u001b[0m \u001b[0;34m=\u001b[0m \u001b[0mindexer\u001b[0m\u001b[0;34m[\u001b[0m\u001b[0;34m~\u001b[0m\u001b[0mmask\u001b[0m\u001b[0;34m]\u001b[0m\u001b[0;34m\u001b[0m\u001b[0;34m\u001b[0m\u001b[0m\n\u001b[1;32m   5020\u001b[0m         \u001b[0;32mreturn\u001b[0m \u001b[0mself\u001b[0m\u001b[0;34m.\u001b[0m\u001b[0mdelete\u001b[0m\u001b[0;34m(\u001b[0m\u001b[0mindexer\u001b[0m\u001b[0;34m)\u001b[0m\u001b[0;34m\u001b[0m\u001b[0;34m\u001b[0m\u001b[0m\n",
      "\u001b[0;31mKeyError\u001b[0m: '[584 585] not found in axis'"
     ]
    }
   ],
   "source": [
    "clean('Bornean_Orangutan')\n",
    "df=df.drop([584,585])"
   ]
  },
  {
   "cell_type": "code",
   "execution_count": 338,
   "metadata": {},
   "outputs": [],
   "source": [
    "clean('Black_Lion_Tamarin')\n",
    "df=df.drop([319])"
   ]
  },
  {
   "cell_type": "code",
   "execution_count": 340,
   "metadata": {},
   "outputs": [],
   "source": [
    "clean('Northern_Lesser_Galago')\n",
    "df=df.drop([245,246])"
   ]
  },
  {
   "cell_type": "code",
   "execution_count": 342,
   "metadata": {},
   "outputs": [],
   "source": [
    "clean('Tanzania_Coast_Dwarf_Galago')\n",
    "df=df.drop([255,502])"
   ]
  },
  {
   "cell_type": "code",
   "execution_count": 344,
   "metadata": {},
   "outputs": [
    {
     "data": {
      "text/html": [
       "<div>\n",
       "<style scoped>\n",
       "    .dataframe tbody tr th:only-of-type {\n",
       "        vertical-align: middle;\n",
       "    }\n",
       "\n",
       "    .dataframe tbody tr th {\n",
       "        vertical-align: top;\n",
       "    }\n",
       "\n",
       "    .dataframe thead th {\n",
       "        text-align: right;\n",
       "    }\n",
       "</style>\n",
       "<table border=\"1\" class=\"dataframe\">\n",
       "  <thead>\n",
       "    <tr style=\"text-align: right;\">\n",
       "      <th></th>\n",
       "      <th>Family</th>\n",
       "      <th>Genus</th>\n",
       "      <th>CommonName</th>\n",
       "      <th>Territory (ha)</th>\n",
       "    </tr>\n",
       "  </thead>\n",
       "  <tbody>\n",
       "    <tr>\n",
       "      <th>0</th>\n",
       "      <td>Cercopithecidae</td>\n",
       "      <td>Allenopithecus</td>\n",
       "      <td>Allen_s_Swamp_Monkey</td>\n",
       "      <td>NaN</td>\n",
       "    </tr>\n",
       "    <tr>\n",
       "      <th>1</th>\n",
       "      <td>Cheirogaleidae</td>\n",
       "      <td>Allocebus</td>\n",
       "      <td>Hairy_eared_Dwarf_Lemur</td>\n",
       "      <td>25.750</td>\n",
       "    </tr>\n",
       "    <tr>\n",
       "      <th>2</th>\n",
       "      <td>Cercopithecidae</td>\n",
       "      <td>Allochrocebus</td>\n",
       "      <td>L_Hoest_s_Monkey</td>\n",
       "      <td>116.600</td>\n",
       "    </tr>\n",
       "    <tr>\n",
       "      <th>3</th>\n",
       "      <td>Cercopithecidae</td>\n",
       "      <td>Allochrocebus</td>\n",
       "      <td>L_Hoest_s_Monkey</td>\n",
       "      <td>61.325</td>\n",
       "    </tr>\n",
       "    <tr>\n",
       "      <th>4</th>\n",
       "      <td>Cercopithecidae</td>\n",
       "      <td>Allochrocebus</td>\n",
       "      <td>Preuss_s_Monkey</td>\n",
       "      <td>NaN</td>\n",
       "    </tr>\n",
       "    <tr>\n",
       "      <th>...</th>\n",
       "      <td>...</td>\n",
       "      <td>...</td>\n",
       "      <td>...</td>\n",
       "      <td>...</td>\n",
       "    </tr>\n",
       "    <tr>\n",
       "      <th>743</th>\n",
       "      <td>Cercopithecidae</td>\n",
       "      <td>Trachypithecus</td>\n",
       "      <td>Shortridge_s_Langur</td>\n",
       "      <td>NaN</td>\n",
       "    </tr>\n",
       "    <tr>\n",
       "      <th>744</th>\n",
       "      <td>Lemuridae</td>\n",
       "      <td>Varecia</td>\n",
       "      <td>Red_Ruffed_Lemur</td>\n",
       "      <td>24.550</td>\n",
       "    </tr>\n",
       "    <tr>\n",
       "      <th>745</th>\n",
       "      <td>Lemuridae</td>\n",
       "      <td>Varecia</td>\n",
       "      <td>Red_Ruffed_Lemur</td>\n",
       "      <td>10.500</td>\n",
       "    </tr>\n",
       "    <tr>\n",
       "      <th>746</th>\n",
       "      <td>Lemuridae</td>\n",
       "      <td>Varecia</td>\n",
       "      <td>Black_and_white_Ruffed_Lemur</td>\n",
       "      <td>116.670</td>\n",
       "    </tr>\n",
       "    <tr>\n",
       "      <th>747</th>\n",
       "      <td>Lemuridae</td>\n",
       "      <td>Varecia</td>\n",
       "      <td>Black_and_white_Ruffed_Lemur</td>\n",
       "      <td>139.000</td>\n",
       "    </tr>\n",
       "  </tbody>\n",
       "</table>\n",
       "<p>677 rows × 4 columns</p>\n",
       "</div>"
      ],
      "text/plain": [
       "              Family           Genus                    CommonName  \\\n",
       "0    Cercopithecidae  Allenopithecus          Allen_s_Swamp_Monkey   \n",
       "1     Cheirogaleidae       Allocebus       Hairy_eared_Dwarf_Lemur   \n",
       "2    Cercopithecidae   Allochrocebus              L_Hoest_s_Monkey   \n",
       "3    Cercopithecidae   Allochrocebus              L_Hoest_s_Monkey   \n",
       "4    Cercopithecidae   Allochrocebus               Preuss_s_Monkey   \n",
       "..               ...             ...                           ...   \n",
       "743  Cercopithecidae  Trachypithecus           Shortridge_s_Langur   \n",
       "744        Lemuridae         Varecia              Red_Ruffed_Lemur   \n",
       "745        Lemuridae         Varecia              Red_Ruffed_Lemur   \n",
       "746        Lemuridae         Varecia  Black_and_white_Ruffed_Lemur   \n",
       "747        Lemuridae         Varecia  Black_and_white_Ruffed_Lemur   \n",
       "\n",
       "     Territory (ha)  \n",
       "0               NaN  \n",
       "1            25.750  \n",
       "2           116.600  \n",
       "3            61.325  \n",
       "4               NaN  \n",
       "..              ...  \n",
       "743             NaN  \n",
       "744          24.550  \n",
       "745          10.500  \n",
       "746         116.670  \n",
       "747         139.000  \n",
       "\n",
       "[677 rows x 4 columns]"
      ]
     },
     "execution_count": 344,
     "metadata": {},
     "output_type": "execute_result"
    }
   ],
   "source": [
    "clean('Assamese_Macaque')\n",
    "df.drop([364,365])"
   ]
  },
  {
   "cell_type": "code",
   "execution_count": 348,
   "metadata": {},
   "outputs": [
    {
     "data": {
      "text/plain": [
       "Olive_Baboon                     3\n",
       "Indochinese_Gray_Langur          3\n",
       "Taiwanese_Macaque                3\n",
       "Colombian_Red_Howler             3\n",
       "Black_tufted_ear_Marmoset        3\n",
       "                                ..\n",
       "Long_tailed_Macaque              1\n",
       "Angolan_Dwarf_Galago             1\n",
       "White_whiskered_Spider_Monkey    1\n",
       "Red_tailed_Monkey                1\n",
       "Moor_Macaque                     1\n",
       "Name: CommonName, Length: 517, dtype: int64"
      ]
     },
     "execution_count": 348,
     "metadata": {},
     "output_type": "execute_result"
    }
   ],
   "source": [
    "df.CommonName.value_counts()"
   ]
  },
  {
   "cell_type": "code",
   "execution_count": 350,
   "metadata": {},
   "outputs": [],
   "source": [
    "clean('Olive_Baboon')\n",
    "df=df.drop([488,489])"
   ]
  },
  {
   "cell_type": "code",
   "execution_count": 352,
   "metadata": {},
   "outputs": [],
   "source": [
    "clean('Indochinese_Gray_Langur')\n",
    "df=df.drop([720,721])"
   ]
  },
  {
   "cell_type": "code",
   "execution_count": 354,
   "metadata": {},
   "outputs": [],
   "source": [
    "clean('Taiwanese_Macaque')\n",
    "df=df.drop([367,368])"
   ]
  },
  {
   "cell_type": "code",
   "execution_count": 356,
   "metadata": {},
   "outputs": [],
   "source": [
    "clean('Colombian_Red_Howler')\n",
    "df=df.drop([25,26])"
   ]
  },
  {
   "cell_type": "code",
   "execution_count": 358,
   "metadata": {},
   "outputs": [],
   "source": [
    "clean('Black_tufted_ear_Marmoset')\n",
    "df=df.drop([103,104])"
   ]
  },
  {
   "cell_type": "code",
   "execution_count": 359,
   "metadata": {},
   "outputs": [
    {
     "data": {
      "text/plain": [
       "Northern_White_cheeked_Crested_Gibbon    3\n",
       "East_Javan_Langur                        3\n",
       "Assamese_Macaque                         3\n",
       "Western_Gorilla                          3\n",
       "Goeldi_s_Monkey*                         3\n",
       "                                        ..\n",
       "White_whiskered_Spider_Monkey            1\n",
       "Red_tailed_Monkey                        1\n",
       "Hairy_Saki                               1\n",
       "Red_eared_Monkey                         1\n",
       "Moor_Macaque                             1\n",
       "Name: CommonName, Length: 517, dtype: int64"
      ]
     },
     "execution_count": 359,
     "metadata": {},
     "output_type": "execute_result"
    }
   ],
   "source": [
    "df.CommonName.value_counts()"
   ]
  },
  {
   "cell_type": "code",
   "execution_count": 362,
   "metadata": {},
   "outputs": [],
   "source": [
    "clean('Northern_White_cheeked_Crested_Gibbon')\n",
    "df=df.drop([467])"
   ]
  },
  {
   "cell_type": "code",
   "execution_count": 364,
   "metadata": {},
   "outputs": [],
   "source": [
    "clean('East_Javan_Langur')\n",
    "df=df.drop([717,718])"
   ]
  },
  {
   "cell_type": "code",
   "execution_count": 366,
   "metadata": {},
   "outputs": [],
   "source": [
    "clean('Assamese_Macaque')\n",
    "df=df.drop([364,365])"
   ]
  },
  {
   "cell_type": "code",
   "execution_count": 368,
   "metadata": {},
   "outputs": [],
   "source": [
    "clean('Western_Gorilla')\n",
    "df=df.drop([258,259])"
   ]
  },
  {
   "cell_type": "code",
   "execution_count": 370,
   "metadata": {},
   "outputs": [],
   "source": [
    "clean('Goeldi_s_Monkey*')\n",
    "df=df.drop([89,90])"
   ]
  },
  {
   "cell_type": "code",
   "execution_count": 371,
   "metadata": {},
   "outputs": [
    {
     "data": {
      "text/plain": [
       "Wied_s_Black_tufted_ear_Marmoset    3\n",
       "Chimpanzee                          3\n",
       "Lar_Gibbon                          3\n",
       "Pygmy_Marmoset                      3\n",
       "Golden_headed_Lion_Tamarin          3\n",
       "                                   ..\n",
       "Hairy_Saki                          1\n",
       "Red_eared_Monkey                    1\n",
       "Anjiahely_Mouse_Lemur               1\n",
       "Temminick_s_Red_Colobus             1\n",
       "Moor_Macaque                        1\n",
       "Name: CommonName, Length: 516, dtype: int64"
      ]
     },
     "execution_count": 371,
     "metadata": {},
     "output_type": "execute_result"
    }
   ],
   "source": [
    "df.CommonName.value_counts()"
   ]
  },
  {
   "cell_type": "code",
   "execution_count": 373,
   "metadata": {},
   "outputs": [],
   "source": [
    "clean('Wied_s_Black_tufted_ear_Marmoset')\n",
    "df=df.drop([100,101])"
   ]
  },
  {
   "cell_type": "code",
   "execution_count": 375,
   "metadata": {},
   "outputs": [],
   "source": [
    "clean('Chimpanzee')\n",
    "df=df.drop([485,486])"
   ]
  },
  {
   "cell_type": "code",
   "execution_count": 377,
   "metadata": {},
   "outputs": [],
   "source": [
    "clean('Lar_Gibbon')\n",
    "df=df.drop([279,280])"
   ]
  },
  {
   "cell_type": "code",
   "execution_count": 379,
   "metadata": {},
   "outputs": [],
   "source": [
    "clean('Pygmy_Marmoset')\n",
    "df=df.drop([108,109])"
   ]
  },
  {
   "cell_type": "code",
   "execution_count": 381,
   "metadata": {},
   "outputs": [],
   "source": [
    "clean('Golden_headed_Lion_Tamarin')\n",
    "df=df.drop([315,316])"
   ]
  },
  {
   "cell_type": "code",
   "execution_count": 383,
   "metadata": {},
   "outputs": [
    {
     "data": {
      "text/plain": [
       "Spot_nosed_Monkey               2\n",
       "Masoala_Fork_marked_Lemur       2\n",
       "Black_crowned_Dwarf_Marmoset    2\n",
       "Lemurine_Night_Monkey           2\n",
       "Agile_Mangabey                  2\n",
       "                               ..\n",
       "Hairy_Saki                      1\n",
       "Red_eared_Monkey                1\n",
       "Anjiahely_Mouse_Lemur           1\n",
       "Temminick_s_Red_Colobus         1\n",
       "Moor_Macaque                    1\n",
       "Name: CommonName, Length: 516, dtype: int64"
      ]
     },
     "execution_count": 383,
     "metadata": {},
     "output_type": "execute_result"
    }
   ],
   "source": [
    "df.CommonName.value_counts()"
   ]
  },
  {
   "cell_type": "code",
   "execution_count": 385,
   "metadata": {},
   "outputs": [],
   "source": [
    "clean('Spot_nosed_Monkey')\n",
    "df=df.drop(163)"
   ]
  },
  {
   "cell_type": "code",
   "execution_count": 387,
   "metadata": {},
   "outputs": [],
   "source": [
    "clean('Masoala_Fork_marked_Lemur')\n",
    "df=df.drop(509)"
   ]
  },
  {
   "cell_type": "code",
   "execution_count": 393,
   "metadata": {},
   "outputs": [],
   "source": [
    "df=df.drop([81,415])"
   ]
  },
  {
   "cell_type": "code",
   "execution_count": 394,
   "metadata": {},
   "outputs": [
    {
     "data": {
      "text/html": [
       "<div>\n",
       "<style scoped>\n",
       "    .dataframe tbody tr th:only-of-type {\n",
       "        vertical-align: middle;\n",
       "    }\n",
       "\n",
       "    .dataframe tbody tr th {\n",
       "        vertical-align: top;\n",
       "    }\n",
       "\n",
       "    .dataframe thead th {\n",
       "        text-align: right;\n",
       "    }\n",
       "</style>\n",
       "<table border=\"1\" class=\"dataframe\">\n",
       "  <thead>\n",
       "    <tr style=\"text-align: right;\">\n",
       "      <th></th>\n",
       "      <th>Family</th>\n",
       "      <th>Genus</th>\n",
       "      <th>CommonName</th>\n",
       "      <th>Territory (ha)</th>\n",
       "    </tr>\n",
       "  </thead>\n",
       "  <tbody>\n",
       "    <tr>\n",
       "      <th>32</th>\n",
       "      <td>Aotidae</td>\n",
       "      <td>Aotus</td>\n",
       "      <td>Lemurine_Night_Monkey</td>\n",
       "      <td>3.0</td>\n",
       "    </tr>\n",
       "    <tr>\n",
       "      <th>33</th>\n",
       "      <td>Aotidae</td>\n",
       "      <td>Aotus</td>\n",
       "      <td>Lemurine_Night_Monkey</td>\n",
       "      <td>3.0</td>\n",
       "    </tr>\n",
       "  </tbody>\n",
       "</table>\n",
       "</div>"
      ],
      "text/plain": [
       "     Family  Genus             CommonName  Territory (ha)\n",
       "32  Aotidae  Aotus  Lemurine_Night_Monkey             3.0\n",
       "33  Aotidae  Aotus  Lemurine_Night_Monkey             3.0"
      ]
     },
     "execution_count": 394,
     "metadata": {},
     "output_type": "execute_result"
    }
   ],
   "source": [
    "clean('Lemurine_Night_Monkey')"
   ]
  },
  {
   "cell_type": "code",
   "execution_count": 395,
   "metadata": {},
   "outputs": [],
   "source": [
    "df=df.drop(33)"
   ]
  },
  {
   "cell_type": "code",
   "execution_count": 397,
   "metadata": {},
   "outputs": [],
   "source": [
    "clean('Agile_Mangabey')\n",
    "df=df.drop(133)"
   ]
  },
  {
   "cell_type": "code",
   "execution_count": 398,
   "metadata": {},
   "outputs": [
    {
     "data": {
      "text/plain": [
       "Bengal_Sacred_Langur       2\n",
       "Nepal_Sacred_Langur        2\n",
       "Blond_Capuchin             2\n",
       "Chamba_Sacred_Langur       2\n",
       "Greater_Bamboo_Lemur       2\n",
       "                          ..\n",
       "Red_eared_Monkey           1\n",
       "Anjiahely_Mouse_Lemur      1\n",
       "Temminick_s_Red_Colobus    1\n",
       "Stephen_Nash_s_Titi        1\n",
       "Moor_Macaque               1\n",
       "Name: CommonName, Length: 515, dtype: int64"
      ]
     },
     "execution_count": 398,
     "metadata": {},
     "output_type": "execute_result"
    }
   ],
   "source": [
    "df.CommonName.value_counts()"
   ]
  },
  {
   "cell_type": "code",
   "execution_count": 400,
   "metadata": {},
   "outputs": [],
   "source": [
    "clean('Bengal_Sacred_Langur')\n",
    "df=df.drop(690)"
   ]
  },
  {
   "cell_type": "code",
   "execution_count": 402,
   "metadata": {},
   "outputs": [],
   "source": [
    "clean('Nepal_Sacred_Langur')\n",
    "df=df.drop(698)"
   ]
  },
  {
   "cell_type": "code",
   "execution_count": 404,
   "metadata": {},
   "outputs": [],
   "source": [
    "clean('Blond_Capuchin')\n",
    "df=df.drop(674)"
   ]
  },
  {
   "cell_type": "code",
   "execution_count": 406,
   "metadata": {},
   "outputs": [],
   "source": [
    "clean('Chamba_Sacred_Langur')\n",
    "df=df.drop(689)"
   ]
  },
  {
   "cell_type": "code",
   "execution_count": 408,
   "metadata": {},
   "outputs": [],
   "source": [
    "clean('Greater_Bamboo_Lemur')\n",
    "df=df.drop(609)"
   ]
  },
  {
   "cell_type": "code",
   "execution_count": 409,
   "metadata": {},
   "outputs": [
    {
     "data": {
      "text/plain": [
       "Black_and_white_Ruffed_Lemur    2\n",
       "Diana_Monkey                    2\n",
       "Black_shanked_Douc              2\n",
       "Lac_Alaotra_Bamboo_Lemur        2\n",
       "Yellow_breasted_Capuchin        2\n",
       "                               ..\n",
       "Temminick_s_Red_Colobus         1\n",
       "Stephen_Nash_s_Titi             1\n",
       "Southern_Bamboo_Lemur           1\n",
       "Golden_bellied_Mangabey         1\n",
       "Moor_Macaque                    1\n",
       "Name: CommonName, Length: 515, dtype: int64"
      ]
     },
     "execution_count": 409,
     "metadata": {},
     "output_type": "execute_result"
    }
   ],
   "source": [
    "df.CommonName.value_counts()"
   ]
  },
  {
   "cell_type": "code",
   "execution_count": 412,
   "metadata": {},
   "outputs": [],
   "source": [
    "clean('Black_and_white_Ruffed_Lemur')\n",
    "df=df.drop(747)"
   ]
  },
  {
   "cell_type": "code",
   "execution_count": 415,
   "metadata": {},
   "outputs": [],
   "source": [
    "clean('Diana_Monkey')\n",
    "df=df.drop(147)"
   ]
  },
  {
   "cell_type": "code",
   "execution_count": 417,
   "metadata": {},
   "outputs": [],
   "source": [
    "clean('Black_shanked_Douc')\n",
    "df=df.drop(628)"
   ]
  },
  {
   "cell_type": "code",
   "execution_count": 419,
   "metadata": {},
   "outputs": [],
   "source": [
    "clean('Lac_Alaotra_Bamboo_Lemur')\n",
    "df=df.drop(261)"
   ]
  },
  {
   "cell_type": "code",
   "execution_count": 421,
   "metadata": {},
   "outputs": [],
   "source": [
    "clean('Yellow_breasted_Capuchin')\n",
    "df=df.drop(680)"
   ]
  },
  {
   "cell_type": "code",
   "execution_count": 422,
   "metadata": {},
   "outputs": [
    {
     "data": {
      "text/plain": [
       "Diademed_Sifaka            2\n",
       "Ankarana_Sportive_Lemur    2\n",
       "Red_bellied_Lemur          2\n",
       "Perrier_s_Sifaka           2\n",
       "Nilgiri_Langur             2\n",
       "                          ..\n",
       "Stephen_Nash_s_Titi        1\n",
       "Southern_Bamboo_Lemur      1\n",
       "Golden_bellied_Mangabey    1\n",
       "Mottled_face_Tamarin       1\n",
       "Moor_Macaque               1\n",
       "Name: CommonName, Length: 515, dtype: int64"
      ]
     },
     "execution_count": 422,
     "metadata": {},
     "output_type": "execute_result"
    }
   ],
   "source": [
    "df.CommonName.value_counts()"
   ]
  },
  {
   "cell_type": "code",
   "execution_count": 425,
   "metadata": {},
   "outputs": [],
   "source": [
    "clean('Diademed_Sifaka')\n",
    "df=df.drop(615)"
   ]
  },
  {
   "cell_type": "code",
   "execution_count": 427,
   "metadata": {},
   "outputs": [],
   "source": [
    "clean('Ankarana_Sportive_Lemur')\n",
    "df=df.drop(325)"
   ]
  },
  {
   "cell_type": "code",
   "execution_count": 429,
   "metadata": {},
   "outputs": [],
   "source": [
    "clean('Red_bellied_Lemur')\n",
    "df=df.drop(231)"
   ]
  },
  {
   "cell_type": "code",
   "execution_count": 431,
   "metadata": {},
   "outputs": [],
   "source": [
    "clean('Perrier_s_Sifaka')\n",
    "df=df.drop(619)"
   ]
  },
  {
   "cell_type": "code",
   "execution_count": 433,
   "metadata": {},
   "outputs": [],
   "source": [
    "clean('Nilgiri_Langur')\n",
    "df=df.drop(695)"
   ]
  },
  {
   "cell_type": "code",
   "execution_count": 434,
   "metadata": {},
   "outputs": [
    {
     "data": {
      "text/plain": [
       "Indri                           2\n",
       "Bald_Uacari                     2\n",
       "Western_Black_handed_Tamarin    2\n",
       "Gray_brown_Mouse_Lemur          2\n",
       "Weasel_Sportive_Lemur           2\n",
       "                               ..\n",
       "Stephen_Nash_s_Titi             1\n",
       "Southern_Bamboo_Lemur           1\n",
       "Golden_bellied_Mangabey         1\n",
       "Mottled_face_Tamarin            1\n",
       "Moor_Macaque                    1\n",
       "Name: CommonName, Length: 515, dtype: int64"
      ]
     },
     "execution_count": 434,
     "metadata": {},
     "output_type": "execute_result"
    }
   ],
   "source": [
    "df.CommonName.value_counts()"
   ]
  },
  {
   "cell_type": "code",
   "execution_count": 436,
   "metadata": {},
   "outputs": [],
   "source": [
    "clean('Indri')\n",
    "df=df.drop(286)"
   ]
  },
  {
   "cell_type": "code",
   "execution_count": 439,
   "metadata": {},
   "outputs": [],
   "source": [
    "clean('Bald_Uacari')\n",
    "df=df.drop(76)"
   ]
  },
  {
   "cell_type": "code",
   "execution_count": 441,
   "metadata": {},
   "outputs": [],
   "source": [
    "clean('Western_Black_handed_Tamarin')\n",
    "df=df.drop(657)"
   ]
  },
  {
   "cell_type": "code",
   "execution_count": 443,
   "metadata": {},
   "outputs": [],
   "source": [
    "clean('Gray_brown_Mouse_Lemur')\n",
    "df=df.drop(433)"
   ]
  },
  {
   "cell_type": "code",
   "execution_count": 445,
   "metadata": {},
   "outputs": [],
   "source": [
    "clean('Weasel_Sportive_Lemur')\n",
    "df=df.drop(339)"
   ]
  },
  {
   "cell_type": "code",
   "execution_count": 454,
   "metadata": {},
   "outputs": [
    {
     "data": {
      "text/plain": [
       "Southern_White_cheeked_Crested_Gibbon    2\n",
       "Gray_cheeked_Mangabey                    2\n",
       "Mountain_Dwarf_Galago                    2\n",
       "Thomas_s_Langur                          2\n",
       "Coquerel_s_Giant_Mouse_Lemur             2\n",
       "                                        ..\n",
       "Stephen_Nash_s_Titi                      1\n",
       "Southern_Bamboo_Lemur                    1\n",
       "Golden_bellied_Mangabey                  1\n",
       "Mottled_face_Tamarin                     1\n",
       "Moor_Macaque                             1\n",
       "Name: CommonName, Length: 515, dtype: int64"
      ]
     },
     "execution_count": 454,
     "metadata": {},
     "output_type": "execute_result"
    }
   ],
   "source": [
    "df.CommonName.value_counts()"
   ]
  },
  {
   "cell_type": "code",
   "execution_count": 455,
   "metadata": {},
   "outputs": [],
   "source": [
    "clean('Southern_White_cheeked_Crested_Gibbon')\n",
    "df=df.drop(470)"
   ]
  },
  {
   "cell_type": "code",
   "execution_count": 458,
   "metadata": {},
   "outputs": [],
   "source": [
    "clean('Gray_cheeked_Mangabey')\n",
    "df=df.drop(352)"
   ]
  },
  {
   "cell_type": "code",
   "execution_count": 462,
   "metadata": {},
   "outputs": [],
   "source": [
    "df=df.drop([251,500])"
   ]
  },
  {
   "cell_type": "code",
   "execution_count": 464,
   "metadata": {},
   "outputs": [],
   "source": [
    "clean('Thomas_s_Langur')\n",
    "df=df.drop(605)"
   ]
  },
  {
   "cell_type": "code",
   "execution_count": 466,
   "metadata": {},
   "outputs": [],
   "source": [
    "clean('Coquerel_s_Giant_Mouse_Lemur')\n",
    "df=df.drop(456)"
   ]
  },
  {
   "cell_type": "code",
   "execution_count": 467,
   "metadata": {},
   "outputs": [
    {
     "data": {
      "text/plain": [
       "Gray_Mouse_Lemur             2\n",
       "Pied_Tamarin                 2\n",
       "White_fronted_Brown_Lemur    2\n",
       "Red_shanked_Douc             2\n",
       "Midas_Tamarin                2\n",
       "                            ..\n",
       "Temminick_s_Red_Colobus      1\n",
       "Stephen_Nash_s_Titi          1\n",
       "Southern_Bamboo_Lemur        1\n",
       "Golden_bellied_Mangabey      1\n",
       "Moor_Macaque                 1\n",
       "Name: CommonName, Length: 514, dtype: int64"
      ]
     },
     "execution_count": 467,
     "metadata": {},
     "output_type": "execute_result"
    }
   ],
   "source": [
    "df.CommonName.value_counts()"
   ]
  },
  {
   "cell_type": "code",
   "execution_count": 469,
   "metadata": {},
   "outputs": [],
   "source": [
    "clean('Gray_Mouse_Lemur')\n",
    "df=df.drop(443)"
   ]
  },
  {
   "cell_type": "code",
   "execution_count": 471,
   "metadata": {},
   "outputs": [],
   "source": [
    "clean('Pied_Tamarin')\n",
    "df=df.drop(642)"
   ]
  },
  {
   "cell_type": "code",
   "execution_count": 473,
   "metadata": {},
   "outputs": [],
   "source": [
    "clean('White_fronted_Brown_Lemur')\n",
    "df=df.drop(216)"
   ]
  },
  {
   "cell_type": "code",
   "execution_count": 475,
   "metadata": {},
   "outputs": [],
   "source": [
    "clean('Red_shanked_Douc')\n",
    "df=df.drop(627)"
   ]
  },
  {
   "cell_type": "code",
   "execution_count": 478,
   "metadata": {},
   "outputs": [],
   "source": [
    "clean('Midas_Tamarin')\n",
    "df=df.drop(652)"
   ]
  },
  {
   "cell_type": "code",
   "execution_count": 479,
   "metadata": {},
   "outputs": [
    {
     "data": {
      "text/plain": [
       "Siberut_Macaque            2\n",
       "Müller_s_Gibbon            2\n",
       "Gray_Slender_Loris         2\n",
       "Cotton_top_Tamarin         2\n",
       "Red_Slender_Loris          2\n",
       "                          ..\n",
       "Stephen_Nash_s_Titi        1\n",
       "Southern_Bamboo_Lemur      1\n",
       "Golden_bellied_Mangabey    1\n",
       "Mottled_face_Tamarin       1\n",
       "Moor_Macaque               1\n",
       "Name: CommonName, Length: 514, dtype: int64"
      ]
     },
     "execution_count": 479,
     "metadata": {},
     "output_type": "execute_result"
    }
   ],
   "source": [
    "df.CommonName.value_counts()"
   ]
  },
  {
   "cell_type": "code",
   "execution_count": null,
   "metadata": {},
   "outputs": [],
   "source": []
  },
  {
   "cell_type": "code",
   "execution_count": 481,
   "metadata": {},
   "outputs": [],
   "source": [
    "clean('Siberut_Macaque')\n",
    "df=df.drop(390)"
   ]
  },
  {
   "cell_type": "code",
   "execution_count": 483,
   "metadata": {},
   "outputs": [],
   "source": [
    "clean('Müller_s_Gibbon')\n",
    "df=df.drop(283)"
   ]
  },
  {
   "cell_type": "code",
   "execution_count": 485,
   "metadata": {},
   "outputs": [],
   "source": [
    "clean('Gray_Slender_Loris')\n",
    "df=df.drop(359)"
   ]
  },
  {
   "cell_type": "code",
   "execution_count": 488,
   "metadata": {},
   "outputs": [],
   "source": [
    "clean('Cotton_top_Tamarin')\n",
    "df=df.drop(658)"
   ]
  },
  {
   "cell_type": "code",
   "execution_count": 490,
   "metadata": {},
   "outputs": [],
   "source": [
    "clean('Red_Slender_Loris')\n",
    "df=df.drop(361)"
   ]
  },
  {
   "cell_type": "code",
   "execution_count": 491,
   "metadata": {},
   "outputs": [
    {
     "data": {
      "text/plain": [
       "Guianan_Squirrel_Monkey    2\n",
       "Angolan_Colobus            2\n",
       "Yellow_Baboon              2\n",
       "Red_Ruffed_Lemur           2\n",
       "Eastern_Hoolock_Gibbon     2\n",
       "                          ..\n",
       "Stephen_Nash_s_Titi        1\n",
       "Southern_Bamboo_Lemur      1\n",
       "Golden_bellied_Mangabey    1\n",
       "Mottled_face_Tamarin       1\n",
       "Moor_Macaque               1\n",
       "Name: CommonName, Length: 514, dtype: int64"
      ]
     },
     "execution_count": 491,
     "metadata": {},
     "output_type": "execute_result"
    }
   ],
   "source": [
    "df.CommonName.value_counts()"
   ]
  },
  {
   "cell_type": "code",
   "execution_count": 493,
   "metadata": {},
   "outputs": [],
   "source": [
    "clean('Guianan_Squirrel_Monkey')\n",
    "df=df.drop(667)"
   ]
  },
  {
   "cell_type": "code",
   "execution_count": 495,
   "metadata": {},
   "outputs": [],
   "source": [
    "clean('Angolan_Colobus')\n",
    "df=df.drop(204)"
   ]
  },
  {
   "cell_type": "code",
   "execution_count": 497,
   "metadata": {},
   "outputs": [],
   "source": [
    "clean('Yellow_Baboon')\n",
    "df=df.drop(491)"
   ]
  },
  {
   "cell_type": "code",
   "execution_count": 499,
   "metadata": {},
   "outputs": [],
   "source": [
    "clean('Red_Ruffed_Lemur')\n",
    "df=df.drop(745)"
   ]
  },
  {
   "cell_type": "code",
   "execution_count": 503,
   "metadata": {},
   "outputs": [],
   "source": [
    "clean('Eastern_Hoolock_Gibbon')\n",
    "df=df.drop(270)"
   ]
  },
  {
   "cell_type": "code",
   "execution_count": 504,
   "metadata": {},
   "outputs": [
    {
     "data": {
      "text/plain": [
       "Guereza                         2\n",
       "White_footed_Tamarin            2\n",
       "Milne_Edwards_s_Potto           2\n",
       "Proboscis_Monkey                2\n",
       "Northern_Muriqui                2\n",
       "                               ..\n",
       "Southern_Bamboo_Lemur           1\n",
       "Golden_bellied_Mangabey         1\n",
       "Mottled_face_Tamarin            1\n",
       "Montagne_d_Ambre_Dwarf_Lemur    1\n",
       "Moor_Macaque                    1\n",
       "Name: CommonName, Length: 514, dtype: int64"
      ]
     },
     "execution_count": 504,
     "metadata": {},
     "output_type": "execute_result"
    }
   ],
   "source": [
    "df.CommonName.value_counts()"
   ]
  },
  {
   "cell_type": "code",
   "execution_count": 506,
   "metadata": {},
   "outputs": [],
   "source": [
    "clean('Guereza')\n",
    "df=df.drop(206)"
   ]
  },
  {
   "cell_type": "code",
   "execution_count": 509,
   "metadata": {},
   "outputs": [],
   "source": [
    "clean('White_footed_Tamarin')\n",
    "df=df.drop(649)"
   ]
  },
  {
   "cell_type": "code",
   "execution_count": 512,
   "metadata": {},
   "outputs": [],
   "source": [
    "clean('Milne_Edwards_s_Potto')\n",
    "df=df.drop(504)"
   ]
  },
  {
   "cell_type": "code",
   "execution_count": 514,
   "metadata": {},
   "outputs": [],
   "source": [
    "clean('Proboscis_Monkey')\n",
    "df=df.drop(459)"
   ]
  },
  {
   "cell_type": "code",
   "execution_count": 517,
   "metadata": {},
   "outputs": [],
   "source": [
    "clean('Northern_Muriqui')\n",
    "df=df.drop(74)"
   ]
  },
  {
   "cell_type": "code",
   "execution_count": 518,
   "metadata": {},
   "outputs": [
    {
     "data": {
      "text/plain": [
       "Cross_River_Squirrel_Galago      2\n",
       "Madidi_Titi                      2\n",
       "Weddells_Saddle_back_Tamarin    2\n",
       "Black_headed_Uacari              2\n",
       "Black_tailed_Marmoset            2\n",
       "                                ..\n",
       "Stephen_Nash_s_Titi              1\n",
       "Southern_Bamboo_Lemur            1\n",
       "Golden_bellied_Mangabey          1\n",
       "Mottled_face_Tamarin             1\n",
       "Moor_Macaque                     1\n",
       "Name: CommonName, Length: 514, dtype: int64"
      ]
     },
     "execution_count": 518,
     "metadata": {},
     "output_type": "execute_result"
    }
   ],
   "source": [
    "df.CommonName.value_counts()"
   ]
  },
  {
   "cell_type": "code",
   "execution_count": 520,
   "metadata": {},
   "outputs": [],
   "source": [
    "clean('Cross_River_Squirrel_Galago')\n",
    "df=df.drop(684)"
   ]
  },
  {
   "cell_type": "code",
   "execution_count": 522,
   "metadata": {},
   "outputs": [],
   "source": [
    "clean('Madidi_Titi')\n",
    "df=df.drop(555)"
   ]
  },
  {
   "cell_type": "code",
   "execution_count": 524,
   "metadata": {},
   "outputs": [],
   "source": [
    "clean('Weddells_Saddle_back_Tamarin')\n",
    "df=df.drop(311)"
   ]
  },
  {
   "cell_type": "code",
   "execution_count": 526,
   "metadata": {},
   "outputs": [],
   "source": [
    "clean('Black_headed_Uacari')\n",
    "df=df.drop(79)"
   ]
  },
  {
   "cell_type": "code",
   "execution_count": 528,
   "metadata": {},
   "outputs": [],
   "source": [
    "clean('Black_tailed_Marmoset')\n",
    "df=df.drop(421)"
   ]
  },
  {
   "cell_type": "code",
   "execution_count": 533,
   "metadata": {},
   "outputs": [
    {
     "data": {
      "text/plain": [
       "Stryker_s_Snub_nosed_Monkey     2\n",
       "Brown_Howler                    2\n",
       "Southern_Lesser_Galago          2\n",
       "Variegated_Spider_Monkey        2\n",
       "Pygmy_Slow_Loris                2\n",
       "                               ..\n",
       "Golden_bellied_Mangabey         1\n",
       "Mottled_face_Tamarin            1\n",
       "Montagne_d_Ambre_Dwarf_Lemur    1\n",
       "Delacour_s_Langur               1\n",
       "Moor_Macaque                    1\n",
       "Name: CommonName, Length: 514, dtype: int64"
      ]
     },
     "execution_count": 533,
     "metadata": {},
     "output_type": "execute_result"
    }
   ],
   "source": [
    "df.CommonName.value_counts()\n"
   ]
  },
  {
   "cell_type": "code",
   "execution_count": 535,
   "metadata": {},
   "outputs": [],
   "source": [
    "clean('Stryker_s_Snub_nosed_Monkey')\n",
    "df=df.drop(639)"
   ]
  },
  {
   "cell_type": "code",
   "execution_count": 537,
   "metadata": {},
   "outputs": [],
   "source": [
    "clean('Brown_Howler')\n",
    "df=df.drop(16)"
   ]
  },
  {
   "cell_type": "code",
   "execution_count": 539,
   "metadata": {},
   "outputs": [],
   "source": [
    "clean('Southern_Lesser_Galago')\n",
    "df=df.drop(243)"
   ]
  },
  {
   "cell_type": "code",
   "execution_count": 541,
   "metadata": {},
   "outputs": [],
   "source": [
    "clean('Variegated_Spider_Monkey')\n",
    "df=df.drop(59)"
   ]
  },
  {
   "cell_type": "code",
   "execution_count": 543,
   "metadata": {},
   "outputs": [],
   "source": [
    "clean('Pygmy_Slow_Loris')\n",
    "df=df.drop(479)"
   ]
  },
  {
   "cell_type": "code",
   "execution_count": 545,
   "metadata": {},
   "outputs": [],
   "source": [
    "df.to_csv('territoy_wip.csv')"
   ]
  },
  {
   "cell_type": "code",
   "execution_count": 546,
   "metadata": {},
   "outputs": [],
   "source": [
    "df=pd.read_csv('Locomotion.csv', encoding='latin-1')"
   ]
  },
  {
   "cell_type": "code",
   "execution_count": 547,
   "metadata": {},
   "outputs": [
    {
     "data": {
      "text/html": [
       "<div>\n",
       "<style scoped>\n",
       "    .dataframe tbody tr th:only-of-type {\n",
       "        vertical-align: middle;\n",
       "    }\n",
       "\n",
       "    .dataframe tbody tr th {\n",
       "        vertical-align: top;\n",
       "    }\n",
       "\n",
       "    .dataframe thead th {\n",
       "        text-align: right;\n",
       "    }\n",
       "</style>\n",
       "<table border=\"1\" class=\"dataframe\">\n",
       "  <thead>\n",
       "    <tr style=\"text-align: right;\">\n",
       "      <th></th>\n",
       "      <th>Family</th>\n",
       "      <th>Genus</th>\n",
       "      <th>CommonName</th>\n",
       "      <th>Species</th>\n",
       "      <th>Species (ITIS)</th>\n",
       "      <th>Locomotion</th>\n",
       "      <th>Refs</th>\n",
       "    </tr>\n",
       "  </thead>\n",
       "  <tbody>\n",
       "    <tr>\n",
       "      <th>0</th>\n",
       "      <td>Cercopithecidae</td>\n",
       "      <td>Allenopithecus</td>\n",
       "      <td>Allen_s_Swamp_Monkey</td>\n",
       "      <td>Allenopithecus_nigroviridis</td>\n",
       "      <td>Allenopithecus_nigroviridis</td>\n",
       "      <td>BOTH</td>\n",
       "      <td>377</td>\n",
       "    </tr>\n",
       "    <tr>\n",
       "      <th>1</th>\n",
       "      <td>Cheirogaleidae</td>\n",
       "      <td>Allocebus</td>\n",
       "      <td>Hairy_eared_Dwarf_Lemur</td>\n",
       "      <td>Allocebus_trichotis</td>\n",
       "      <td>Allocebus_trichotis</td>\n",
       "      <td>AR</td>\n",
       "      <td>1163</td>\n",
       "    </tr>\n",
       "    <tr>\n",
       "      <th>2</th>\n",
       "      <td>Cercopithecidae</td>\n",
       "      <td>Allochrocebus</td>\n",
       "      <td>L_Hoest_s_Monkey</td>\n",
       "      <td>Allochrocebus_lhoesti</td>\n",
       "      <td>Allochrocebus_lhoesti</td>\n",
       "      <td>T</td>\n",
       "      <td>247</td>\n",
       "    </tr>\n",
       "    <tr>\n",
       "      <th>3</th>\n",
       "      <td>Cercopithecidae</td>\n",
       "      <td>Allochrocebus</td>\n",
       "      <td>Preuss_s_Monkey</td>\n",
       "      <td>Allochrocebus_preussi</td>\n",
       "      <td>Allochrocebus_preussi</td>\n",
       "      <td>T</td>\n",
       "      <td>378</td>\n",
       "    </tr>\n",
       "    <tr>\n",
       "      <th>4</th>\n",
       "      <td>Cercopithecidae</td>\n",
       "      <td>Allochrocebus</td>\n",
       "      <td>Sun_tailed_Monkey</td>\n",
       "      <td>Allochrocebus_solatus</td>\n",
       "      <td>Allochrocebus_solatus</td>\n",
       "      <td>BOTH</td>\n",
       "      <td>1174</td>\n",
       "    </tr>\n",
       "    <tr>\n",
       "      <th>...</th>\n",
       "      <td>...</td>\n",
       "      <td>...</td>\n",
       "      <td>...</td>\n",
       "      <td>...</td>\n",
       "      <td>...</td>\n",
       "      <td>...</td>\n",
       "      <td>...</td>\n",
       "    </tr>\n",
       "    <tr>\n",
       "      <th>571</th>\n",
       "      <td>NaN</td>\n",
       "      <td>NaN</td>\n",
       "      <td>NaN</td>\n",
       "      <td>NaN</td>\n",
       "      <td>NaN</td>\n",
       "      <td>NaN</td>\n",
       "      <td>NaN</td>\n",
       "    </tr>\n",
       "    <tr>\n",
       "      <th>572</th>\n",
       "      <td>NaN</td>\n",
       "      <td>NaN</td>\n",
       "      <td>NaN</td>\n",
       "      <td>NaN</td>\n",
       "      <td>NaN</td>\n",
       "      <td>NaN</td>\n",
       "      <td>NaN</td>\n",
       "    </tr>\n",
       "    <tr>\n",
       "      <th>573</th>\n",
       "      <td>NaN</td>\n",
       "      <td>NaN</td>\n",
       "      <td>NaN</td>\n",
       "      <td>NaN</td>\n",
       "      <td>NaN</td>\n",
       "      <td>NaN</td>\n",
       "      <td>NaN</td>\n",
       "    </tr>\n",
       "    <tr>\n",
       "      <th>574</th>\n",
       "      <td>NaN</td>\n",
       "      <td>NaN</td>\n",
       "      <td>NaN</td>\n",
       "      <td>NaN</td>\n",
       "      <td>NaN</td>\n",
       "      <td>NaN</td>\n",
       "      <td>NaN</td>\n",
       "    </tr>\n",
       "    <tr>\n",
       "      <th>575</th>\n",
       "      <td>NaN</td>\n",
       "      <td>NaN</td>\n",
       "      <td>NaN</td>\n",
       "      <td>NaN</td>\n",
       "      <td>NaN</td>\n",
       "      <td>NaN</td>\n",
       "      <td>NaN</td>\n",
       "    </tr>\n",
       "  </tbody>\n",
       "</table>\n",
       "<p>576 rows × 7 columns</p>\n",
       "</div>"
      ],
      "text/plain": [
       "              Family           Genus               CommonName  \\\n",
       "0    Cercopithecidae  Allenopithecus     Allen_s_Swamp_Monkey   \n",
       "1     Cheirogaleidae       Allocebus  Hairy_eared_Dwarf_Lemur   \n",
       "2    Cercopithecidae   Allochrocebus         L_Hoest_s_Monkey   \n",
       "3    Cercopithecidae   Allochrocebus          Preuss_s_Monkey   \n",
       "4    Cercopithecidae   Allochrocebus        Sun_tailed_Monkey   \n",
       "..               ...             ...                      ...   \n",
       "571              NaN             NaN                      NaN   \n",
       "572              NaN             NaN                      NaN   \n",
       "573              NaN             NaN                      NaN   \n",
       "574              NaN             NaN                      NaN   \n",
       "575              NaN             NaN                      NaN   \n",
       "\n",
       "                         Species               Species (ITIS) Locomotion  Refs  \n",
       "0    Allenopithecus_nigroviridis  Allenopithecus_nigroviridis       BOTH   377  \n",
       "1            Allocebus_trichotis          Allocebus_trichotis         AR  1163  \n",
       "2          Allochrocebus_lhoesti        Allochrocebus_lhoesti          T   247  \n",
       "3          Allochrocebus_preussi        Allochrocebus_preussi          T   378  \n",
       "4          Allochrocebus_solatus        Allochrocebus_solatus       BOTH  1174  \n",
       "..                           ...                          ...        ...   ...  \n",
       "571                          NaN                          NaN        NaN   NaN  \n",
       "572                          NaN                          NaN        NaN   NaN  \n",
       "573                          NaN                          NaN        NaN   NaN  \n",
       "574                          NaN                          NaN        NaN   NaN  \n",
       "575                          NaN                          NaN        NaN   NaN  \n",
       "\n",
       "[576 rows x 7 columns]"
      ]
     },
     "execution_count": 547,
     "metadata": {},
     "output_type": "execute_result"
    }
   ],
   "source": [
    "df"
   ]
  },
  {
   "cell_type": "code",
   "execution_count": 548,
   "metadata": {},
   "outputs": [],
   "source": [
    "df.drop(['Species', 'Species (ITIS)', 'Refs'], axis=1, inplace=True)"
   ]
  },
  {
   "cell_type": "code",
   "execution_count": null,
   "metadata": {},
   "outputs": [],
   "source": []
  }
 ],
 "metadata": {
  "kernelspec": {
   "display_name": "Python 3",
   "language": "python",
   "name": "python3"
  },
  "language_info": {
   "codemirror_mode": {
    "name": "ipython",
    "version": 3
   },
   "file_extension": ".py",
   "mimetype": "text/x-python",
   "name": "python",
   "nbconvert_exporter": "python",
   "pygments_lexer": "ipython3",
   "version": "3.7.6"
  }
 },
 "nbformat": 4,
 "nbformat_minor": 4
}
